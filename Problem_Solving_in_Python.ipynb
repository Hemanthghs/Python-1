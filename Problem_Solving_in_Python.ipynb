{
  "nbformat": 4,
  "nbformat_minor": 0,
  "metadata": {
    "colab": {
      "name": "Problem Solving in Python.ipynb",
      "provenance": [],
      "collapsed_sections": [],
      "authorship_tag": "ABX9TyN7wahlbye72y0JAYygUhnO",
      "include_colab_link": true
    },
    "kernelspec": {
      "name": "python3",
      "display_name": "Python 3"
    },
    "language_info": {
      "name": "python"
    }
  },
  "cells": [
    {
      "cell_type": "markdown",
      "metadata": {
        "id": "view-in-github",
        "colab_type": "text"
      },
      "source": [
        "<a href=\"https://colab.research.google.com/github/Sairam-04/Python/blob/main/Problem_Solving_in_Python.ipynb\" target=\"_parent\"><img src=\"https://colab.research.google.com/assets/colab-badge.svg\" alt=\"Open In Colab\"/></a>"
      ]
    },
    {
      "cell_type": "markdown",
      "metadata": {
        "id": "3km3Afu36uJ8"
      },
      "source": [
        "#**Section 1**"
      ]
    },
    {
      "cell_type": "markdown",
      "metadata": {
        "id": "N1GeT91_6y2v"
      },
      "source": [
        "1. Write a program to demonstrate  all the Arithmetic operators"
      ]
    },
    {
      "cell_type": "code",
      "metadata": {
        "id": "0jugn_Hoz3mc",
        "colab": {
          "base_uri": "https://localhost:8080/"
        },
        "outputId": "cff434f8-f75e-4f0c-d403-2bcd343124c6"
      },
      "source": [
        "a = int(input(\"Enter the value of a:\"))\n",
        "b = int(input(\"Enter the value of b:\"))\n",
        "print(\"Addition :\",a+b)\n",
        "print(\"Subraction :\",a-b)\n",
        "print(\"Multiplication :\",a*b)\n",
        "print(\"Division :\",a/b)\n",
        "print(\"Floor Division :\",a//b)\n",
        "print(\"a power b :\",a**b)\n",
        "print(\"Modulus :\",a%b)"
      ],
      "execution_count": null,
      "outputs": [
        {
          "output_type": "stream",
          "text": [
            "Enter the value of a:5\n",
            "Enter the value of b:2\n",
            "Addition : 7\n",
            "Subraction : 3\n",
            "Multiplication : 10\n",
            "Division : 2.5\n",
            "Floor Division : 2\n",
            "a power b : 25\n",
            "Modulus : 1\n"
          ],
          "name": "stdout"
        }
      ]
    },
    {
      "cell_type": "markdown",
      "metadata": {
        "id": "ly7w7JLK7rft"
      },
      "source": [
        "2. Write a program to demonstrate all the Bitwise operators"
      ]
    },
    {
      "cell_type": "code",
      "metadata": {
        "colab": {
          "base_uri": "https://localhost:8080/"
        },
        "id": "6tHQKaKt67q6",
        "outputId": "2c14b903-9acf-4d6f-d89c-13438b947233"
      },
      "source": [
        "a = int(input(\"Enter a:\"))\n",
        "b = int(input(\"Enter b:\"))\n",
        "print(\"Bitwise Operations:\")\n",
        "print(\"a AND b :\",a&b)\n",
        "print(\"a OR b :\",a|b)\n",
        "print(\"a XOR b :\",a^b)\n",
        "print(\"NOT a :\",~a)\n",
        "print(\"NOT b :\",~b)\n",
        "print(\"a left shift b :\",a<<b)\n",
        "print(\"a right shift b :\",a>>b)"
      ],
      "execution_count": null,
      "outputs": [
        {
          "output_type": "stream",
          "text": [
            "Enter a:10\n",
            "Enter b:5\n",
            "Bitwise Operations:\n",
            "a AND b : 0\n",
            "a OR b : 15\n",
            "a XOR b : 15\n",
            "NOT a : -11\n",
            "NOT b : -6\n",
            "a left shift b : 320\n",
            "a right shift b : 0\n"
          ],
          "name": "stdout"
        }
      ]
    },
    {
      "cell_type": "markdown",
      "metadata": {
        "id": "VkT6o9uM8o9V"
      },
      "source": [
        "3. Write a program  to check whether a value is present in a sequence type, dictionary & set"
      ]
    },
    {
      "cell_type": "code",
      "metadata": {
        "colab": {
          "base_uri": "https://localhost:8080/"
        },
        "id": "ewEs6BD88mM7",
        "outputId": "4b2aec82-903f-4206-886f-7553ff1b06c3"
      },
      "source": [
        "#Dictionary\n",
        "a = {'a':1,'b':2,'c':3,'d':4}\n",
        "x = int(input(\"Enter the value to check:\"))\n",
        "if x in a.values():\n",
        "  print(str(x)+\" is present in the dictionary\")\n",
        "else:\n",
        "  print(\"x is not found in the dictionary\")"
      ],
      "execution_count": null,
      "outputs": [
        {
          "output_type": "stream",
          "text": [
            "Enter the value to check:4\n",
            "4 is present in the dictionary\n"
          ],
          "name": "stdout"
        }
      ]
    },
    {
      "cell_type": "code",
      "metadata": {
        "colab": {
          "base_uri": "https://localhost:8080/"
        },
        "id": "iK5yBPwi9i86",
        "outputId": "62a76d96-a5e4-493a-f9fa-f6c2e764b610"
      },
      "source": [
        "#Sets\n",
        "a = {10,20,30,40,50}\n",
        "x = int(input(\"Enter element to search in set:\"))\n",
        "if x in a:\n",
        "  print(x,\"is found in the set\")\n",
        "else:\n",
        "  print(\"Not found\")\n"
      ],
      "execution_count": null,
      "outputs": [
        {
          "output_type": "stream",
          "text": [
            "Enter element to search in set:20\n",
            "20 is found in the set\n"
          ],
          "name": "stdout"
        }
      ]
    },
    {
      "cell_type": "markdown",
      "metadata": {
        "id": "ItsWbU98-HGK"
      },
      "source": [
        "4. Write a program to check whether two variables are identical or not (use different types of variables and check)"
      ]
    },
    {
      "cell_type": "code",
      "metadata": {
        "colab": {
          "base_uri": "https://localhost:8080/"
        },
        "id": "FZ0kYra_-FJL",
        "outputId": "b16477c3-ed23-4838-ed9e-a5a29996e5ed"
      },
      "source": [
        "x = input(\"Enter x:\")\n",
        "y = input(\"Enter y:\")\n",
        "if x is y:\n",
        "  print(\"Both x and y are identical x:{} and y:{}\".format(x,y))\n",
        "else:\n",
        "  print(\"x and y are not identical\")"
      ],
      "execution_count": null,
      "outputs": [
        {
          "output_type": "stream",
          "text": [
            "Enter x:4\n",
            "Enter y:4\n",
            "Both x and y are identical x:4 and y:4\n"
          ],
          "name": "stdout"
        }
      ]
    },
    {
      "cell_type": "markdown",
      "metadata": {
        "id": "yXbI6iwD_dwb"
      },
      "source": [
        "5. Write a program to read student’s  name, age and cgpa and display details as follows:<br>\n",
        "Student Details:<br>\n",
        "Name  : yourname <br>\n",
        "Age : 21<br>\n",
        "Cgpa : 8.9<br>"
      ]
    },
    {
      "cell_type": "code",
      "metadata": {
        "colab": {
          "base_uri": "https://localhost:8080/"
        },
        "id": "SBwcvLbQ_Zid",
        "outputId": "bbeee24d-c3a7-4921-e5c9-0acf0d403b81"
      },
      "source": [
        "name = input(\"Enter name of the Student:\")\n",
        "age = int(input(\"Enter age of the Student:\"))\n",
        "cgpa = input(\"Enter cgpa of the Student:\")\n",
        "print(\"Student Details:\")\n",
        "print(\"Name:{}\\nAge:{}\\nCgpa:{}\".format(name,age,cgpa))"
      ],
      "execution_count": null,
      "outputs": [
        {
          "output_type": "stream",
          "text": [
            "Enter name of the Student:sairam\n",
            "Enter age of the Student:19\n",
            "Enter cgpa of the Student:8.97\n",
            "Student Details:\n",
            "Name:sairam\n",
            "Age:19\n",
            "Cgpa:8.97\n"
          ],
          "name": "stdout"
        }
      ]
    },
    {
      "cell_type": "markdown",
      "metadata": {
        "id": "sXT-fY50Aw0c"
      },
      "source": [
        "# **Section 2**"
      ]
    },
    {
      "cell_type": "markdown",
      "metadata": {
        "id": "wJ9G92MnAvjd"
      },
      "source": [
        "1.A company decides to give bonus to all its employees on Diwali. A 5% bonus on salary is given to male workers and 10% bonus to female workers on Write program to enter a number and then calculate sum of digits "
      ]
    },
    {
      "cell_type": "code",
      "metadata": {
        "colab": {
          "base_uri": "https://localhost:8080/"
        },
        "id": "A3OJK7bQAawk",
        "outputId": "e6c25825-f7bc-48a1-fc4f-abf02809ccd0"
      },
      "source": [
        "sal = float(input(\"Enter the Salary:\"))\n",
        "emp_name = input(\"Enter the name of the Employee:\")\n",
        "gender = input(\"Enter the gender of the employee(Male of Female):\")\n",
        "\n",
        "if gender == \"Male\":\n",
        "  sal += 5/100 * sal\n",
        "elif gender == \"Female\":\n",
        "  sal += 10/100 * sal\n",
        "else:\n",
        "  print(\"Invalid Input\")\n",
        "\n",
        "print(\"Salary of the Employee\",sal)"
      ],
      "execution_count": null,
      "outputs": [
        {
          "output_type": "stream",
          "text": [
            "Enter the Salary:4000\n",
            "Enter the name of the Employee:sairam\n",
            "Enter the gender of the employee(Male of Female):Male\n",
            "Salary of the Employee 4200.0\n"
          ],
          "name": "stdout"
        }
      ]
    },
    {
      "cell_type": "markdown",
      "metadata": {
        "id": "693_xYRCP824"
      },
      "source": [
        "2. Write a program to print multiplication table of n, where n is entered by the user"
      ]
    },
    {
      "cell_type": "code",
      "metadata": {
        "colab": {
          "base_uri": "https://localhost:8080/"
        },
        "id": "VPkhiaA2CCRz",
        "outputId": "3f21a0b4-ae15-4b3a-f9c5-49d8f8dcd668"
      },
      "source": [
        "n = int(input(\"Enter n:\"))\n",
        "for i in range(1,11):\n",
        "  print(\"{}X{} = {}\\n\".format(n,i,n*i))"
      ],
      "execution_count": null,
      "outputs": [
        {
          "output_type": "stream",
          "text": [
            "Enter n:5\n",
            "5X1 = 5\n",
            "\n",
            "5X2 = 10\n",
            "\n",
            "5X3 = 15\n",
            "\n",
            "5X4 = 20\n",
            "\n",
            "5X5 = 25\n",
            "\n",
            "5X6 = 30\n",
            "\n",
            "5X7 = 35\n",
            "\n",
            "5X8 = 40\n",
            "\n",
            "5X9 = 45\n",
            "\n",
            "5X10 = 50\n",
            "\n"
          ],
          "name": "stdout"
        }
      ]
    },
    {
      "cell_type": "markdown",
      "metadata": {
        "id": "4oEbWV8_Qx6F"
      },
      "source": [
        "4. Write a program to determine whether the character entered is a vowel or not"
      ]
    },
    {
      "cell_type": "code",
      "metadata": {
        "colab": {
          "base_uri": "https://localhost:8080/"
        },
        "id": "Mwz0hIl0QaWc",
        "outputId": "2082a023-85d5-4265-b273-795f110eda04"
      },
      "source": [
        "vowels = ['a','e','i','o','u']\n",
        "alpha = input('Enter any letter:')\n",
        "if alpha in vowels:\n",
        "  print(\"Given letter is a vowel\")\n",
        "else:\n",
        "  print(\"Given letter is not a vowel\")"
      ],
      "execution_count": null,
      "outputs": [
        {
          "output_type": "stream",
          "text": [
            "Enter any letter:x\n",
            "Given letter is not a vowel\n"
          ],
          "name": "stdout"
        }
      ]
    },
    {
      "cell_type": "markdown",
      "metadata": {
        "id": "vhR3B5CmRhZM"
      },
      "source": [
        "5. Write a program to calculate sum of numbers from m to n and if m>n display error message (Use while loop)"
      ]
    },
    {
      "cell_type": "code",
      "metadata": {
        "colab": {
          "base_uri": "https://localhost:8080/"
        },
        "id": "lHm_fZBzRaTL",
        "outputId": "65d67305-11e7-4b75-a834-7d6c32a2ada6"
      },
      "source": [
        "sum=0\n",
        "m = int(input(\"Enter m:\"))\n",
        "n = int(input(\"Enter n:\"))\n",
        "if m>n:\n",
        "  print(\"Error m should be less than n\")\n",
        "else:\n",
        "  i = m\n",
        "  while(i<=n):\n",
        "    sum+=i;\n",
        "    i+=1\n",
        "  print(\"Sum of numbers from {} to {} is {}\".format(m,n,sum))"
      ],
      "execution_count": null,
      "outputs": [
        {
          "output_type": "stream",
          "text": [
            "Enter m:5\n",
            "Enter n:7\n",
            "Sum of numbers from 5 to 7 is 18\n"
          ],
          "name": "stdout"
        }
      ]
    },
    {
      "cell_type": "markdown",
      "metadata": {
        "id": "c3MFJ65JTNhe"
      },
      "source": [
        "6.Write a program to generate the sequence 1, 3, 5, 7, 9… read n value. Use for loop"
      ]
    },
    {
      "cell_type": "code",
      "metadata": {
        "colab": {
          "base_uri": "https://localhost:8080/"
        },
        "id": "uVw6fot9SI3p",
        "outputId": "ad8179a2-0a89-4dd9-b6aa-23ea1b23d656"
      },
      "source": [
        "n = int(input(\"Enter n:\"))\n",
        "for i in range(1,n+1):\n",
        "  print(2*i-1, end=\", \")"
      ],
      "execution_count": null,
      "outputs": [
        {
          "output_type": "stream",
          "text": [
            "Enter n:10\n",
            "1, 3, 5, 7, 9, 11, 13, 15, 17, 19, "
          ],
          "name": "stdout"
        }
      ]
    },
    {
      "cell_type": "markdown",
      "metadata": {
        "id": "9HpLSt6FUFN0"
      },
      "source": [
        "7.     7. Write a program to print the following pattern.<br>\n",
        "1<br>\n",
        "1 2<br>\n",
        "1 2 3 <br>\n",
        "1 2 3 4<br>"
      ]
    },
    {
      "cell_type": "code",
      "metadata": {
        "colab": {
          "base_uri": "https://localhost:8080/"
        },
        "id": "lfDvOW5DTs71",
        "outputId": "82f92318-0dab-49c4-c38d-a569e4298fc5"
      },
      "source": [
        "for i in range(1,5):\n",
        "  for j in range(1,i+1):\n",
        "    print(j,end='')\n",
        "  print()"
      ],
      "execution_count": null,
      "outputs": [
        {
          "output_type": "stream",
          "text": [
            "1\n",
            "12\n",
            "123\n",
            "1234\n"
          ],
          "name": "stdout"
        }
      ]
    },
    {
      "cell_type": "markdown",
      "metadata": {
        "id": "4xAW3D_oVffK"
      },
      "source": [
        "#**Section 3**"
      ]
    },
    {
      "cell_type": "markdown",
      "metadata": {
        "id": "4wlvxj3rVhlK"
      },
      "source": [
        "1. Write a program to demonstrate string traversal using indexing"
      ]
    },
    {
      "cell_type": "code",
      "metadata": {
        "colab": {
          "base_uri": "https://localhost:8080/"
        },
        "id": "o02elQv3UicM",
        "outputId": "809ba883-c09a-42d2-8004-3e10579846ac"
      },
      "source": [
        "string = input(\"Enter any string:\")\n",
        "for i in range(0,len(string)):\n",
        "  print(string[i],end='')"
      ],
      "execution_count": null,
      "outputs": [
        {
          "output_type": "stream",
          "text": [
            "Enter any string:Hello I  am Sairam\n",
            "Hello I  am Sairam"
          ],
          "name": "stdout"
        }
      ]
    },
    {
      "cell_type": "markdown",
      "metadata": {
        "id": "4-PzMXvHV3q5"
      },
      "source": [
        "2. Write a program to demonstrate slicing on strings"
      ]
    },
    {
      "cell_type": "code",
      "metadata": {
        "colab": {
          "base_uri": "https://localhost:8080/"
        },
        "id": "rZo5bCS-Vs5G",
        "outputId": "cca3f105-e810-4bfc-c6e0-3ac362f72639"
      },
      "source": [
        "string = input(\"Enter any String:\")\n",
        "print(string[:])\n",
        "print(string[:-1])\n",
        "print(string[::])\n",
        "print(string[1:3])\n",
        "print(string[1:10:2])\n",
        "print(string[::-1])\n",
        "print(string[-4:-1])\n",
        "print(string[:10])\n",
        "print(string[:])"
      ],
      "execution_count": null,
      "outputs": [
        {
          "output_type": "stream",
          "text": [
            "Enter any String:Artificial Intelligence\n",
            "Artificial Intelligence\n",
            "Artificial Intelligenc\n",
            "Artificial Intelligence\n",
            "rt\n",
            "riiil\n",
            "ecnegilletnI laicifitrA\n",
            "enc\n",
            "Artificial\n",
            "Artificial Intelligence\n"
          ],
          "name": "stdout"
        }
      ]
    },
    {
      "cell_type": "markdown",
      "metadata": {
        "id": "EKgrfkg4WcZu"
      },
      "source": [
        "3. Write a program to print the following pattern<br>\n",
        "A<br>\n",
        "AB<br>\n",
        "ABC<br>\n",
        "ABCD<br>"
      ]
    },
    {
      "cell_type": "code",
      "metadata": {
        "colab": {
          "base_uri": "https://localhost:8080/"
        },
        "id": "s2eVVYuUWT9-",
        "outputId": "f6569e1c-ceeb-454b-881f-65cb21c61efb"
      },
      "source": [
        "n=int(input(\"Enter n:\"))\n",
        "for i in range(ord('A'),ord('A')+n):\n",
        "  for j in range(ord('A'),i+1):\n",
        "    print(chr(j),end='')\n",
        "  print()"
      ],
      "execution_count": null,
      "outputs": [
        {
          "output_type": "stream",
          "text": [
            "Enter n:4\n",
            "A\n",
            "AB\n",
            "ABC\n",
            "ABCD\n"
          ],
          "name": "stdout"
        }
      ]
    },
    {
      "cell_type": "markdown",
      "metadata": {
        "id": "9q2vTdWZXOdv"
      },
      "source": [
        "4. Write a program that takes user’s name, phone number and PAN card number as input. Validate the information using isX function and print the details."
      ]
    },
    {
      "cell_type": "code",
      "metadata": {
        "colab": {
          "base_uri": "https://localhost:8080/"
        },
        "id": "veI-8HO3W6wX",
        "outputId": "00b731d9-3b44-4d7d-e8cf-71bfbbfd9b8b"
      },
      "source": [
        "name = input(\"Enter the name:\")\n",
        "phone_number = input(\"Enter the phone number:\")\n",
        "PAN_card = input(\"Enter PAn card number:\")\n",
        "\n",
        "if (name.isalpha()):\n",
        "  print(\"User name :\",name)\n",
        "else:\n",
        "  print(\"Invalid Username..\")\n",
        "\n",
        "if phone_number.isnumeric() and len(phone_number)==10:\n",
        "  print(\"Phone Number :\",phone_number)\n",
        "else:\n",
        "  print(\"Invalid Phone Number..\")\n",
        "\n",
        "if PAN_card.isalnum() and len(PAN_card)==10:\n",
        "  print(\"PAN CarD Number :\",PAN_card)\n",
        "else:\n",
        "  print(\"Invalid PAN Card Number..\")"
      ],
      "execution_count": null,
      "outputs": [
        {
          "output_type": "stream",
          "text": [
            "Enter the name:Sairam\n",
            "Enter the phone number:9939200393\n",
            "Enter PAn card number:AAAAA8888A\n",
            "User name : Sairam\n",
            "Phone Number : 9939200393\n",
            "PAN CarD Number : AAAAA8888A\n"
          ],
          "name": "stdout"
        }
      ]
    },
    {
      "cell_type": "markdown",
      "metadata": {
        "id": "94jhvSKmYkSt"
      },
      "source": [
        "5. Write a program that accepts a string from user and displays the same string after removing vowels from it"
      ]
    },
    {
      "cell_type": "code",
      "metadata": {
        "colab": {
          "base_uri": "https://localhost:8080/"
        },
        "id": "FWLARJXVYWa8",
        "outputId": "f9478b8f-c6d0-4d90-863b-738d5dd9f98e"
      },
      "source": [
        "string = input(\"Enter any String:\")\n",
        "vowels = ['a','e','i','o','u','A','E','I','O','U']\n",
        "new_string = ''\n",
        "for ch in string:\n",
        "  if ch not in vowels:\n",
        "    new_string+=ch\n",
        "\n",
        "print(new_string)"
      ],
      "execution_count": null,
      "outputs": [
        {
          "output_type": "stream",
          "text": [
            "Enter any String:Artificial Intelligence\n",
            "rtfcl ntllgnc\n"
          ],
          "name": "stdout"
        }
      ]
    },
    {
      "cell_type": "markdown",
      "metadata": {
        "id": "uGRV6GvJbsQo"
      },
      "source": [
        "6. Write a program that reads a string and displays the number of occurrences of each character in the entered string"
      ]
    },
    {
      "cell_type": "code",
      "metadata": {
        "colab": {
          "base_uri": "https://localhost:8080/"
        },
        "id": "R7sGASkDZNV_",
        "outputId": "adeac59b-3d2c-46ac-934a-1bf2cff3688a"
      },
      "source": [
        "string = input(\"Enter any String:\")\n",
        "string_1 = ''\n",
        "for i in string:\n",
        "  if i not in string_1:\n",
        "    string_1+=i\n",
        "\n",
        "for i in string_1:\n",
        "  c = string.count(i)\n",
        "  print(i,\":\",c)"
      ],
      "execution_count": null,
      "outputs": [
        {
          "output_type": "stream",
          "text": [
            "Enter any String:aaddffggswess\n",
            "a : 2\n",
            "d : 2\n",
            "f : 2\n",
            "g : 2\n",
            "s : 3\n",
            "w : 1\n",
            "e : 1\n"
          ],
          "name": "stdout"
        }
      ]
    },
    {
      "cell_type": "markdown",
      "metadata": {
        "id": "8VPEiTk8b0st"
      },
      "source": [
        "7. Write a program to illustrate upper(), lower(), find(),split(),join(), and replace() methods on a string object"
      ]
    },
    {
      "cell_type": "code",
      "metadata": {
        "colab": {
          "base_uri": "https://localhost:8080/"
        },
        "id": "Cdf42v6Wai-8",
        "outputId": "ca4c9662-47a6-4edc-f8fa-862f303bdf45"
      },
      "source": [
        "string = input(\"Enter any String:\")\n",
        "\n",
        "print(\"upper():\",string.upper())\n",
        "print(\"lower():\",string.lower())\n",
        "\n",
        "string = \"Vidya Jyothi Institue Of technology\"\n",
        "x = input(\"Enter any letter to search in String:\")\n",
        "print(\"find()\",string.find(x))\n",
        "\n",
        "string = \"sairamramavath01@gmail.com sairamsai097@vjit.ac.in\"\n",
        "print(\"split():\",string.split('@'))\n",
        "\n",
        "s1 = \"V\"\n",
        "s2 = \"J\"\n",
        "s3 = \"I\"\n",
        "s4 = \"T\"\n",
        "print(\"join():\",\" \".join((s1,s2,s3,s4)))\n",
        "\n",
        "s = \"Hai\"\n",
        "print(\"replace()\",s.replace('a','i'))"
      ],
      "execution_count": null,
      "outputs": [
        {
          "output_type": "stream",
          "text": [
            "Enter any String:hyderaabad\n",
            "upper(): HYDERAABAD\n",
            "lower(): hyderaabad\n",
            "Enter any letter to search in String:J\n",
            "find() 6\n",
            "split(): ['sairamramavath01', 'gmail.com sairamsai097', 'vjit.ac.in']\n",
            "join(): V J I T\n",
            "replace() Hii\n"
          ],
          "name": "stdout"
        }
      ]
    },
    {
      "cell_type": "markdown",
      "metadata": {
        "id": "7jL3u86yd_cx"
      },
      "source": [
        "8. Write a program to check whether a string is a palindrome or not"
      ]
    },
    {
      "cell_type": "code",
      "metadata": {
        "colab": {
          "base_uri": "https://localhost:8080/"
        },
        "id": "cMQlo7_2dX7r",
        "outputId": "8086dcb6-2f2d-47a5-aa9e-7a762ff3aa59"
      },
      "source": [
        "string = input(\"Enter any String:\")\n",
        "rev = string[::-1]\n",
        "if string==rev:\n",
        "  print(\"string is palindrome\")\n",
        "else:\n",
        "  print(\"String is not palindrome\")"
      ],
      "execution_count": null,
      "outputs": [
        {
          "output_type": "stream",
          "text": [
            "Enter any String:A1221A\n",
            "string is palindrome\n"
          ],
          "name": "stdout"
        }
      ]
    },
    {
      "cell_type": "markdown",
      "metadata": {
        "id": "5wBcH-RNeegf"
      },
      "source": [
        "9. Write a program that takes list of words and print the longest word along with its length"
      ]
    },
    {
      "cell_type": "code",
      "metadata": {
        "colab": {
          "base_uri": "https://localhost:8080/"
        },
        "id": "23_FVKwkeRKA",
        "outputId": "84944fb5-0d47-4f79-ab8a-e6cf0aab95c4"
      },
      "source": [
        "words = input(\"Enter words in a single line\")\n",
        "words_list = words.split(\" \")\n",
        "l = words_list[0]\n",
        "for i in words_list:\n",
        "  if(len(i)>=len(l)):\n",
        "    l = i\n",
        "\n",
        "print(\"Word :{}\\n Length Of the word is: {}\".format(l,len(l)))\n",
        "\n"
      ],
      "execution_count": null,
      "outputs": [
        {
          "output_type": "stream",
          "text": [
            "Enter words in a single lineLists Tuples Sets\n",
            "Word :Tuples\n",
            " Length Of the word is: 6\n"
          ],
          "name": "stdout"
        }
      ]
    },
    {
      "cell_type": "markdown",
      "metadata": {
        "id": "JK2789Fwfy01"
      },
      "source": [
        "10. Write a program to count number of characters, words and lines in the given string"
      ]
    },
    {
      "cell_type": "code",
      "metadata": {
        "colab": {
          "base_uri": "https://localhost:8080/"
        },
        "id": "rI7TqMiiff2u",
        "outputId": "987187e8-9b98-4447-8fac-f428a61cc935"
      },
      "source": [
        "st = \"Hi I am Sairam \\n I am currently studying at VJIT\"\n",
        "print(st)\n",
        "words = st.split()\n",
        "print(\"No of Characters in a String:{}\\n No of Words in a String:{}\\n No of lines in a String:{} \".format(len(st),len(words),len(st.splitlines())))"
      ],
      "execution_count": null,
      "outputs": [
        {
          "output_type": "stream",
          "text": [
            "Hi I am Sairam \n",
            " I am currently studying at VJIT\n",
            "No of Characters in a String:48\n",
            " No of Words in a String:10\n",
            " No of lines in a String:2 \n"
          ],
          "name": "stdout"
        }
      ]
    },
    {
      "cell_type": "markdown",
      "metadata": {
        "id": "cbdO9lPWwd3R"
      },
      "source": [
        "# **Section 4**"
      ]
    },
    {
      "cell_type": "markdown",
      "metadata": {
        "id": "2C6TPiAOwg1k"
      },
      "source": [
        "1. Write a program using function ,which takes hours and minute  and return  time in minutes"
      ]
    },
    {
      "cell_type": "code",
      "metadata": {
        "colab": {
          "base_uri": "https://localhost:8080/"
        },
        "id": "hLn8MP9xgeCg",
        "outputId": "843a3944-6191-4964-dff0-0cee4fda051b"
      },
      "source": [
        "def hours2min(hrs,min):\n",
        "  return hrs*60 + min\n",
        "\n",
        "if __name__ == \"__main__\":\n",
        "  hr = int(input(\"Enter hours:\"))\n",
        "  min = int(input(\"Enter minutes:\"))\n",
        "  time = hours2min(hr,min)\n",
        "  print(time)"
      ],
      "execution_count": null,
      "outputs": [
        {
          "output_type": "stream",
          "text": [
            "Enter hours:10\n",
            "Enter minutes:30\n",
            "630\n"
          ],
          "name": "stdout"
        }
      ]
    },
    {
      "cell_type": "markdown",
      "metadata": {
        "id": "Sx4yS7g0xM-O"
      },
      "source": [
        "2. Write program that finds greatest of 3 numbers using functions. Pass the numbers as arguments"
      ]
    },
    {
      "cell_type": "code",
      "metadata": {
        "colab": {
          "base_uri": "https://localhost:8080/"
        },
        "id": "YTZFA84KxHwM",
        "outputId": "e063baa1-082c-4690-e399-2d5ea14b3d48"
      },
      "source": [
        "def greatest(a,b,c):\n",
        "  if a>=b and a>=c:\n",
        "    return a\n",
        "  elif b>=a and b>=c:\n",
        "    return b\n",
        "  else:\n",
        "    return c\n",
        "\n",
        "\n",
        "if __name__ == \"__main__\":\n",
        "  x = input(\"Enter any 3 numbers seperated by space:\").split(' ')\n",
        "  a, b, c = int(x[0]), int(x[1]), int(x[2])\n",
        "  z = greatest(a,b,c)\n",
        "  print(z)"
      ],
      "execution_count": null,
      "outputs": [
        {
          "output_type": "stream",
          "text": [
            "Enter any 3 numbers seperated by space:10 20 30\n",
            "30\n"
          ],
          "name": "stdout"
        }
      ]
    },
    {
      "cell_type": "markdown",
      "metadata": {
        "id": "QlMvKqlr59NW"
      },
      "source": [
        "3. Write a function is_prime() that returns 1 if the argument passed to it is a prime number and 0 otherwise"
      ]
    },
    {
      "cell_type": "code",
      "metadata": {
        "colab": {
          "base_uri": "https://localhost:8080/"
        },
        "id": "F6GGmcOQyAZc",
        "outputId": "ac9b6dd1-4b6f-485b-886f-cbb5c58a2bab"
      },
      "source": [
        "import math\n",
        "def is_prime(n):\n",
        "  if n==0 or n==1:\n",
        "    return 0\n",
        "  else:\n",
        "    x = int(math.sqrt(n))\n",
        "    for i in range(2,x):\n",
        "      if n%i==0:\n",
        "        return 0\n",
        "    \n",
        "    return 1\n",
        "\n",
        "\n",
        "\n",
        "if __name__ == \"__main__\":\n",
        "  n = int(input(\"Enter n:\"))\n",
        "  x = is_prime(n)\n",
        "  if(x==1):\n",
        "    print(n,\"is a prime number\")\n",
        "  else:\n",
        "    print(n,\"is not an prime number\")"
      ],
      "execution_count": null,
      "outputs": [
        {
          "output_type": "stream",
          "text": [
            "Enter n:3\n",
            "3 is a prime number\n"
          ],
          "name": "stdout"
        }
      ]
    },
    {
      "cell_type": "markdown",
      "metadata": {
        "id": "89LmdBc47gS7"
      },
      "source": [
        "4. Write a function that accepts an integer from 1 – 12 to represent the month number and display the corresponding month of the year"
      ]
    },
    {
      "cell_type": "code",
      "metadata": {
        "colab": {
          "base_uri": "https://localhost:8080/"
        },
        "id": "h94i0jHJ6rG8",
        "outputId": "12baf76f-ca42-47a7-8ef2-e96438fef8c2"
      },
      "source": [
        "def month(month):\n",
        "  month_list = ['January','Febraury','March','April','May','June','July','August','September','October','November','December']\n",
        "  return month_list[month-1]\n",
        "\n",
        "if __name__ == \"__main__\":\n",
        "  mon = int(input(\"Enter month number:\"))\n",
        "  z = month(mon)\n",
        "  print(z)"
      ],
      "execution_count": null,
      "outputs": [
        {
          "output_type": "stream",
          "text": [
            "Enter month number:5\n",
            "May\n"
          ],
          "name": "stdout"
        }
      ]
    },
    {
      "cell_type": "markdown",
      "metadata": {
        "id": "HCHuVzG48mZZ"
      },
      "source": [
        "5. Write a program using function, which takes student rollno  and 5 subjects marks as arguments and returns the average of marks"
      ]
    },
    {
      "cell_type": "code",
      "metadata": {
        "colab": {
          "base_uri": "https://localhost:8080/"
        },
        "id": "P-3UjPdR8kRl",
        "outputId": "24407f11-88ac-4277-94ee-0523330bf774"
      },
      "source": [
        "def marks(rollno,marks_list):\n",
        "  sum = 0\n",
        "  for i in marks_list:\n",
        "    sum+=int(i)\n",
        "  return sum/5\n",
        "\n",
        "if __name__ == \"__main__\":\n",
        "  rollno = input(\"Enter Rollno of the student:\")\n",
        "  m = input(\"Enter marks of 5 subjects seperated by space:\")\n",
        "  m_list = m.split(' ')\n",
        "  print(\"Avearage marks of student:\",marks(rollno,m_list))"
      ],
      "execution_count": null,
      "outputs": [
        {
          "output_type": "stream",
          "text": [
            "Enter Rollno of the student:130\n",
            "Enter marks of 5 subjects seperated by space:77 89 95 70 65\n",
            "Avearage marks of student: 79.2\n"
          ],
          "name": "stdout"
        }
      ]
    },
    {
      "cell_type": "markdown",
      "metadata": {
        "id": "SpZEFe7V96lu"
      },
      "source": [
        "6. Write a function which takes rollno, name and course as argument and print details. When course is not passed then by default ‘B.Tech’ has to be assigned"
      ]
    },
    {
      "cell_type": "code",
      "metadata": {
        "colab": {
          "base_uri": "https://localhost:8080/"
        },
        "id": "kaY9CIii90-4",
        "outputId": "1fe7fd01-61a8-421f-bd67-346131fc200b"
      },
      "source": [
        "def student_details(rollno,name,course='B.Tech'):\n",
        "  print(\"Student Details\")\n",
        "  print(\"Name : {}\\nRollno : {}\\nCourse: {}\\n\".format(rollno,name,course))\n",
        "\n",
        "student_details('19911A3542','Sairam')"
      ],
      "execution_count": null,
      "outputs": [
        {
          "output_type": "stream",
          "text": [
            "Student Details\n",
            "Name : 19911A3542\n",
            "Rollno : Sairam\n",
            "Course: B.Tech\n",
            "\n"
          ],
          "name": "stdout"
        }
      ]
    },
    {
      "cell_type": "markdown",
      "metadata": {
        "id": "VMvufUC3_gTA"
      },
      "source": [
        "7. Write a program to generate Fibonacci series up to ‘n’. Use recursion"
      ]
    },
    {
      "cell_type": "code",
      "metadata": {
        "colab": {
          "base_uri": "https://localhost:8080/"
        },
        "id": "7vPc2nkA-uzc",
        "outputId": "7c554b14-cc02-48bd-d579-4c2c7b6a2c49"
      },
      "source": [
        "def fibo(n):\n",
        "  if n<=1:\n",
        "    return n\n",
        "  else:\n",
        "    return fibo(n-1)+fibo(n-2)\n",
        "\n",
        "def fibonaci_series(l):\n",
        "  for i in range(l):\n",
        "    print(fibo(i),end=', ')\n",
        "\n",
        "if __name__ == \"__main__\":\n",
        "  n = int(input(\"Enter n:\"))\n",
        "  fibonaci_series(n)"
      ],
      "execution_count": null,
      "outputs": [
        {
          "output_type": "stream",
          "text": [
            "Enter n:10\n",
            "0, 1, 1, 2, 3, 5, 8, 13, 21, 34, "
          ],
          "name": "stdout"
        }
      ]
    },
    {
      "cell_type": "markdown",
      "metadata": {
        "id": "quiVl1GzAY-5"
      },
      "source": [
        "8. Write a program using function to perform calculator operations (Addition, subtraction, multiplication, division, modulus, exponent…) "
      ]
    },
    {
      "cell_type": "code",
      "metadata": {
        "id": "hdFcqUBvANW7"
      },
      "source": [
        "def add(a,b):\n",
        "  return a+b\n",
        "\n",
        "def sub(a,b):\n",
        "  return a-b\n",
        "\n",
        "def multiply(a,b):\n",
        "  return a*b\n",
        "\n",
        "def division(a,b):\n",
        "  return a/b\n",
        "\n",
        "def modulus(a,b):\n",
        "  return a%b\n",
        "\n",
        "def exponent(a,b):\n",
        "  return a**b\n",
        "\n",
        "def floor_division(a,b):\n",
        "  return a//b"
      ],
      "execution_count": null,
      "outputs": []
    },
    {
      "cell_type": "code",
      "metadata": {
        "colab": {
          "base_uri": "https://localhost:8080/"
        },
        "id": "9o10hkD7BKBs",
        "outputId": "3a47a6e2-487a-4f89-ab3b-bfd258e0c3e4"
      },
      "source": [
        "add(10,20)"
      ],
      "execution_count": null,
      "outputs": [
        {
          "output_type": "execute_result",
          "data": {
            "text/plain": [
              "30"
            ]
          },
          "metadata": {
            "tags": []
          },
          "execution_count": 79
        }
      ]
    },
    {
      "cell_type": "code",
      "metadata": {
        "colab": {
          "base_uri": "https://localhost:8080/"
        },
        "id": "sd332i2GBOfX",
        "outputId": "801f4134-33b3-49df-cc25-b309008edfb0"
      },
      "source": [
        "sub(100,99)"
      ],
      "execution_count": null,
      "outputs": [
        {
          "output_type": "execute_result",
          "data": {
            "text/plain": [
              "1"
            ]
          },
          "metadata": {
            "tags": []
          },
          "execution_count": 80
        }
      ]
    },
    {
      "cell_type": "code",
      "metadata": {
        "colab": {
          "base_uri": "https://localhost:8080/"
        },
        "id": "re5wT1xwBQdx",
        "outputId": "1304da64-e99b-4187-d6d0-242099a65db2"
      },
      "source": [
        "multiply(99902,199899)"
      ],
      "execution_count": null,
      "outputs": [
        {
          "output_type": "execute_result",
          "data": {
            "text/plain": [
              "19970309898"
            ]
          },
          "metadata": {
            "tags": []
          },
          "execution_count": 85
        }
      ]
    },
    {
      "cell_type": "code",
      "metadata": {
        "colab": {
          "base_uri": "https://localhost:8080/"
        },
        "id": "XMCniB_kBSzF",
        "outputId": "3c44b0f6-b4ad-4d70-b908-2866cec8f9aa"
      },
      "source": [
        "division(99,5)"
      ],
      "execution_count": null,
      "outputs": [
        {
          "output_type": "execute_result",
          "data": {
            "text/plain": [
              "19.8"
            ]
          },
          "metadata": {
            "tags": []
          },
          "execution_count": 86
        }
      ]
    },
    {
      "cell_type": "code",
      "metadata": {
        "colab": {
          "base_uri": "https://localhost:8080/"
        },
        "id": "0kcK6umuBc_v",
        "outputId": "9899e4bc-a0a8-48f0-885e-c7d13bbe902e"
      },
      "source": [
        "modulus(33,2)"
      ],
      "execution_count": null,
      "outputs": [
        {
          "output_type": "execute_result",
          "data": {
            "text/plain": [
              "1"
            ]
          },
          "metadata": {
            "tags": []
          },
          "execution_count": 87
        }
      ]
    },
    {
      "cell_type": "code",
      "metadata": {
        "colab": {
          "base_uri": "https://localhost:8080/"
        },
        "id": "QQ2uqt83Bf4g",
        "outputId": "072961ce-ef9d-4603-b1f2-9faf8ee21e74"
      },
      "source": [
        "exponent(3,10)"
      ],
      "execution_count": null,
      "outputs": [
        {
          "output_type": "execute_result",
          "data": {
            "text/plain": [
              "59049"
            ]
          },
          "metadata": {
            "tags": []
          },
          "execution_count": 88
        }
      ]
    },
    {
      "cell_type": "code",
      "metadata": {
        "colab": {
          "base_uri": "https://localhost:8080/"
        },
        "id": "rvZnC6bmBiER",
        "outputId": "a2760aa2-2529-4fb8-df11-a29414fcffb3"
      },
      "source": [
        "floor_division(99,5)"
      ],
      "execution_count": null,
      "outputs": [
        {
          "output_type": "execute_result",
          "data": {
            "text/plain": [
              "19"
            ]
          },
          "metadata": {
            "tags": []
          },
          "execution_count": 89
        }
      ]
    },
    {
      "cell_type": "markdown",
      "metadata": {
        "id": "U5grfCeiBnJL"
      },
      "source": [
        "9. Write a program to count number of times a recursive function is called"
      ]
    },
    {
      "cell_type": "code",
      "metadata": {
        "colab": {
          "base_uri": "https://localhost:8080/"
        },
        "id": "cLikR0d4Bl_H",
        "outputId": "885f6880-58bd-40b4-b431-338d8a259777"
      },
      "source": [
        "count = 0\n",
        "def fun(n):\n",
        "  global count\n",
        "  count+=1\n",
        "  if n<10:\n",
        "    return 0\n",
        "  else:\n",
        "    return fun(n-1)\n",
        "\n",
        "\n",
        "fun(120)\n",
        "print(\"No of times recursive function is called:\",count)"
      ],
      "execution_count": null,
      "outputs": [
        {
          "output_type": "stream",
          "text": [
            "No of times recursive function is called: 112\n"
          ],
          "name": "stdout"
        }
      ]
    },
    {
      "cell_type": "markdown",
      "metadata": {
        "id": "P_cfaNm0Cap3"
      },
      "source": [
        "10. Write a program to compute F(M, N) , where F(M, N) can be recursively defined as <br>\n",
        "F(M, N) = 1   \t\t\t\t\tif M=0 or M >= N >= 1<br>\n",
        "F(M, N) = F(M-1, N) + F(M-1, N-1) \t\totherwise<br>"
      ]
    },
    {
      "cell_type": "code",
      "metadata": {
        "id": "64fjqhCtCR62"
      },
      "source": [
        "def F(M,N):\n",
        "  if M==0 or (M>=N and M>=1):\n",
        "    return 1\n",
        "  else:\n",
        "    return F(M-1,N) + F(M-1,N-1)"
      ],
      "execution_count": null,
      "outputs": []
    },
    {
      "cell_type": "code",
      "metadata": {
        "colab": {
          "base_uri": "https://localhost:8080/"
        },
        "id": "edUlgXi7DKV0",
        "outputId": "877590ee-3442-46be-c278-4e2ee90ba75d"
      },
      "source": [
        "F(2,3)"
      ],
      "execution_count": null,
      "outputs": [
        {
          "output_type": "execute_result",
          "data": {
            "text/plain": [
              "4"
            ]
          },
          "metadata": {
            "tags": []
          },
          "execution_count": 94
        }
      ]
    },
    {
      "cell_type": "code",
      "metadata": {
        "colab": {
          "base_uri": "https://localhost:8080/"
        },
        "id": "Pdss2QpGDMeu",
        "outputId": "e8c0b780-6f50-4c77-f300-9908c2da8bea"
      },
      "source": [
        "F(1,1)"
      ],
      "execution_count": null,
      "outputs": [
        {
          "output_type": "execute_result",
          "data": {
            "text/plain": [
              "1"
            ]
          },
          "metadata": {
            "tags": []
          },
          "execution_count": 95
        }
      ]
    },
    {
      "cell_type": "code",
      "metadata": {
        "colab": {
          "base_uri": "https://localhost:8080/"
        },
        "id": "ExAPvOkADOaV",
        "outputId": "37ba7bfa-1c37-4d1c-f282-54a6dc200c42"
      },
      "source": [
        "F(22,55)"
      ],
      "execution_count": null,
      "outputs": [
        {
          "output_type": "execute_result",
          "data": {
            "text/plain": [
              "4194304"
            ]
          },
          "metadata": {
            "tags": []
          },
          "execution_count": 96
        }
      ]
    },
    {
      "cell_type": "markdown",
      "metadata": {
        "id": "W8JvnI6rDTUD"
      },
      "source": [
        "# **Section 5**"
      ]
    },
    {
      "cell_type": "markdown",
      "metadata": {
        "id": "vnLOqP0TDY79"
      },
      "source": [
        "1. Write a python program to find sum of elements in a list"
      ]
    },
    {
      "cell_type": "code",
      "metadata": {
        "colab": {
          "base_uri": "https://localhost:8080/"
        },
        "id": "Ikh_EQF7DRE5",
        "outputId": "ef36216f-d54c-4e22-bc4c-41aa91de4856"
      },
      "source": [
        "x = input(\"Enter elements in a list seperated by space:\")\n",
        "li = x.split(' ')\n",
        "sum=0\n",
        "for i in li:\n",
        "  sum+=int(i)\n",
        "\n",
        "print(\"Sum of the numbers in a list:\",sum)"
      ],
      "execution_count": null,
      "outputs": [
        {
          "output_type": "stream",
          "text": [
            "Enter elements in a list seperated by space:10 20 30 40 50 60\n",
            "Sum of the numbers in a list: 210\n"
          ],
          "name": "stdout"
        }
      ]
    },
    {
      "cell_type": "markdown",
      "metadata": {
        "id": "2lLYU1aDEGX-"
      },
      "source": [
        "2. Write a program to find largest and second largest number in a list"
      ]
    },
    {
      "cell_type": "code",
      "metadata": {
        "colab": {
          "base_uri": "https://localhost:8080/"
        },
        "id": "zqL-New2DxAB",
        "outputId": "0a69da2a-bd2b-414f-bfc3-376b4ccc3db1"
      },
      "source": [
        "y = input(\"Enter elements in a list seperated by space:\").split(' ')\n",
        "a = list(set(y))\n",
        "a.sort()\n",
        "print(\"Largest number in list: {}\\nSecond Largest in list: {}\".format(a[-1],a[-2]))"
      ],
      "execution_count": null,
      "outputs": [
        {
          "output_type": "stream",
          "text": [
            "Enter elements in a list seperated by space:11 17 88 13 15\n",
            "Largest number in list88\n",
            "Second Largest in list17\n"
          ],
          "name": "stdout"
        }
      ]
    },
    {
      "cell_type": "markdown",
      "metadata": {
        "id": "iFA_7QMuF2aA"
      },
      "source": [
        "3. Write a program to interchange first and last elements in a list"
      ]
    },
    {
      "cell_type": "code",
      "metadata": {
        "colab": {
          "base_uri": "https://localhost:8080/"
        },
        "id": "h7VZnicZEplT",
        "outputId": "92c95d14-f80a-451e-c94d-91557b384241"
      },
      "source": [
        "li = input(\"Enter element in a list seperated by a space:\").split(' ')\n",
        "print(li)\n",
        "li[-1],li[0] = li[0],li[-1]\n",
        "print(li)\n"
      ],
      "execution_count": null,
      "outputs": [
        {
          "output_type": "stream",
          "text": [
            "Enter element in a list seperated by a space:11 12 13 14 15 a b c 13 d\n",
            "['11', '12', '13', '14', '15', 'a', 'b', 'c', '13', 'd']\n",
            "['d', '12', '13', '14', '15', 'a', 'b', 'c', '13', '11']\n"
          ],
          "name": "stdout"
        }
      ]
    },
    {
      "cell_type": "markdown",
      "metadata": {
        "id": "sbStZHuLGfoo"
      },
      "source": [
        "4. Write a Program to multiply two matrices using list\n"
      ]
    },
    {
      "cell_type": "code",
      "metadata": {
        "colab": {
          "base_uri": "https://localhost:8080/"
        },
        "id": "6nX5_Yg7GVJi",
        "outputId": "52c7d2f1-bd99-47af-afaa-684f8cd9c3e6"
      },
      "source": [
        "mat1 = [\n",
        "        [3,3,3],\n",
        "        [3,3,3],\n",
        "        [3,3,3]\n",
        "]\n",
        "mat2 = [\n",
        "        [1,1,1],\n",
        "        [1,1,1],\n",
        "        [1,1,1]\n",
        "]\n",
        "\n",
        "for i in range(3):\n",
        "  for j in range(3):\n",
        "    p = 0\n",
        "    for k in range(3):\n",
        "      p = p+ mat1[i][k]*mat2[k][j]\n",
        "\n",
        "    print(p,end=' ')\n",
        "  print()"
      ],
      "execution_count": null,
      "outputs": [
        {
          "output_type": "stream",
          "text": [
            "9 9 9 \n",
            "9 9 9 \n",
            "9 9 9 \n"
          ],
          "name": "stdout"
        }
      ]
    },
    {
      "cell_type": "markdown",
      "metadata": {
        "id": "gdZ3aavdIIkz"
      },
      "source": [
        "5. Write a program to  Transpose a matrix using list"
      ]
    },
    {
      "cell_type": "code",
      "metadata": {
        "colab": {
          "base_uri": "https://localhost:8080/"
        },
        "id": "16cAQ6LRHgDi",
        "outputId": "94ae1334-04f9-4c23-cb9d-1042183d83b8"
      },
      "source": [
        "mat_a = [\n",
        "         [2,3,5],\n",
        "         [7,3,2],\n",
        "         [11,2,6]\n",
        "]\n",
        "Transpose_mat_a = []\n",
        "for i in range(3):\n",
        "  for j in range(3):\n",
        "    print(mat_a[j][i],end=' ')\n",
        "  print()\n"
      ],
      "execution_count": null,
      "outputs": [
        {
          "output_type": "stream",
          "text": [
            "2 7 11 \n",
            "3 3 2 \n",
            "5 2 6 \n"
          ],
          "name": "stdout"
        }
      ]
    },
    {
      "cell_type": "markdown",
      "metadata": {
        "id": "KZTUDOtUKX6G"
      },
      "source": [
        "6. Write a program to implement stack operations using list"
      ]
    },
    {
      "cell_type": "code",
      "metadata": {
        "id": "MphiPa-RI1FS"
      },
      "source": [
        "stack = []\n",
        "\n",
        "def push(x):\n",
        "  global stack\n",
        "  stack.append(x)\n",
        "  print(\"Successfully appended\")\n",
        "\n",
        "def pop():\n",
        "  global stack\n",
        "  print(\"\\n{} is removed from the stack\\n\".format(stack.pop()))\n",
        "\n",
        "def Display():\n",
        "  global stack\n",
        "  print(\"\\n\")\n",
        "  for i in stack:\n",
        "    print(i,end=' ')\n",
        "  print(\"\\n\")\n",
        "  \n",
        "def top():\n",
        "  global stack\n",
        "  print(\"\\nTop element in the Stack:{} \\n\".format(stack[-1]))"
      ],
      "execution_count": null,
      "outputs": []
    },
    {
      "cell_type": "code",
      "metadata": {
        "colab": {
          "base_uri": "https://localhost:8080/"
        },
        "id": "m9QnO-FJLa0Y",
        "outputId": "4d606a5b-70d1-4e97-fbd7-8ccabd8c3e61"
      },
      "source": [
        "push(10)\n",
        "push(20)\n",
        "push(30)\n",
        "push(100)\n",
        "push(20)\n",
        "Display()\n",
        "top()\n",
        "pop()\n",
        "pop()\n",
        "Display()\n",
        "top()\n",
        "Display()"
      ],
      "execution_count": null,
      "outputs": [
        {
          "output_type": "stream",
          "text": [
            "Successfully appended\n",
            "Successfully appended\n",
            "Successfully appended\n",
            "Successfully appended\n",
            "Successfully appended\n",
            "\n",
            "\n",
            "10 20 30 100 20 \n",
            "\n",
            "Top element in the Stack:20 \n",
            "\n",
            "20 is removed from the stack\n",
            "\n",
            "100 is removed from the stack\n",
            "\n",
            "\n",
            "\n",
            "10 20 30 \n",
            "\n",
            "Top element in the Stack:30 \n",
            "\n",
            "\n",
            "\n",
            "10 20 30 \n",
            "\n"
          ],
          "name": "stdout"
        }
      ]
    },
    {
      "cell_type": "markdown",
      "metadata": {
        "id": "u5b4_dmmMbYq"
      },
      "source": [
        " 7. Write a program to print the number of occurrences of a character in a given string using dictionary<br>\n",
        "Example:<br>\n",
        "Input: ‘Hello’<br>\n",
        "Output: {‘H’:1,’e’:1, ’l’:2, ’o’:1}<br>"
      ]
    },
    {
      "cell_type": "code",
      "metadata": {
        "colab": {
          "base_uri": "https://localhost:8080/"
        },
        "id": "D5v7GBGvLoZO",
        "outputId": "e101d2d0-ec9f-4538-f18d-caf4150560ed"
      },
      "source": [
        "string1 = input(\"Enter any string:\")\n",
        "string2 = ''\n",
        "dict1 = dict ()\n",
        "for i in string1:\n",
        "  if i not in string2:\n",
        "    string2+=i\n",
        "\n",
        "for i in string2:\n",
        "  if i in string1:\n",
        "    dict1.update({i:string1.count(i)})\n",
        "\n",
        "print(dict1)\n",
        "\n"
      ],
      "execution_count": null,
      "outputs": [
        {
          "output_type": "stream",
          "text": [
            "Enter any string:hello\n",
            "{'h': 1, 'e': 1, 'l': 2, 'o': 1}\n"
          ],
          "name": "stdout"
        }
      ]
    },
    {
      "cell_type": "markdown",
      "metadata": {
        "id": "cUfWylM8B6uX"
      },
      "source": [
        "8. Write a python program to print keys and values using predefined functions"
      ]
    },
    {
      "cell_type": "code",
      "metadata": {
        "colab": {
          "base_uri": "https://localhost:8080/"
        },
        "id": "vpbPmExEB0Uh",
        "outputId": "f183909d-14ce-4adf-f51a-af2e04065ce9"
      },
      "source": [
        "dict_a = {'a':1,'b':2,'c':3,'d':4,'e':5}\n",
        "print('Keys:')\n",
        "for i in dict_a.keys():\n",
        "  print(i,end=' ')\n",
        "\n",
        "print('\\nValues:')\n",
        "for i in dict_a.values():\n",
        "  print(i,end=' ')\n",
        "\n",
        "print('\\nKey Value Pairs:')\n",
        "for i in dict_a.items():\n",
        "  print(i,end=' ')"
      ],
      "execution_count": null,
      "outputs": [
        {
          "output_type": "stream",
          "text": [
            "Keys:\n",
            "a b c d e \n",
            "Values:\n",
            "1 2 3 4 5 \n",
            "Key Value Pairs:\n",
            "('a', 1) ('b', 2) ('c', 3) ('d', 4) ('e', 5) "
          ],
          "name": "stdout"
        }
      ]
    },
    {
      "cell_type": "markdown",
      "metadata": {
        "id": "10iGW4OXChlD"
      },
      "source": [
        "9.     9. Write a program to print a histogram of frequencies of characters occurring in a string<br>\n",
        "Example:<br>\n",
        "Msg= ‘helloworld’<br>\n",
        "Example Output:<br>\n",
        "h  *<br>\n",
        "e  *<br>\n",
        "l   ***<br>\n",
        "o  **<br>\n",
        "w  *<br>\n",
        "r    *<br>\n",
        "d   *<br>"
      ]
    },
    {
      "cell_type": "code",
      "metadata": {
        "colab": {
          "base_uri": "https://localhost:8080/"
        },
        "id": "vYOFtAdOCZ9V",
        "outputId": "517a7082-8c7d-4458-da05-f32b8fdcb953"
      },
      "source": [
        "string1 = input(\"Enter any string:\")\n",
        "string2 = ''\n",
        "dict1 = dict ()\n",
        "for i in string1:\n",
        "  if i not in string2:\n",
        "    string2+=i\n",
        "\n",
        "for i in string2:\n",
        "  if i in string1:\n",
        "    dict1.update({i:string1.count(i)})\n",
        "\n",
        "for i,j in zip(dict1.keys(),dict1.values()):\n",
        "  print(i,j*'*')\n"
      ],
      "execution_count": null,
      "outputs": [
        {
          "output_type": "stream",
          "text": [
            "Enter any string:hello world\n",
            "h *\n",
            "e *\n",
            "l ***\n",
            "o **\n",
            "  *\n",
            "w *\n",
            "r *\n",
            "d *\n"
          ],
          "name": "stdout"
        }
      ]
    },
    {
      "cell_type": "markdown",
      "metadata": {
        "id": "dvMRnMs9DGpi"
      },
      "source": [
        "10. Write a program that reads a string and print the occurrence of each word in the dictionary format.<br>\n",
        "Example:<br>\n",
        " Str = ‘how much wood would a woodchuck chuck if a woodchuck could chuck wood’<br>\n",
        "{ ‘how’: 1, ‘much’:1, ‘wood’:2, ‘would’:1, ‘a’:2, ‘woodchuck’:2….}"
      ]
    },
    {
      "cell_type": "code",
      "metadata": {
        "colab": {
          "base_uri": "https://localhost:8080/"
        },
        "id": "hgOoKnf4C8OI",
        "outputId": "55da712a-ef39-4481-8a4c-751132d08fd0"
      },
      "source": [
        "string1 = input(\"Enter any string:\").split(' ')\n",
        "string2 = []\n",
        "dict1 = dict ()\n",
        "for i in string1:\n",
        "  if i not in string2:\n",
        "    string2.append(i)\n",
        "\n",
        "for i in string2:\n",
        "  if i in string1:\n",
        "    dict1.update({i:string1.count(i)})\n",
        "\n",
        "print(dict1)\n",
        "\n"
      ],
      "execution_count": null,
      "outputs": [
        {
          "output_type": "stream",
          "text": [
            "Enter any string:how much wood would a woodchuck chuck if a woodchuck could chuck wood\n",
            "{'how': 1, 'much': 1, 'wood': 2, 'would': 1, 'a': 2, 'woodchuck': 2, 'chuck': 2, 'if': 1, 'could': 1}\n"
          ],
          "name": "stdout"
        }
      ]
    },
    {
      "cell_type": "markdown",
      "metadata": {
        "id": "XkHL5KmyDxx9"
      },
      "source": [
        "11.  Create a dictionary of products purchased and their MRPs. Calculate the bill and  display it to the customer."
      ]
    },
    {
      "cell_type": "code",
      "metadata": {
        "colab": {
          "base_uri": "https://localhost:8080/"
        },
        "id": "duwWtXThDWU3",
        "outputId": "dfe0c86d-4cc3-47eb-c78d-1c5eaa701199"
      },
      "source": [
        "products = {'Earphones':600,'Pen-Drive':400,'Keyboard':1000,'Mouse':400}\n",
        "total_amount=0\n",
        "for i in products.values():\n",
        "  total_amount+=i\n",
        "print(\"Total Bill\")\n",
        "for i,j in zip(products.keys(),products.values()):\n",
        "  print(i+\" \"+str(j))\n",
        "\n",
        "print(\"Total Amount : {}\".format(total_amount))"
      ],
      "execution_count": null,
      "outputs": [
        {
          "output_type": "stream",
          "text": [
            "Total Bill\n",
            "Earphones 600\n",
            "Pen-Drive 400\n",
            "Keyboard 1000\n",
            "Mouse 400\n",
            "Total Amount : 2400\n"
          ],
          "name": "stdout"
        }
      ]
    },
    {
      "cell_type": "markdown",
      "metadata": {
        "id": "qcl2Lmt8FD2m"
      },
      "source": [
        "12. Write a program that displays a menu and its price. Take the order from the customer. Check if the ordered product is in the menu. In case it is not present, the customer should be asked to reorder. And if it is present then product should be added in the bill."
      ]
    },
    {
      "cell_type": "code",
      "metadata": {
        "id": "T-_nrKR5V3an"
      },
      "source": [
        "items = {'Banana Milk Shake':30,'Pine apple Shake':30,'Oreo Shake':100,'chocolate Milk shake':120,'Mango Shake':80,'Butter scotch':90}\n",
        "items_list = [x for x in items.keys()]\n",
        "ordered_items = {}\n",
        "n = None\n",
        "total_amount = 0"
      ],
      "execution_count": null,
      "outputs": []
    },
    {
      "cell_type": "code",
      "metadata": {
        "id": "Sxn7tmFnE94c"
      },
      "source": [
        "\n",
        "def menu():\n",
        "  global items, ordered_items, items_list,n\n",
        "  print(\"*********** MENU **************\")\n",
        "  for i in range(len(items_list)):\n",
        "    print(str(i+1)+'. '+items_list[i]+'  '+str(items[items_list[i]]))\n",
        "\n",
        "\n",
        "def order():\n",
        "  global items, ordered_items, items_list,n,total_amount\n",
        "  menu()\n",
        "  n = int(input(\"Enter the ID of the Item:\"))\n",
        "  if n<=6 and n>=1:\n",
        "    p = items_list[n-1]\n",
        "    ordered_items.update({p:items[p]})\n",
        "  else:\n",
        "    print(\"Please reorder the item u asked is not there in the list:\")\n",
        "    order()\n",
        "    \n",
        "\n",
        "\n",
        "def bill():\n",
        "  global items, ordered_items, items_list,total_amount,prices\n",
        "  print(\"---------------Total Bill-------------\")\n",
        "  for i,j in zip(ordered_items.keys(),ordered_items.values()):\n",
        "    print(i+'  '+str(j))\n",
        "  for i in ordered_items.values():\n",
        "    total_amount+=i\n",
        "  print(\"Total amount:\",total_amount)\n",
        "\n"
      ],
      "execution_count": null,
      "outputs": []
    },
    {
      "cell_type": "code",
      "metadata": {
        "colab": {
          "base_uri": "https://localhost:8080/"
        },
        "id": "dTBROtBjHV68",
        "outputId": "24bfa651-85a7-4e28-f8c0-0490cc1683ad"
      },
      "source": [
        "if __name__ == \"__main__\":\n",
        "  ord1=0\n",
        "  while True:\n",
        "    print(\"1:Display_Menu\\n2:Order_Items\\n3:Display_Bill\\n4.Exit\\n\")\n",
        "    choice = int(input(\"Enter your choice(1-4):\"))\n",
        "    if choice==1:\n",
        "      menu()\n",
        "    if choice==2:\n",
        "      no_of_items = int(input(\"Enter the number of items to order:\"))\n",
        "      for i in range(no_of_items):\n",
        "        ord1 = 1 \n",
        "        order()\n",
        "\n",
        "    if choice==3 and ord1 == 1:\n",
        "      bill()\n",
        "      break\n",
        "    else:\n",
        "      print()\n",
        "\n",
        "    if choice==4:\n",
        "      break"
      ],
      "execution_count": null,
      "outputs": [
        {
          "output_type": "stream",
          "text": [
            "1:Display_Menu\n",
            "2:Order_Items\n",
            "3:Display_Bill\n",
            "4.Exit\n",
            "\n",
            "Enter your choice(1-4):1\n",
            "*********** MENU **************\n",
            "1. Banana Milk Shake  30\n",
            "2. Pine apple Shake  30\n",
            "3. Oreo Shake  100\n",
            "4. chocolate Milk shake  120\n",
            "5. Mango Shake  80\n",
            "6. Butter scotch  90\n",
            "\n",
            "1:Display_Menu\n",
            "2:Order_Items\n",
            "3:Display_Bill\n",
            "4.Exit\n",
            "\n",
            "Enter your choice(1-4):3\n",
            "\n",
            "1:Display_Menu\n",
            "2:Order_Items\n",
            "3:Display_Bill\n",
            "4.Exit\n",
            "\n",
            "Enter your choice(1-4):2\n",
            "Enter the number of items to order:3\n",
            "*********** MENU **************\n",
            "1. Banana Milk Shake  30\n",
            "2. Pine apple Shake  30\n",
            "3. Oreo Shake  100\n",
            "4. chocolate Milk shake  120\n",
            "5. Mango Shake  80\n",
            "6. Butter scotch  90\n",
            "Enter the ID of the Item:3\n",
            "*********** MENU **************\n",
            "1. Banana Milk Shake  30\n",
            "2. Pine apple Shake  30\n",
            "3. Oreo Shake  100\n",
            "4. chocolate Milk shake  120\n",
            "5. Mango Shake  80\n",
            "6. Butter scotch  90\n",
            "Enter the ID of the Item:4\n",
            "*********** MENU **************\n",
            "1. Banana Milk Shake  30\n",
            "2. Pine apple Shake  30\n",
            "3. Oreo Shake  100\n",
            "4. chocolate Milk shake  120\n",
            "5. Mango Shake  80\n",
            "6. Butter scotch  90\n",
            "Enter the ID of the Item:6\n",
            "\n",
            "1:Display_Menu\n",
            "2:Order_Items\n",
            "3:Display_Bill\n",
            "4.Exit\n",
            "\n",
            "Enter your choice(1-4):3\n",
            "---------------Total Bill-------------\n",
            "Oreo Shake  100\n",
            "chocolate Milk shake  120\n",
            "Butter scotch  90\n",
            "Total amount: 310\n"
          ],
          "name": "stdout"
        }
      ]
    },
    {
      "cell_type": "code",
      "metadata": {
        "id": "qmnWFheDCYqo"
      },
      "source": [
        ""
      ],
      "execution_count": null,
      "outputs": []
    }
  ]
}