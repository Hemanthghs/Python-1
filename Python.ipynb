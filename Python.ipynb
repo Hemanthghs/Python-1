{
  "nbformat": 4,
  "nbformat_minor": 0,
  "metadata": {
    "colab": {
      "name": "Python.ipynb",
      "provenance": []
    },
    "kernelspec": {
      "name": "python3",
      "display_name": "Python 3"
    },
    "language_info": {
      "name": "python"
    }
  },
  "cells": [
    {
      "cell_type": "markdown",
      "metadata": {
        "id": "qElVL2Trj0Om"
      },
      "source": [
        "## Datatypes"
      ]
    },
    {
      "cell_type": "code",
      "metadata": {
        "colab": {
          "base_uri": "https://localhost:8080/"
        },
        "id": "ukfOVglIjj7n",
        "outputId": "0191bb4a-5730-479a-acc1-66cf4cd9fcef"
      },
      "source": [
        "12+13"
      ],
      "execution_count": 3,
      "outputs": [
        {
          "output_type": "execute_result",
          "data": {
            "text/plain": [
              "25"
            ]
          },
          "metadata": {
            "tags": []
          },
          "execution_count": 3
        }
      ]
    },
    {
      "cell_type": "code",
      "metadata": {
        "colab": {
          "base_uri": "https://localhost:8080/"
        },
        "id": "RqX8nZwwj74U",
        "outputId": "0d003c4d-e5c2-4b13-9e7d-1626ae3e42ca"
      },
      "source": [
        "print(15*20)"
      ],
      "execution_count": 4,
      "outputs": [
        {
          "output_type": "stream",
          "text": [
            "300\n"
          ],
          "name": "stdout"
        }
      ]
    },
    {
      "cell_type": "code",
      "metadata": {
        "colab": {
          "base_uri": "https://localhost:8080/"
        },
        "id": "-ivqDvurl6mr",
        "outputId": "1fbedd83-0119-493b-8519-3f2acf37bb9d"
      },
      "source": [
        "print(\"This is the print statement\")"
      ],
      "execution_count": 5,
      "outputs": [
        {
          "output_type": "stream",
          "text": [
            "This is the print statement\n"
          ],
          "name": "stdout"
        }
      ]
    },
    {
      "cell_type": "code",
      "metadata": {
        "colab": {
          "base_uri": "https://localhost:8080/"
        },
        "id": "-pmEWC-ol6jX",
        "outputId": "2289ec11-b03d-4792-9569-c95428c63579"
      },
      "source": [
        "print(\"My name is 'Sairam' \")"
      ],
      "execution_count": 6,
      "outputs": [
        {
          "output_type": "stream",
          "text": [
            "My name is 'Sairam' \n"
          ],
          "name": "stdout"
        }
      ]
    },
    {
      "cell_type": "code",
      "metadata": {
        "colab": {
          "base_uri": "https://localhost:8080/"
        },
        "id": "sYl23wKgl6gJ",
        "outputId": "48d1f907-9540-4c40-b948-af45d11febe2"
      },
      "source": [
        "print('''\n",
        "This is the \n",
        "python notebook\n",
        "''')"
      ],
      "execution_count": 7,
      "outputs": [
        {
          "output_type": "stream",
          "text": [
            "\n",
            "This is the \n",
            "python notebook\n",
            "\n"
          ],
          "name": "stdout"
        }
      ]
    },
    {
      "cell_type": "code",
      "metadata": {
        "colab": {
          "base_uri": "https://localhost:8080/"
        },
        "id": "AFWE3uV5l6dA",
        "outputId": "62669a47-4b46-40fa-9f38-a6a546dab6d6"
      },
      "source": [
        "print('''\n",
        "This is the\\\n",
        " python notebook\\\n",
        "''')"
      ],
      "execution_count": 8,
      "outputs": [
        {
          "output_type": "stream",
          "text": [
            "\n",
            "This is the python notebook\n"
          ],
          "name": "stdout"
        }
      ]
    },
    {
      "cell_type": "code",
      "metadata": {
        "colab": {
          "base_uri": "https://localhost:8080/"
        },
        "id": "5ky1eOotj90Z",
        "outputId": "79e54241-d50b-4e3f-85ea-48f26da76828"
      },
      "source": [
        "a = 10\n",
        "b = 20\n",
        "print(a+b)"
      ],
      "execution_count": 9,
      "outputs": [
        {
          "output_type": "stream",
          "text": [
            "30\n"
          ],
          "name": "stdout"
        }
      ]
    },
    {
      "cell_type": "code",
      "metadata": {
        "colab": {
          "base_uri": "https://localhost:8080/"
        },
        "id": "c-0xPnh7lLQp",
        "outputId": "9c30f7c4-5af4-436b-8397-407586417eb7"
      },
      "source": [
        "a3 = float (input())\n",
        "b3 = float (input())\n",
        "print(a3+b3)\n"
      ],
      "execution_count": 10,
      "outputs": [
        {
          "output_type": "stream",
          "text": [
            "5\n",
            "7\n",
            "12.0\n"
          ],
          "name": "stdout"
        }
      ]
    },
    {
      "cell_type": "code",
      "metadata": {
        "colab": {
          "base_uri": "https://localhost:8080/"
        },
        "id": "y4BW-l1MlLMk",
        "outputId": "48a0c82a-ee8f-4cc9-e72a-bf101d40e5f8"
      },
      "source": [
        "s = 'a'\n",
        "print(s)\n",
        "print(type (s))"
      ],
      "execution_count": 11,
      "outputs": [
        {
          "output_type": "stream",
          "text": [
            "a\n",
            "<class 'str'>\n"
          ],
          "name": "stdout"
        }
      ]
    },
    {
      "cell_type": "code",
      "metadata": {
        "colab": {
          "base_uri": "https://localhost:8080/"
        },
        "id": "Oy_uUERclLJj",
        "outputId": "67f828eb-3dbe-47d7-c64d-4205444608c9"
      },
      "source": [
        "string = \"Hello world\"\n",
        "print(string)\n",
        "print(type (string))"
      ],
      "execution_count": 12,
      "outputs": [
        {
          "output_type": "stream",
          "text": [
            "Hello world\n",
            "<class 'str'>\n"
          ],
          "name": "stdout"
        }
      ]
    },
    {
      "cell_type": "code",
      "metadata": {
        "colab": {
          "base_uri": "https://localhost:8080/"
        },
        "id": "8Xk7trLIm3Lg",
        "outputId": "d56291fd-90f6-4964-f2a7-cf1dc4c1737f"
      },
      "source": [
        "a = 1+2j\n",
        "print(a)\n",
        "print(type (a))"
      ],
      "execution_count": 13,
      "outputs": [
        {
          "output_type": "stream",
          "text": [
            "(1+2j)\n",
            "<class 'complex'>\n"
          ],
          "name": "stdout"
        }
      ]
    },
    {
      "cell_type": "code",
      "metadata": {
        "colab": {
          "base_uri": "https://localhost:8080/"
        },
        "id": "7YdqLfzBm3HZ",
        "outputId": "0ae01f91-d39d-47ab-e230-0030e75ee54b"
      },
      "source": [
        "a = 1+2j\n",
        "b = 3+5j\n",
        "print(a+b)"
      ],
      "execution_count": 14,
      "outputs": [
        {
          "output_type": "stream",
          "text": [
            "(4+7j)\n"
          ],
          "name": "stdout"
        }
      ]
    },
    {
      "cell_type": "code",
      "metadata": {
        "colab": {
          "base_uri": "https://localhost:8080/"
        },
        "id": "gK6AIso0nXgm",
        "outputId": "78821a4a-bb9a-4d15-f1df-f7ba67aebbb7"
      },
      "source": [
        "a = complex (input())\n",
        "print(a)"
      ],
      "execution_count": 15,
      "outputs": [
        {
          "output_type": "stream",
          "text": [
            "5\n",
            "(5+0j)\n"
          ],
          "name": "stdout"
        }
      ]
    },
    {
      "cell_type": "code",
      "metadata": {
        "colab": {
          "base_uri": "https://localhost:8080/"
        },
        "id": "WdF6I-Qsz7vs",
        "outputId": "465a552d-2d8e-4106-b3ca-942ff83f63d3"
      },
      "source": [
        "a = True\n",
        "print(type(a))"
      ],
      "execution_count": 16,
      "outputs": [
        {
          "output_type": "stream",
          "text": [
            "<class 'bool'>\n"
          ],
          "name": "stdout"
        }
      ]
    },
    {
      "cell_type": "code",
      "metadata": {
        "colab": {
          "base_uri": "https://localhost:8080/"
        },
        "id": "-JEe68SWz7rZ",
        "outputId": "eea144b8-2fa6-43e1-bc2c-68068f641217"
      },
      "source": [
        "a = 1\n",
        "bool(a)"
      ],
      "execution_count": 17,
      "outputs": [
        {
          "output_type": "execute_result",
          "data": {
            "text/plain": [
              "True"
            ]
          },
          "metadata": {
            "tags": []
          },
          "execution_count": 17
        }
      ]
    },
    {
      "cell_type": "code",
      "metadata": {
        "colab": {
          "base_uri": "https://localhost:8080/"
        },
        "id": "PVaHUACHnfPS",
        "outputId": "74de160c-5f82-4f3f-8de1-b98f4886c9b2"
      },
      "source": [
        "ord('a')"
      ],
      "execution_count": 18,
      "outputs": [
        {
          "output_type": "execute_result",
          "data": {
            "text/plain": [
              "97"
            ]
          },
          "metadata": {
            "tags": []
          },
          "execution_count": 18
        }
      ]
    },
    {
      "cell_type": "code",
      "metadata": {
        "colab": {
          "base_uri": "https://localhost:8080/"
        },
        "id": "zMcmGy9AnfMP",
        "outputId": "cc2d9d68-0812-444c-e354-ffb2295613bc"
      },
      "source": [
        "ord('c')"
      ],
      "execution_count": 19,
      "outputs": [
        {
          "output_type": "execute_result",
          "data": {
            "text/plain": [
              "99"
            ]
          },
          "metadata": {
            "tags": []
          },
          "execution_count": 19
        }
      ]
    },
    {
      "cell_type": "code",
      "metadata": {
        "colab": {
          "base_uri": "https://localhost:8080/",
          "height": 35
        },
        "id": "McKBrXbpn0bo",
        "outputId": "8fe205de-e2db-4d02-e220-76cec649196c"
      },
      "source": [
        "chr(99)"
      ],
      "execution_count": 20,
      "outputs": [
        {
          "output_type": "execute_result",
          "data": {
            "application/vnd.google.colaboratory.intrinsic+json": {
              "type": "string"
            },
            "text/plain": [
              "'c'"
            ]
          },
          "metadata": {
            "tags": []
          },
          "execution_count": 20
        }
      ]
    },
    {
      "cell_type": "code",
      "metadata": {
        "colab": {
          "base_uri": "https://localhost:8080/"
        },
        "id": "_dhJFaTQn3Ce",
        "outputId": "cf6d4138-df47-466d-b6ba-b30f1a195848"
      },
      "source": [
        "for i in range(97,123):\n",
        "  print(str (i),\" : \",chr(i))"
      ],
      "execution_count": 21,
      "outputs": [
        {
          "output_type": "stream",
          "text": [
            "97  :  a\n",
            "98  :  b\n",
            "99  :  c\n",
            "100  :  d\n",
            "101  :  e\n",
            "102  :  f\n",
            "103  :  g\n",
            "104  :  h\n",
            "105  :  i\n",
            "106  :  j\n",
            "107  :  k\n",
            "108  :  l\n",
            "109  :  m\n",
            "110  :  n\n",
            "111  :  o\n",
            "112  :  p\n",
            "113  :  q\n",
            "114  :  r\n",
            "115  :  s\n",
            "116  :  t\n",
            "117  :  u\n",
            "118  :  v\n",
            "119  :  w\n",
            "120  :  x\n",
            "121  :  y\n",
            "122  :  z\n"
          ],
          "name": "stdout"
        }
      ]
    },
    {
      "cell_type": "code",
      "metadata": {
        "id": "nSeXBSVontn_"
      },
      "source": [
        "# for i in range(0,10000):\n",
        "#   print(str(i),\" : \",chr(i))"
      ],
      "execution_count": 22,
      "outputs": []
    },
    {
      "cell_type": "code",
      "metadata": {
        "colab": {
          "base_uri": "https://localhost:8080/"
        },
        "id": "WJmbZo2zoPWN",
        "outputId": "ab55e142-e223-42b0-c9c2-827eef03a146"
      },
      "source": [
        "print(str (ord('B')) +\" :\",str (chr(66)))"
      ],
      "execution_count": 23,
      "outputs": [
        {
          "output_type": "stream",
          "text": [
            "66 : B\n"
          ],
          "name": "stdout"
        }
      ]
    },
    {
      "cell_type": "code",
      "metadata": {
        "colab": {
          "base_uri": "https://localhost:8080/"
        },
        "id": "t9LTYNAIoPSv",
        "outputId": "c658895e-dadf-4a74-865f-c0f8f3a6f397"
      },
      "source": [
        "d = 103\n",
        "complex(d)"
      ],
      "execution_count": 24,
      "outputs": [
        {
          "output_type": "execute_result",
          "data": {
            "text/plain": [
              "(103+0j)"
            ]
          },
          "metadata": {
            "tags": []
          },
          "execution_count": 24
        }
      ]
    },
    {
      "cell_type": "code",
      "metadata": {
        "colab": {
          "base_uri": "https://localhost:8080/"
        },
        "id": "9BY3wUoooPOx",
        "outputId": "a772b212-8923-453c-ab13-fd26938d2dd8"
      },
      "source": [
        "e = 100.1234522\n",
        "int (e)"
      ],
      "execution_count": 25,
      "outputs": [
        {
          "output_type": "execute_result",
          "data": {
            "text/plain": [
              "100"
            ]
          },
          "metadata": {
            "tags": []
          },
          "execution_count": 25
        }
      ]
    },
    {
      "cell_type": "code",
      "metadata": {
        "colab": {
          "base_uri": "https://localhost:8080/"
        },
        "id": "R920TsvNoPLi",
        "outputId": "85bd15a8-03c5-4205-97ba-1f48f9ff10e7"
      },
      "source": [
        "complex (e)"
      ],
      "execution_count": 26,
      "outputs": [
        {
          "output_type": "execute_result",
          "data": {
            "text/plain": [
              "(100.1234522+0j)"
            ]
          },
          "metadata": {
            "tags": []
          },
          "execution_count": 26
        }
      ]
    },
    {
      "cell_type": "code",
      "metadata": {
        "id": "KLQHltvcoPI3"
      },
      "source": [
        "v = 10"
      ],
      "execution_count": 27,
      "outputs": []
    },
    {
      "cell_type": "code",
      "metadata": {
        "id": "TyRoD5WmoO5c"
      },
      "source": [
        "v_ = 10"
      ],
      "execution_count": 28,
      "outputs": []
    },
    {
      "cell_type": "code",
      "metadata": {
        "colab": {
          "base_uri": "https://localhost:8080/"
        },
        "id": "5zL6_nBnoO21",
        "outputId": "a695818d-3295-4339-b53d-81d5e734d46c"
      },
      "source": [
        "_ = 10\n",
        "print(_)"
      ],
      "execution_count": 29,
      "outputs": [
        {
          "output_type": "stream",
          "text": [
            "10\n"
          ],
          "name": "stdout"
        }
      ]
    },
    {
      "cell_type": "code",
      "metadata": {
        "colab": {
          "base_uri": "https://localhost:8080/"
        },
        "id": "uDkKr5HsoOzZ",
        "outputId": "baf95f24-33fe-4af1-da5b-12dd8cdf1b78"
      },
      "source": [
        "_v = 100\n",
        "print(_v)"
      ],
      "execution_count": 30,
      "outputs": [
        {
          "output_type": "stream",
          "text": [
            "100\n"
          ],
          "name": "stdout"
        }
      ]
    },
    {
      "cell_type": "code",
      "metadata": {
        "colab": {
          "base_uri": "https://localhost:8080/"
        },
        "id": "gvokJjsupDB2",
        "outputId": "aff82d89-56f4-4cb0-d587-0278a368e5d7"
      },
      "source": [
        "v23 = 21\n",
        "print(v23)"
      ],
      "execution_count": 31,
      "outputs": [
        {
          "output_type": "stream",
          "text": [
            "21\n"
          ],
          "name": "stdout"
        }
      ]
    },
    {
      "cell_type": "code",
      "metadata": {
        "colab": {
          "base_uri": "https://localhost:8080/"
        },
        "id": "yx9mX1q4pC84",
        "outputId": "a5c0fcad-3c2e-4ebc-f1ad-737e779a2957"
      },
      "source": [
        "a,b = 1,2\n",
        "print(a,b)"
      ],
      "execution_count": 32,
      "outputs": [
        {
          "output_type": "stream",
          "text": [
            "1 2\n"
          ],
          "name": "stdout"
        }
      ]
    },
    {
      "cell_type": "code",
      "metadata": {
        "colab": {
          "base_uri": "https://localhost:8080/"
        },
        "id": "F4LhjvVopC5v",
        "outputId": "29f249ce-addf-4cc7-a940-5ac1b77a0b9e"
      },
      "source": [
        "a,b,c,d,e = 10,20,30,40,50\n",
        "\n",
        "print(a,b,c,d,e)"
      ],
      "execution_count": 33,
      "outputs": [
        {
          "output_type": "stream",
          "text": [
            "10 20 30 40 50\n"
          ],
          "name": "stdout"
        }
      ]
    },
    {
      "cell_type": "code",
      "metadata": {
        "colab": {
          "base_uri": "https://localhost:8080/"
        },
        "id": "RB9hjlMhs9z2",
        "outputId": "b3158378-ec54-47ca-9dc5-95863e4c93a5"
      },
      "source": [
        "type('abs')"
      ],
      "execution_count": 34,
      "outputs": [
        {
          "output_type": "execute_result",
          "data": {
            "text/plain": [
              "str"
            ]
          },
          "metadata": {
            "tags": []
          },
          "execution_count": 34
        }
      ]
    },
    {
      "cell_type": "markdown",
      "metadata": {
        "id": "jyHv_V6dpZhR"
      },
      "source": [
        "#Operators"
      ]
    },
    {
      "cell_type": "markdown",
      "metadata": {
        "id": "pmsW7WBvqZ7H"
      },
      "source": [
        "**Arithmetic Operators**"
      ]
    },
    {
      "cell_type": "code",
      "metadata": {
        "colab": {
          "base_uri": "https://localhost:8080/"
        },
        "id": "yXDrdyOCkARN",
        "outputId": "0c944a8c-ccec-457e-bd24-f5858b2e7514"
      },
      "source": [
        "3a = int(input(\"Enter value of a:\"))\n",
        "b = int(input(\"Enter value of b:\"))\n",
        "print(a+b)"
      ],
      "execution_count": 35,
      "outputs": [
        {
          "output_type": "stream",
          "text": [
            "Enter value of a:3\n",
            "Enter value of b:3\n",
            "6\n"
          ],
          "name": "stdout"
        }
      ]
    },
    {
      "cell_type": "code",
      "metadata": {
        "colab": {
          "base_uri": "https://localhost:8080/"
        },
        "id": "HKWFubLAkQEW",
        "outputId": "9e0de56f-8987-4ab5-d1e8-c5af65cadc30"
      },
      "source": [
        "print(a*b)"
      ],
      "execution_count": 36,
      "outputs": [
        {
          "output_type": "stream",
          "text": [
            "9\n"
          ],
          "name": "stdout"
        }
      ]
    },
    {
      "cell_type": "code",
      "metadata": {
        "colab": {
          "base_uri": "https://localhost:8080/"
        },
        "id": "tiLAdUDgkZoV",
        "outputId": "635bfb15-92c1-4435-c9b2-3c8b00684790"
      },
      "source": [
        "print(a-b)"
      ],
      "execution_count": 37,
      "outputs": [
        {
          "output_type": "stream",
          "text": [
            "0\n"
          ],
          "name": "stdout"
        }
      ]
    },
    {
      "cell_type": "code",
      "metadata": {
        "colab": {
          "base_uri": "https://localhost:8080/"
        },
        "id": "6_LfUfMFkbE-",
        "outputId": "63ef2172-1914-470f-d261-df30b9942c4d"
      },
      "source": [
        "print(a/b)"
      ],
      "execution_count": 38,
      "outputs": [
        {
          "output_type": "stream",
          "text": [
            "1.0\n"
          ],
          "name": "stdout"
        }
      ]
    },
    {
      "cell_type": "code",
      "metadata": {
        "colab": {
          "base_uri": "https://localhost:8080/"
        },
        "id": "c-WX4vMSkcfs",
        "outputId": "532b56ee-3522-4b22-c863-c366698990c4"
      },
      "source": [
        "# a power b\n",
        "a_1 = int (input(\"Enter the value:\"))\n",
        "b_1 = int (input(\"Enter the value:\"))\n",
        "print(a_1**b_1)"
      ],
      "execution_count": 39,
      "outputs": [
        {
          "output_type": "stream",
          "text": [
            "Enter the value:2\n",
            "Enter the value:4\n",
            "16\n"
          ],
          "name": "stdout"
        }
      ]
    },
    {
      "cell_type": "code",
      "metadata": {
        "colab": {
          "base_uri": "https://localhost:8080/"
        },
        "id": "vegFwdYQksXc",
        "outputId": "368ed20e-b5fc-4442-ad63-05a816b0fdcc"
      },
      "source": [
        "a2 = int (input())\n",
        "b2 = int (input())\n",
        "print(a2%b2)"
      ],
      "execution_count": 40,
      "outputs": [
        {
          "output_type": "stream",
          "text": [
            "111\n",
            "4\n",
            "3\n"
          ],
          "name": "stdout"
        }
      ]
    },
    {
      "cell_type": "code",
      "metadata": {
        "colab": {
          "base_uri": "https://localhost:8080/"
        },
        "id": "FQm8mEq6lBgL",
        "outputId": "a06a1479-9579-4f21-c247-54a61d84d901"
      },
      "source": [
        "a = 100\n",
        "b = 12.3\n",
        "print(a+b)\n",
        "print(type(a+b))"
      ],
      "execution_count": 41,
      "outputs": [
        {
          "output_type": "stream",
          "text": [
            "112.3\n",
            "<class 'float'>\n"
          ],
          "name": "stdout"
        }
      ]
    },
    {
      "cell_type": "code",
      "metadata": {
        "colab": {
          "base_uri": "https://localhost:8080/"
        },
        "id": "iDDKV4LPpsRK",
        "outputId": "b1ccfa45-a17e-48e4-99e6-7c1bdb67bfdc"
      },
      "source": [
        "a = 1.1\n",
        "b= 2\n",
        "print(a/b)\n"
      ],
      "execution_count": 42,
      "outputs": [
        {
          "output_type": "stream",
          "text": [
            "0.55\n"
          ],
          "name": "stdout"
        }
      ]
    },
    {
      "cell_type": "code",
      "metadata": {
        "colab": {
          "base_uri": "https://localhost:8080/"
        },
        "id": "lCL_rjBQpxdG",
        "outputId": "b662272d-3492-462a-b13b-7d0f5b9b054b"
      },
      "source": [
        "a = 20\n",
        "b = 3\n",
        "print(a//b)"
      ],
      "execution_count": 43,
      "outputs": [
        {
          "output_type": "stream",
          "text": [
            "6\n"
          ],
          "name": "stdout"
        }
      ]
    },
    {
      "cell_type": "markdown",
      "metadata": {
        "id": "V6JxL6D3txmP"
      },
      "source": [
        "Assignment Operators"
      ]
    },
    {
      "cell_type": "code",
      "metadata": {
        "colab": {
          "base_uri": "https://localhost:8080/"
        },
        "id": "MT1jBxCip3ms",
        "outputId": "876edcf9-29e8-487e-fb26-8de22fc97569"
      },
      "source": [
        "v = 10\n",
        "v+=1\n",
        "print(v)"
      ],
      "execution_count": 44,
      "outputs": [
        {
          "output_type": "stream",
          "text": [
            "11\n"
          ],
          "name": "stdout"
        }
      ]
    },
    {
      "cell_type": "code",
      "metadata": {
        "colab": {
          "base_uri": "https://localhost:8080/"
        },
        "id": "UYvtiA3ap9xd",
        "outputId": "0b20092d-bd7e-4f8b-aaba-01da39651522"
      },
      "source": [
        "v-=1\n",
        "print(v)"
      ],
      "execution_count": 45,
      "outputs": [
        {
          "output_type": "stream",
          "text": [
            "10\n"
          ],
          "name": "stdout"
        }
      ]
    },
    {
      "cell_type": "code",
      "metadata": {
        "colab": {
          "base_uri": "https://localhost:8080/"
        },
        "id": "nIMPa3R2p-4K",
        "outputId": "7f2564af-f2cd-4d99-88a3-c9789ca611eb"
      },
      "source": [
        "v *=10\n",
        "print(v)"
      ],
      "execution_count": 46,
      "outputs": [
        {
          "output_type": "stream",
          "text": [
            "100\n"
          ],
          "name": "stdout"
        }
      ]
    },
    {
      "cell_type": "code",
      "metadata": {
        "colab": {
          "base_uri": "https://localhost:8080/"
        },
        "id": "U7zm4ekrqDu5",
        "outputId": "f68bdc99-c71f-4ca9-d690-97c30c3d648a"
      },
      "source": [
        "v //=5\n",
        "print(v)"
      ],
      "execution_count": 47,
      "outputs": [
        {
          "output_type": "stream",
          "text": [
            "20\n"
          ],
          "name": "stdout"
        }
      ]
    },
    {
      "cell_type": "code",
      "metadata": {
        "colab": {
          "base_uri": "https://localhost:8080/"
        },
        "id": "prYga8poqKTF",
        "outputId": "a6034967-cfa3-4ae1-9708-52758d97da3c"
      },
      "source": [
        "v /=5\n",
        "print(v)"
      ],
      "execution_count": 48,
      "outputs": [
        {
          "output_type": "stream",
          "text": [
            "4.0\n"
          ],
          "name": "stdout"
        }
      ]
    },
    {
      "cell_type": "code",
      "metadata": {
        "colab": {
          "base_uri": "https://localhost:8080/"
        },
        "id": "7SF7tbG3qMhw",
        "outputId": "c2512dc4-d797-4ce1-f7c8-39e8a7bf98ca"
      },
      "source": [
        "v **=2\n",
        "print(v)"
      ],
      "execution_count": 49,
      "outputs": [
        {
          "output_type": "stream",
          "text": [
            "16.0\n"
          ],
          "name": "stdout"
        }
      ]
    },
    {
      "cell_type": "code",
      "metadata": {
        "colab": {
          "base_uri": "https://localhost:8080/"
        },
        "id": "L2JjTMvgt5rs",
        "outputId": "ce1a2881-8c36-46ae-970c-399877190d04"
      },
      "source": [
        "v %= 3\n",
        "print(v)"
      ],
      "execution_count": 50,
      "outputs": [
        {
          "output_type": "stream",
          "text": [
            "1.0\n"
          ],
          "name": "stdout"
        }
      ]
    },
    {
      "cell_type": "code",
      "metadata": {
        "colab": {
          "base_uri": "https://localhost:8080/"
        },
        "id": "wTqHEvt_t_iN",
        "outputId": "c21e91b8-6505-4c38-89c1-631a3488eb80"
      },
      "source": [
        "v = 100\n",
        "v &=3\n",
        "print(v)"
      ],
      "execution_count": 51,
      "outputs": [
        {
          "output_type": "stream",
          "text": [
            "0\n"
          ],
          "name": "stdout"
        }
      ]
    },
    {
      "cell_type": "code",
      "metadata": {
        "colab": {
          "base_uri": "https://localhost:8080/"
        },
        "id": "00Z4z08JuGDh",
        "outputId": "d5010228-9568-47ff-aebb-9f431c61c025"
      },
      "source": [
        "v = 7\n",
        "v |=3\n",
        "print(v)\n",
        "# 0111\n",
        "# 0011\n",
        "#--------\n",
        "# 0111"
      ],
      "execution_count": 52,
      "outputs": [
        {
          "output_type": "stream",
          "text": [
            "7\n"
          ],
          "name": "stdout"
        }
      ]
    },
    {
      "cell_type": "code",
      "metadata": {
        "colab": {
          "base_uri": "https://localhost:8080/"
        },
        "id": "QqZ_kIwHukvr",
        "outputId": "87f4fef6-caea-412a-b4d3-0f93f9f4dfc3"
      },
      "source": [
        "v = 8\n",
        "v>>=5\n",
        "print(v)"
      ],
      "execution_count": 53,
      "outputs": [
        {
          "output_type": "stream",
          "text": [
            "0\n"
          ],
          "name": "stdout"
        }
      ]
    },
    {
      "cell_type": "code",
      "metadata": {
        "colab": {
          "base_uri": "https://localhost:8080/"
        },
        "id": "d-6xCuReuL2d",
        "outputId": "dd0e0aab-075a-4216-ae19-a2f7fb291fdb"
      },
      "source": [
        "v = 20\n",
        "v ^=5\n",
        "print(v)"
      ],
      "execution_count": 54,
      "outputs": [
        {
          "output_type": "stream",
          "text": [
            "17\n"
          ],
          "name": "stdout"
        }
      ]
    },
    {
      "cell_type": "code",
      "metadata": {
        "colab": {
          "base_uri": "https://localhost:8080/"
        },
        "id": "DGMaaqoHrhc7",
        "outputId": "35614455-4264-4574-edb2-a9e48a41ff3b"
      },
      "source": [
        "x = 5\n",
        "x<<=1    # 5 = 0101  1 = 0001\n",
        "print(x)"
      ],
      "execution_count": 55,
      "outputs": [
        {
          "output_type": "stream",
          "text": [
            "10\n"
          ],
          "name": "stdout"
        }
      ]
    },
    {
      "cell_type": "markdown",
      "metadata": {
        "id": "pV33nb8gvISi"
      },
      "source": [
        "Comparision Operators"
      ]
    },
    {
      "cell_type": "code",
      "metadata": {
        "colab": {
          "base_uri": "https://localhost:8080/"
        },
        "id": "TVjW3tObqO_j",
        "outputId": "9159f813-cffb-4ac8-886f-3b04ffe8a95a"
      },
      "source": [
        "x = 20\n",
        "x == 5"
      ],
      "execution_count": 56,
      "outputs": [
        {
          "output_type": "execute_result",
          "data": {
            "text/plain": [
              "False"
            ]
          },
          "metadata": {
            "tags": []
          },
          "execution_count": 56
        }
      ]
    },
    {
      "cell_type": "code",
      "metadata": {
        "colab": {
          "base_uri": "https://localhost:8080/"
        },
        "id": "N3hb7V5AvaCN",
        "outputId": "e086b429-ca91-45cd-ea4e-cadefbe8f6f7"
      },
      "source": [
        "f = 'sop'\n",
        "f == 5"
      ],
      "execution_count": 57,
      "outputs": [
        {
          "output_type": "execute_result",
          "data": {
            "text/plain": [
              "False"
            ]
          },
          "metadata": {
            "tags": []
          },
          "execution_count": 57
        }
      ]
    },
    {
      "cell_type": "code",
      "metadata": {
        "colab": {
          "base_uri": "https://localhost:8080/"
        },
        "id": "WP_oUoOlvdz5",
        "outputId": "0dc0749f-910f-416a-834b-2b405501c544"
      },
      "source": [
        "x = 3\n",
        "y = 5\n",
        "x != y"
      ],
      "execution_count": 58,
      "outputs": [
        {
          "output_type": "execute_result",
          "data": {
            "text/plain": [
              "True"
            ]
          },
          "metadata": {
            "tags": []
          },
          "execution_count": 58
        }
      ]
    },
    {
      "cell_type": "code",
      "metadata": {
        "colab": {
          "base_uri": "https://localhost:8080/"
        },
        "id": "0mxM35NqvhAT",
        "outputId": "bf4808be-2016-45f8-c485-12ef7f9b55f5"
      },
      "source": [
        "x = 10\n",
        "y = 20\n",
        "x<y"
      ],
      "execution_count": 59,
      "outputs": [
        {
          "output_type": "execute_result",
          "data": {
            "text/plain": [
              "True"
            ]
          },
          "metadata": {
            "tags": []
          },
          "execution_count": 59
        }
      ]
    },
    {
      "cell_type": "code",
      "metadata": {
        "colab": {
          "base_uri": "https://localhost:8080/"
        },
        "id": "S0M4jTMGvlsz",
        "outputId": "34d3947f-b300-4542-9b24-9970429f299c"
      },
      "source": [
        "x>y"
      ],
      "execution_count": 60,
      "outputs": [
        {
          "output_type": "execute_result",
          "data": {
            "text/plain": [
              "False"
            ]
          },
          "metadata": {
            "tags": []
          },
          "execution_count": 60
        }
      ]
    },
    {
      "cell_type": "code",
      "metadata": {
        "colab": {
          "base_uri": "https://localhost:8080/"
        },
        "id": "L45A5EUIvmXI",
        "outputId": "e1229eac-caf8-45cd-9182-71500aa685fe"
      },
      "source": [
        "x+=20\n",
        "x>y"
      ],
      "execution_count": 61,
      "outputs": [
        {
          "output_type": "execute_result",
          "data": {
            "text/plain": [
              "True"
            ]
          },
          "metadata": {
            "tags": []
          },
          "execution_count": 61
        }
      ]
    },
    {
      "cell_type": "code",
      "metadata": {
        "colab": {
          "base_uri": "https://localhost:8080/"
        },
        "id": "jdWqMn_Nvp_P",
        "outputId": "0b3bd858-efc9-4ce2-922d-2881bdd7e3f7"
      },
      "source": [
        "x = 20\n",
        "y = 20\n",
        "x<=y"
      ],
      "execution_count": 62,
      "outputs": [
        {
          "output_type": "execute_result",
          "data": {
            "text/plain": [
              "True"
            ]
          },
          "metadata": {
            "tags": []
          },
          "execution_count": 62
        }
      ]
    },
    {
      "cell_type": "code",
      "metadata": {
        "colab": {
          "base_uri": "https://localhost:8080/"
        },
        "id": "Au_IxeHevuYT",
        "outputId": "ff952bd0-15db-472f-9861-cc695c23082a"
      },
      "source": [
        "a = 1\n",
        "b = 12\n",
        "x>=y"
      ],
      "execution_count": 63,
      "outputs": [
        {
          "output_type": "execute_result",
          "data": {
            "text/plain": [
              "True"
            ]
          },
          "metadata": {
            "tags": []
          },
          "execution_count": 63
        }
      ]
    },
    {
      "cell_type": "markdown",
      "metadata": {
        "id": "YsVbF5dPvx5o"
      },
      "source": [
        "**Logical Operators**"
      ]
    },
    {
      "cell_type": "code",
      "metadata": {
        "colab": {
          "base_uri": "https://localhost:8080/"
        },
        "id": "YcLXYrGivw9C",
        "outputId": "ea8cd411-2bd8-4239-cbaf-082e7d869870"
      },
      "source": [
        "x = 14\n",
        "y = 20\n",
        "x==14 and y==3"
      ],
      "execution_count": 64,
      "outputs": [
        {
          "output_type": "execute_result",
          "data": {
            "text/plain": [
              "False"
            ]
          },
          "metadata": {
            "tags": []
          },
          "execution_count": 64
        }
      ]
    },
    {
      "cell_type": "code",
      "metadata": {
        "colab": {
          "base_uri": "https://localhost:8080/"
        },
        "id": "P2SNNU5lwBMA",
        "outputId": "477c106b-ab63-42f6-cfb5-3e1bde72ce43"
      },
      "source": [
        "i = 10\n",
        "j = 20\n",
        "i==20 or j==50000"
      ],
      "execution_count": 65,
      "outputs": [
        {
          "output_type": "execute_result",
          "data": {
            "text/plain": [
              "False"
            ]
          },
          "metadata": {
            "tags": []
          },
          "execution_count": 65
        }
      ]
    },
    {
      "cell_type": "code",
      "metadata": {
        "colab": {
          "base_uri": "https://localhost:8080/"
        },
        "id": "a2lGGR0AwMcJ",
        "outputId": "15acf22d-cf4d-48b3-ca1d-571349fa5838"
      },
      "source": [
        "a= 2\n",
        "b=3\n",
        "not a+b==3"
      ],
      "execution_count": 66,
      "outputs": [
        {
          "output_type": "execute_result",
          "data": {
            "text/plain": [
              "True"
            ]
          },
          "metadata": {
            "tags": []
          },
          "execution_count": 66
        }
      ]
    },
    {
      "cell_type": "markdown",
      "metadata": {
        "id": "FTLxr0Blwjd-"
      },
      "source": [
        "**Identity Operators**"
      ]
    },
    {
      "cell_type": "code",
      "metadata": {
        "colab": {
          "base_uri": "https://localhost:8080/"
        },
        "id": "VGBddx-1wUtb",
        "outputId": "edf16913-c1ae-42dd-99e5-6eeb50ab1ea8"
      },
      "source": [
        "x = 10\n",
        "y = 30\n",
        "x is y"
      ],
      "execution_count": 67,
      "outputs": [
        {
          "output_type": "execute_result",
          "data": {
            "text/plain": [
              "False"
            ]
          },
          "metadata": {
            "tags": []
          },
          "execution_count": 67
        }
      ]
    },
    {
      "cell_type": "code",
      "metadata": {
        "colab": {
          "base_uri": "https://localhost:8080/"
        },
        "id": "xZ-O3vytw6Cz",
        "outputId": "909106d6-471b-4680-ceba-2f6ba06423a2"
      },
      "source": [
        "x = 10\n",
        "y = 10\n",
        "x is y"
      ],
      "execution_count": 68,
      "outputs": [
        {
          "output_type": "execute_result",
          "data": {
            "text/plain": [
              "True"
            ]
          },
          "metadata": {
            "tags": []
          },
          "execution_count": 68
        }
      ]
    },
    {
      "cell_type": "code",
      "metadata": {
        "colab": {
          "base_uri": "https://localhost:8080/"
        },
        "id": "dSYlQzGuw9cu",
        "outputId": "ef9f418c-a1f6-47e3-f604-f800fc33218b"
      },
      "source": [
        "x = 4\n",
        "y = 2\n",
        "x is not y"
      ],
      "execution_count": 69,
      "outputs": [
        {
          "output_type": "execute_result",
          "data": {
            "text/plain": [
              "True"
            ]
          },
          "metadata": {
            "tags": []
          },
          "execution_count": 69
        }
      ]
    },
    {
      "cell_type": "markdown",
      "metadata": {
        "id": "latC4RVexDG3"
      },
      "source": [
        "**Membership Operator**"
      ]
    },
    {
      "cell_type": "code",
      "metadata": {
        "colab": {
          "base_uri": "https://localhost:8080/"
        },
        "id": "1odDfrHGyhPA",
        "outputId": "5978f95d-727a-4cd8-bc8f-2fed9867839e"
      },
      "source": [
        "'s' in \"sairam\""
      ],
      "execution_count": 70,
      "outputs": [
        {
          "output_type": "execute_result",
          "data": {
            "text/plain": [
              "True"
            ]
          },
          "metadata": {
            "tags": []
          },
          "execution_count": 70
        }
      ]
    },
    {
      "cell_type": "code",
      "metadata": {
        "colab": {
          "base_uri": "https://localhost:8080/"
        },
        "id": "L-dG60e4ygm9",
        "outputId": "42e5e2b1-cace-47ba-884c-b898605e6b72"
      },
      "source": [
        "\"S\" in \"sairam\""
      ],
      "execution_count": 71,
      "outputs": [
        {
          "output_type": "execute_result",
          "data": {
            "text/plain": [
              "False"
            ]
          },
          "metadata": {
            "tags": []
          },
          "execution_count": 71
        }
      ]
    },
    {
      "cell_type": "code",
      "metadata": {
        "colab": {
          "base_uri": "https://localhost:8080/"
        },
        "id": "7Ebul_eeygj5",
        "outputId": "30da87b3-4d7c-49c1-e8fa-a21bf6904d8e"
      },
      "source": [
        "\"please\" in \"please smile\""
      ],
      "execution_count": 72,
      "outputs": [
        {
          "output_type": "execute_result",
          "data": {
            "text/plain": [
              "True"
            ]
          },
          "metadata": {
            "tags": []
          },
          "execution_count": 72
        }
      ]
    },
    {
      "cell_type": "code",
      "metadata": {
        "colab": {
          "base_uri": "https://localhost:8080/"
        },
        "id": "g_c3GB8jyrPr",
        "outputId": "ff58d823-b950-4697-9066-282ace11eb5b"
      },
      "source": [
        "\"x\" not in \"a\""
      ],
      "execution_count": 73,
      "outputs": [
        {
          "output_type": "execute_result",
          "data": {
            "text/plain": [
              "True"
            ]
          },
          "metadata": {
            "tags": []
          },
          "execution_count": 73
        }
      ]
    },
    {
      "cell_type": "code",
      "metadata": {
        "colab": {
          "base_uri": "https://localhost:8080/"
        },
        "id": "PCEnrmedxBRh",
        "outputId": "163c52b1-cc6d-4bf6-8ba1-c831510caa7d"
      },
      "source": [
        "a = [1,3,4,5]\n",
        "print(5 in a)\n",
        "print('sairam' in a)\n",
        "print( 3 in a)\n",
        "print(2 in a)"
      ],
      "execution_count": 74,
      "outputs": [
        {
          "output_type": "stream",
          "text": [
            "True\n",
            "False\n",
            "True\n",
            "False\n"
          ],
          "name": "stdout"
        }
      ]
    },
    {
      "cell_type": "code",
      "metadata": {
        "colab": {
          "base_uri": "https://localhost:8080/"
        },
        "id": "tcBx507UxIZB",
        "outputId": "53d07f4e-8585-4f3b-9787-a5dde097cddd"
      },
      "source": [
        "c = (3,4)\n",
        "print(3 not in c)\n",
        "print(400 not in c)"
      ],
      "execution_count": 75,
      "outputs": [
        {
          "output_type": "stream",
          "text": [
            "False\n",
            "True\n"
          ],
          "name": "stdout"
        }
      ]
    },
    {
      "cell_type": "markdown",
      "metadata": {
        "id": "TNnqZX9Wxv8n"
      },
      "source": [
        "**Bitwise Operator**"
      ]
    },
    {
      "cell_type": "code",
      "metadata": {
        "colab": {
          "base_uri": "https://localhost:8080/"
        },
        "id": "dyqcx3iqxdTI",
        "outputId": "7a246870-a2d6-48e4-a3fc-58c654917a1a"
      },
      "source": [
        "\n",
        "\"\"\"\n",
        "3 = 0011\n",
        "5 = 0101\n",
        "& = 0001 = 1\n",
        "\"\"\"\n",
        "print(3&5)"
      ],
      "execution_count": 76,
      "outputs": [
        {
          "output_type": "stream",
          "text": [
            "1\n"
          ],
          "name": "stdout"
        }
      ]
    },
    {
      "cell_type": "code",
      "metadata": {
        "colab": {
          "base_uri": "https://localhost:8080/"
        },
        "id": "RPI098Wex06J",
        "outputId": "406113e9-a259-4034-80fa-9a1834cb3dad"
      },
      "source": [
        "print(100 | 200)"
      ],
      "execution_count": 77,
      "outputs": [
        {
          "output_type": "stream",
          "text": [
            "236\n"
          ],
          "name": "stdout"
        }
      ]
    },
    {
      "cell_type": "code",
      "metadata": {
        "colab": {
          "base_uri": "https://localhost:8080/"
        },
        "id": "iw6-SsAbyJhU",
        "outputId": "9532f279-997d-4217-bff4-219c8011bf65"
      },
      "source": [
        "print(3 ^ 2)"
      ],
      "execution_count": 78,
      "outputs": [
        {
          "output_type": "stream",
          "text": [
            "1\n"
          ],
          "name": "stdout"
        }
      ]
    },
    {
      "cell_type": "code",
      "metadata": {
        "colab": {
          "base_uri": "https://localhost:8080/"
        },
        "id": "7iR_CIRxyPlx",
        "outputId": "b56762d6-92ed-4b91-bcb2-2e0c229fa980"
      },
      "source": [
        "print(~3)"
      ],
      "execution_count": 79,
      "outputs": [
        {
          "output_type": "stream",
          "text": [
            "-4\n"
          ],
          "name": "stdout"
        }
      ]
    },
    {
      "cell_type": "code",
      "metadata": {
        "colab": {
          "base_uri": "https://localhost:8080/"
        },
        "id": "tn9FPaj5yS_M",
        "outputId": "7ca58447-c1dd-4937-dfe0-b06c229b8365"
      },
      "source": [
        "print(4<<1)"
      ],
      "execution_count": 80,
      "outputs": [
        {
          "output_type": "stream",
          "text": [
            "8\n"
          ],
          "name": "stdout"
        }
      ]
    },
    {
      "cell_type": "code",
      "metadata": {
        "colab": {
          "base_uri": "https://localhost:8080/"
        },
        "id": "_lr2S3PSyXGO",
        "outputId": "a5ebeb45-2d8a-4ef3-d06a-5bb1ed21d210"
      },
      "source": [
        "print(4>>1)"
      ],
      "execution_count": 81,
      "outputs": [
        {
          "output_type": "stream",
          "text": [
            "2\n"
          ],
          "name": "stdout"
        }
      ]
    },
    {
      "cell_type": "code",
      "metadata": {
        "id": "Hdz6o5ouyazZ"
      },
      "source": [
        ""
      ],
      "execution_count": 81,
      "outputs": []
    },
    {
      "cell_type": "markdown",
      "metadata": {
        "id": "ZxO5NOeFkgcv"
      },
      "source": [
        ""
      ]
    },
    {
      "cell_type": "markdown",
      "metadata": {
        "id": "2iooWjF3yym8"
      },
      "source": [
        "# Strings"
      ]
    },
    {
      "cell_type": "code",
      "metadata": {
        "colab": {
          "base_uri": "https://localhost:8080/"
        },
        "id": "wKgr04jpy68u",
        "outputId": "8d76295f-5d7e-4210-8a0f-627b30881d00"
      },
      "source": [
        "string1 = \"Sairam\"\n",
        "print(string1)"
      ],
      "execution_count": 82,
      "outputs": [
        {
          "output_type": "stream",
          "text": [
            "Sairam\n"
          ],
          "name": "stdout"
        }
      ]
    },
    {
      "cell_type": "code",
      "metadata": {
        "colab": {
          "base_uri": "https://localhost:8080/"
        },
        "id": "r_9kt1Agy-2R",
        "outputId": "d9cfe54f-e44d-4b79-c17a-f9aaa7f2c999"
      },
      "source": [
        "s = 'sairam'\n",
        "print(s)"
      ],
      "execution_count": 83,
      "outputs": [
        {
          "output_type": "stream",
          "text": [
            "sairam\n"
          ],
          "name": "stdout"
        }
      ]
    },
    {
      "cell_type": "code",
      "metadata": {
        "colab": {
          "base_uri": "https://localhost:8080/",
          "height": 35
        },
        "id": "qOLLrRxL2ehU",
        "outputId": "b68bf9b3-e577-48af-9efb-148ca3d479ad"
      },
      "source": [
        "s = \"I am Sairam I am studing at \\\"VJIT\\\" \"\n",
        "s"
      ],
      "execution_count": 84,
      "outputs": [
        {
          "output_type": "execute_result",
          "data": {
            "application/vnd.google.colaboratory.intrinsic+json": {
              "type": "string"
            },
            "text/plain": [
              "'I am Sairam I am studing at \"VJIT\" '"
            ]
          },
          "metadata": {
            "tags": []
          },
          "execution_count": 84
        }
      ]
    },
    {
      "cell_type": "code",
      "metadata": {
        "colab": {
          "base_uri": "https://localhost:8080/"
        },
        "id": "NwX-dBeezC6r",
        "outputId": "3432c56f-f448-4a44-bec2-1bfeae4fcc4b"
      },
      "source": [
        "s = \"\"\" Sairam \n",
        "sairam sairam\"\"\"\n",
        "print(s)"
      ],
      "execution_count": 85,
      "outputs": [
        {
          "output_type": "stream",
          "text": [
            " Sairam \n",
            "sairam sairam\n"
          ],
          "name": "stdout"
        }
      ]
    },
    {
      "cell_type": "code",
      "metadata": {
        "colab": {
          "base_uri": "https://localhost:8080/"
        },
        "id": "NK9W7kuPzG9M",
        "outputId": "d84d9355-b16e-487b-9170-d7b9f48e442b"
      },
      "source": [
        "s = \"\"\" Sairam\\\n",
        " sairam sairam\\\n",
        "\"\"\"\n",
        "print(s)"
      ],
      "execution_count": 86,
      "outputs": [
        {
          "output_type": "stream",
          "text": [
            " Sairam sairam sairam\n"
          ],
          "name": "stdout"
        }
      ]
    },
    {
      "cell_type": "code",
      "metadata": {
        "colab": {
          "base_uri": "https://localhost:8080/"
        },
        "id": "FpGNKfI7zLF8",
        "outputId": "9236f54e-0d9d-4994-e011-2b58bf917ee8"
      },
      "source": [
        "a = 'sai'\n",
        "b = 'ram'\n",
        "print(a+b)"
      ],
      "execution_count": 87,
      "outputs": [
        {
          "output_type": "stream",
          "text": [
            "sairam\n"
          ],
          "name": "stdout"
        }
      ]
    },
    {
      "cell_type": "code",
      "metadata": {
        "colab": {
          "base_uri": "https://localhost:8080/"
        },
        "id": "gtqTT9rLzSal",
        "outputId": "c3c2f2bb-c752-4f10-983b-23457dc0eb2b"
      },
      "source": [
        "type(a)"
      ],
      "execution_count": 88,
      "outputs": [
        {
          "output_type": "execute_result",
          "data": {
            "text/plain": [
              "str"
            ]
          },
          "metadata": {
            "tags": []
          },
          "execution_count": 88
        }
      ]
    },
    {
      "cell_type": "markdown",
      "metadata": {
        "id": "ocd9vma30h5P"
      },
      "source": [
        "**Indexing**"
      ]
    },
    {
      "cell_type": "code",
      "metadata": {
        "colab": {
          "base_uri": "https://localhost:8080/",
          "height": 35
        },
        "id": "v1xnmmmszTwu",
        "outputId": "1e75b235-3204-4a78-fc64-b2aed3f246ed"
      },
      "source": [
        "string = \"The best things in life are free!\"\n",
        "string[2]"
      ],
      "execution_count": 89,
      "outputs": [
        {
          "output_type": "execute_result",
          "data": {
            "application/vnd.google.colaboratory.intrinsic+json": {
              "type": "string"
            },
            "text/plain": [
              "'e'"
            ]
          },
          "metadata": {
            "tags": []
          },
          "execution_count": 89
        }
      ]
    },
    {
      "cell_type": "code",
      "metadata": {
        "colab": {
          "base_uri": "https://localhost:8080/",
          "height": 35
        },
        "id": "CKZwHQ5Y0lP6",
        "outputId": "495ade74-e754-4585-f9d8-510778bc438e"
      },
      "source": [
        "string[7]"
      ],
      "execution_count": 90,
      "outputs": [
        {
          "output_type": "execute_result",
          "data": {
            "application/vnd.google.colaboratory.intrinsic+json": {
              "type": "string"
            },
            "text/plain": [
              "'t'"
            ]
          },
          "metadata": {
            "tags": []
          },
          "execution_count": 90
        }
      ]
    },
    {
      "cell_type": "code",
      "metadata": {
        "colab": {
          "base_uri": "https://localhost:8080/",
          "height": 35
        },
        "id": "7GT5o2QX0nFR",
        "outputId": "bb36b9ca-fd78-4c47-cf8b-451e5c9c0d36"
      },
      "source": [
        "string[-1]"
      ],
      "execution_count": 91,
      "outputs": [
        {
          "output_type": "execute_result",
          "data": {
            "application/vnd.google.colaboratory.intrinsic+json": {
              "type": "string"
            },
            "text/plain": [
              "'!'"
            ]
          },
          "metadata": {
            "tags": []
          },
          "execution_count": 91
        }
      ]
    },
    {
      "cell_type": "code",
      "metadata": {
        "colab": {
          "base_uri": "https://localhost:8080/",
          "height": 35
        },
        "id": "KN5_8Kc30ruV",
        "outputId": "4ef3b15b-0ee6-454d-d66a-1ec9d3d8e455"
      },
      "source": [
        "string[-3]"
      ],
      "execution_count": 92,
      "outputs": [
        {
          "output_type": "execute_result",
          "data": {
            "application/vnd.google.colaboratory.intrinsic+json": {
              "type": "string"
            },
            "text/plain": [
              "'e'"
            ]
          },
          "metadata": {
            "tags": []
          },
          "execution_count": 92
        }
      ]
    },
    {
      "cell_type": "code",
      "metadata": {
        "colab": {
          "base_uri": "https://localhost:8080/",
          "height": 35
        },
        "id": "4RQlWOAW0s-9",
        "outputId": "346e1cce-f3a7-4e2c-a0c2-0299c1f93e80"
      },
      "source": [
        "string[-12]"
      ],
      "execution_count": 93,
      "outputs": [
        {
          "output_type": "execute_result",
          "data": {
            "application/vnd.google.colaboratory.intrinsic+json": {
              "type": "string"
            },
            "text/plain": [
              "'f'"
            ]
          },
          "metadata": {
            "tags": []
          },
          "execution_count": 93
        }
      ]
    },
    {
      "cell_type": "code",
      "metadata": {
        "colab": {
          "base_uri": "https://localhost:8080/",
          "height": 35
        },
        "id": "M4zWRp6U0uds",
        "outputId": "ccadac12-5723-4f5c-981f-5547428ec14d"
      },
      "source": [
        "string[9]"
      ],
      "execution_count": 94,
      "outputs": [
        {
          "output_type": "execute_result",
          "data": {
            "application/vnd.google.colaboratory.intrinsic+json": {
              "type": "string"
            },
            "text/plain": [
              "'t'"
            ]
          },
          "metadata": {
            "tags": []
          },
          "execution_count": 94
        }
      ]
    },
    {
      "cell_type": "markdown",
      "metadata": {
        "id": "PQUFXrVe02vT"
      },
      "source": [
        "**Slicing**"
      ]
    },
    {
      "cell_type": "code",
      "metadata": {
        "colab": {
          "base_uri": "https://localhost:8080/",
          "height": 35
        },
        "id": "dEbeDOZq0yyU",
        "outputId": "1d21e20d-f579-4bea-ed42-bf2b885854d4"
      },
      "source": [
        "string[1:5]"
      ],
      "execution_count": 95,
      "outputs": [
        {
          "output_type": "execute_result",
          "data": {
            "application/vnd.google.colaboratory.intrinsic+json": {
              "type": "string"
            },
            "text/plain": [
              "'he b'"
            ]
          },
          "metadata": {
            "tags": []
          },
          "execution_count": 95
        }
      ]
    },
    {
      "cell_type": "code",
      "metadata": {
        "colab": {
          "base_uri": "https://localhost:8080/",
          "height": 35
        },
        "id": "IUsIKBRx06Kb",
        "outputId": "653f2ec2-6dc2-4e15-a288-c9cb8a439557"
      },
      "source": [
        "string[2:7]"
      ],
      "execution_count": 96,
      "outputs": [
        {
          "output_type": "execute_result",
          "data": {
            "application/vnd.google.colaboratory.intrinsic+json": {
              "type": "string"
            },
            "text/plain": [
              "'e bes'"
            ]
          },
          "metadata": {
            "tags": []
          },
          "execution_count": 96
        }
      ]
    },
    {
      "cell_type": "code",
      "metadata": {
        "colab": {
          "base_uri": "https://localhost:8080/",
          "height": 35
        },
        "id": "-P-xbRc807eF",
        "outputId": "f1ef487c-c199-41ff-8d09-3ffbc4fca285"
      },
      "source": [
        "string[7:2]"
      ],
      "execution_count": 97,
      "outputs": [
        {
          "output_type": "execute_result",
          "data": {
            "application/vnd.google.colaboratory.intrinsic+json": {
              "type": "string"
            },
            "text/plain": [
              "''"
            ]
          },
          "metadata": {
            "tags": []
          },
          "execution_count": 97
        }
      ]
    },
    {
      "cell_type": "code",
      "metadata": {
        "colab": {
          "base_uri": "https://localhost:8080/",
          "height": 35
        },
        "id": "NFbM5Kra08eF",
        "outputId": "a142d780-d510-4551-b372-f74dae9441c0"
      },
      "source": [
        "string[:-1]"
      ],
      "execution_count": 98,
      "outputs": [
        {
          "output_type": "execute_result",
          "data": {
            "application/vnd.google.colaboratory.intrinsic+json": {
              "type": "string"
            },
            "text/plain": [
              "'The best things in life are free'"
            ]
          },
          "metadata": {
            "tags": []
          },
          "execution_count": 98
        }
      ]
    },
    {
      "cell_type": "code",
      "metadata": {
        "colab": {
          "base_uri": "https://localhost:8080/",
          "height": 35
        },
        "id": "ZpRJ46Cz0-V4",
        "outputId": "8ce326bd-70ec-45bd-a305-c1c3c100000f"
      },
      "source": [
        "string[:]"
      ],
      "execution_count": 99,
      "outputs": [
        {
          "output_type": "execute_result",
          "data": {
            "application/vnd.google.colaboratory.intrinsic+json": {
              "type": "string"
            },
            "text/plain": [
              "'The best things in life are free!'"
            ]
          },
          "metadata": {
            "tags": []
          },
          "execution_count": 99
        }
      ]
    },
    {
      "cell_type": "code",
      "metadata": {
        "colab": {
          "base_uri": "https://localhost:8080/",
          "height": 35
        },
        "id": "KgoKGhEs0_nl",
        "outputId": "c33b0612-6555-486f-bb68-1fcb32baf4e7"
      },
      "source": [
        "string[:22]"
      ],
      "execution_count": 100,
      "outputs": [
        {
          "output_type": "execute_result",
          "data": {
            "application/vnd.google.colaboratory.intrinsic+json": {
              "type": "string"
            },
            "text/plain": [
              "'The best things in lif'"
            ]
          },
          "metadata": {
            "tags": []
          },
          "execution_count": 100
        }
      ]
    },
    {
      "cell_type": "code",
      "metadata": {
        "colab": {
          "base_uri": "https://localhost:8080/",
          "height": 35
        },
        "id": "aRhQrh3Q1BVG",
        "outputId": "f2164be9-3ff2-4430-a482-32e0bc426ab4"
      },
      "source": [
        "string[5:]"
      ],
      "execution_count": 101,
      "outputs": [
        {
          "output_type": "execute_result",
          "data": {
            "application/vnd.google.colaboratory.intrinsic+json": {
              "type": "string"
            },
            "text/plain": [
              "'est things in life are free!'"
            ]
          },
          "metadata": {
            "tags": []
          },
          "execution_count": 101
        }
      ]
    },
    {
      "cell_type": "code",
      "metadata": {
        "colab": {
          "base_uri": "https://localhost:8080/",
          "height": 35
        },
        "id": "Zrjf8AEn1DMd",
        "outputId": "f8c3bf64-5a9b-457d-9f88-897cf5f79bc4"
      },
      "source": [
        "string[-1:]"
      ],
      "execution_count": 102,
      "outputs": [
        {
          "output_type": "execute_result",
          "data": {
            "application/vnd.google.colaboratory.intrinsic+json": {
              "type": "string"
            },
            "text/plain": [
              "'!'"
            ]
          },
          "metadata": {
            "tags": []
          },
          "execution_count": 102
        }
      ]
    },
    {
      "cell_type": "code",
      "metadata": {
        "colab": {
          "base_uri": "https://localhost:8080/",
          "height": 35
        },
        "id": "Qbnh__5U1E9a",
        "outputId": "8f4a92d7-b773-423d-ff93-4ac18093ba53"
      },
      "source": [
        "string[0:30:2]"
      ],
      "execution_count": 103,
      "outputs": [
        {
          "output_type": "execute_result",
          "data": {
            "application/vnd.google.colaboratory.intrinsic+json": {
              "type": "string"
            },
            "text/plain": [
              "'Tebs hnsi ieaef'"
            ]
          },
          "metadata": {
            "tags": []
          },
          "execution_count": 103
        }
      ]
    },
    {
      "cell_type": "code",
      "metadata": {
        "colab": {
          "base_uri": "https://localhost:8080/",
          "height": 35
        },
        "id": "AFR5v0001Iz-",
        "outputId": "1b1e36bd-044a-4ccc-bf33-060e480ec361"
      },
      "source": [
        "string[::-1]"
      ],
      "execution_count": 104,
      "outputs": [
        {
          "output_type": "execute_result",
          "data": {
            "application/vnd.google.colaboratory.intrinsic+json": {
              "type": "string"
            },
            "text/plain": [
              "'!eerf era efil ni sgniht tseb ehT'"
            ]
          },
          "metadata": {
            "tags": []
          },
          "execution_count": 104
        }
      ]
    },
    {
      "cell_type": "code",
      "metadata": {
        "colab": {
          "base_uri": "https://localhost:8080/",
          "height": 35
        },
        "id": "4CGe0bFQ1Kuj",
        "outputId": "c29a8ac9-cec5-40cf-ec91-8e5a8a35c38b"
      },
      "source": [
        "string[-1:-2]"
      ],
      "execution_count": 105,
      "outputs": [
        {
          "output_type": "execute_result",
          "data": {
            "application/vnd.google.colaboratory.intrinsic+json": {
              "type": "string"
            },
            "text/plain": [
              "''"
            ]
          },
          "metadata": {
            "tags": []
          },
          "execution_count": 105
        }
      ]
    },
    {
      "cell_type": "code",
      "metadata": {
        "colab": {
          "base_uri": "https://localhost:8080/",
          "height": 35
        },
        "id": "sUVpBBJ01QpV",
        "outputId": "2aac9212-12ff-4164-ee8f-a29e2d20dd23"
      },
      "source": [
        "string[::]"
      ],
      "execution_count": 106,
      "outputs": [
        {
          "output_type": "execute_result",
          "data": {
            "application/vnd.google.colaboratory.intrinsic+json": {
              "type": "string"
            },
            "text/plain": [
              "'The best things in life are free!'"
            ]
          },
          "metadata": {
            "tags": []
          },
          "execution_count": 106
        }
      ]
    },
    {
      "cell_type": "markdown",
      "metadata": {
        "id": "qY6zoxh61WnC"
      },
      "source": [
        "**Formatting**\n",
        "\n",
        "\n"
      ]
    },
    {
      "cell_type": "code",
      "metadata": {
        "colab": {
          "base_uri": "https://localhost:8080/"
        },
        "id": "vAKB8qao1VE2",
        "outputId": "5cf8a5c7-c476-4b56-efb8-a365e4437188"
      },
      "source": [
        "age = 19\n",
        "s1 = \"My name is Sairam my age is \"+ str(age)\n",
        "print(s1)"
      ],
      "execution_count": 107,
      "outputs": [
        {
          "output_type": "stream",
          "text": [
            "My name is Sairam my age is 19\n"
          ],
          "name": "stdout"
        }
      ]
    },
    {
      "cell_type": "code",
      "metadata": {
        "colab": {
          "base_uri": "https://localhost:8080/"
        },
        "id": "KJUvQoQJ15FE",
        "outputId": "7773e5f8-e862-4f19-8b4f-29260a1aa92e"
      },
      "source": [
        "age = 19\n",
        "s1 = \"My name is Sairam my age is {}\"\n",
        "print(s1.format(age))"
      ],
      "execution_count": 108,
      "outputs": [
        {
          "output_type": "stream",
          "text": [
            "My name is Sairam my age is 19\n"
          ],
          "name": "stdout"
        }
      ]
    },
    {
      "cell_type": "code",
      "metadata": {
        "colab": {
          "base_uri": "https://localhost:8080/"
        },
        "id": "PzEDhJ0e2KAL",
        "outputId": "20299bdf-7b63-4688-a388-5f8247df3735"
      },
      "source": [
        "rollno = 3542\n",
        "age=19\n",
        "s1 = \"My name is Sairam rollno is {0} age is {1}\"\n",
        "print(s1.format(rollno,age))"
      ],
      "execution_count": 109,
      "outputs": [
        {
          "output_type": "stream",
          "text": [
            "My name is Sairam rollno is 3542 age is 19\n"
          ],
          "name": "stdout"
        }
      ]
    },
    {
      "cell_type": "code",
      "metadata": {
        "colab": {
          "base_uri": "https://localhost:8080/",
          "height": 35
        },
        "id": "2bltGEnKo50p",
        "outputId": "0562a2c6-8f65-4962-de16-0fc26e9ef453"
      },
      "source": [
        "s1 = \"My name is Sairam rollno is {x} age is {y}\"\n",
        "s1.format(x=rollno,y=age)\n"
      ],
      "execution_count": 110,
      "outputs": [
        {
          "output_type": "execute_result",
          "data": {
            "application/vnd.google.colaboratory.intrinsic+json": {
              "type": "string"
            },
            "text/plain": [
              "'My name is Sairam rollno is 3542 age is 19'"
            ]
          },
          "metadata": {
            "tags": []
          },
          "execution_count": 110
        }
      ]
    },
    {
      "cell_type": "markdown",
      "metadata": {
        "id": "zBR1_pWj23f8"
      },
      "source": [
        "String Methods"
      ]
    },
    {
      "cell_type": "code",
      "metadata": {
        "colab": {
          "base_uri": "https://localhost:8080/",
          "height": 35
        },
        "id": "9CxaHKwM2YvB",
        "outputId": "85bc6f7a-4a03-4207-8fba-855358b99e1f"
      },
      "source": [
        "string = \"The best things in life are free!\"\n",
        "string.upper()"
      ],
      "execution_count": 111,
      "outputs": [
        {
          "output_type": "execute_result",
          "data": {
            "application/vnd.google.colaboratory.intrinsic+json": {
              "type": "string"
            },
            "text/plain": [
              "'THE BEST THINGS IN LIFE ARE FREE!'"
            ]
          },
          "metadata": {
            "tags": []
          },
          "execution_count": 111
        }
      ]
    },
    {
      "cell_type": "code",
      "metadata": {
        "colab": {
          "base_uri": "https://localhost:8080/",
          "height": 35
        },
        "id": "kMopA6Pi2_uF",
        "outputId": "356e91fd-eeaf-4041-ce0a-8112a655ea93"
      },
      "source": [
        "string.lower()"
      ],
      "execution_count": 112,
      "outputs": [
        {
          "output_type": "execute_result",
          "data": {
            "application/vnd.google.colaboratory.intrinsic+json": {
              "type": "string"
            },
            "text/plain": [
              "'the best things in life are free!'"
            ]
          },
          "metadata": {
            "tags": []
          },
          "execution_count": 112
        }
      ]
    },
    {
      "cell_type": "code",
      "metadata": {
        "colab": {
          "base_uri": "https://localhost:8080/",
          "height": 35
        },
        "id": "v9Ps-9X03BLD",
        "outputId": "be766a1f-77e3-456f-cef6-718cad11176d"
      },
      "source": [
        "string.capitalize()"
      ],
      "execution_count": 113,
      "outputs": [
        {
          "output_type": "execute_result",
          "data": {
            "application/vnd.google.colaboratory.intrinsic+json": {
              "type": "string"
            },
            "text/plain": [
              "'The best things in life are free!'"
            ]
          },
          "metadata": {
            "tags": []
          },
          "execution_count": 113
        }
      ]
    },
    {
      "cell_type": "code",
      "metadata": {
        "colab": {
          "base_uri": "https://localhost:8080/",
          "height": 35
        },
        "id": "fV-lojrK3D2Z",
        "outputId": "2e610154-1d08-4ed8-918a-b6b57df0a4dc"
      },
      "source": [
        "s = \"LLPP\"\n",
        "s.casefold()"
      ],
      "execution_count": 114,
      "outputs": [
        {
          "output_type": "execute_result",
          "data": {
            "application/vnd.google.colaboratory.intrinsic+json": {
              "type": "string"
            },
            "text/plain": [
              "'llpp'"
            ]
          },
          "metadata": {
            "tags": []
          },
          "execution_count": 114
        }
      ]
    },
    {
      "cell_type": "code",
      "metadata": {
        "colab": {
          "base_uri": "https://localhost:8080/",
          "height": 35
        },
        "id": "p8Tj3VVG3HZw",
        "outputId": "2889da43-4c30-40ee-d4b9-6e3a30c3b0f7"
      },
      "source": [
        "string = \"The best things in life are free!\"\n",
        "string.center(30)"
      ],
      "execution_count": 115,
      "outputs": [
        {
          "output_type": "execute_result",
          "data": {
            "application/vnd.google.colaboratory.intrinsic+json": {
              "type": "string"
            },
            "text/plain": [
              "'The best things in life are free!'"
            ]
          },
          "metadata": {
            "tags": []
          },
          "execution_count": 115
        }
      ]
    },
    {
      "cell_type": "code",
      "metadata": {
        "colab": {
          "base_uri": "https://localhost:8080/",
          "height": 35
        },
        "id": "0-R5yod1cu_i",
        "outputId": "6d6f2240-9130-4bf3-d753-6b8180f6abd3"
      },
      "source": [
        "string = \"  The best things in life are free!\"\n",
        "string.center(5)"
      ],
      "execution_count": 177,
      "outputs": [
        {
          "output_type": "execute_result",
          "data": {
            "application/vnd.google.colaboratory.intrinsic+json": {
              "type": "string"
            },
            "text/plain": [
              "'  The best things in life are free!'"
            ]
          },
          "metadata": {
            "tags": []
          },
          "execution_count": 177
        }
      ]
    },
    {
      "cell_type": "code",
      "metadata": {
        "colab": {
          "base_uri": "https://localhost:8080/"
        },
        "id": "8vCnH8ls3Mm4",
        "outputId": "909bece8-54a7-44a4-b741-0661819f170b"
      },
      "source": [
        "#count returns how many times the string is repeated \n",
        "string.count('s',0,20)"
      ],
      "execution_count": 116,
      "outputs": [
        {
          "output_type": "execute_result",
          "data": {
            "text/plain": [
              "2"
            ]
          },
          "metadata": {
            "tags": []
          },
          "execution_count": 116
        }
      ]
    },
    {
      "cell_type": "code",
      "metadata": {
        "colab": {
          "base_uri": "https://localhost:8080/"
        },
        "id": "g7dKjZtX3yuF",
        "outputId": "5118c6c6-4661-4934-ce5f-6fdf793bcbb1"
      },
      "source": [
        "string.encode()"
      ],
      "execution_count": 117,
      "outputs": [
        {
          "output_type": "execute_result",
          "data": {
            "text/plain": [
              "b'The best things in life are free!'"
            ]
          },
          "metadata": {
            "tags": []
          },
          "execution_count": 117
        }
      ]
    },
    {
      "cell_type": "code",
      "metadata": {
        "colab": {
          "base_uri": "https://localhost:8080/"
        },
        "id": "UVV9HDQl4PVg",
        "outputId": "05440660-3e20-4ef7-a817-5bc9ee710f4b"
      },
      "source": [
        "string.index('in')"
      ],
      "execution_count": 118,
      "outputs": [
        {
          "output_type": "execute_result",
          "data": {
            "text/plain": [
              "11"
            ]
          },
          "metadata": {
            "tags": []
          },
          "execution_count": 118
        }
      ]
    },
    {
      "cell_type": "code",
      "metadata": {
        "colab": {
          "base_uri": "https://localhost:8080/"
        },
        "id": "T8-Op_GB4T1l",
        "outputId": "36fb6818-2bad-422c-8d5e-121026380134"
      },
      "source": [
        "string.find('e',1,10)"
      ],
      "execution_count": 119,
      "outputs": [
        {
          "output_type": "execute_result",
          "data": {
            "text/plain": [
              "2"
            ]
          },
          "metadata": {
            "tags": []
          },
          "execution_count": 119
        }
      ]
    },
    {
      "cell_type": "code",
      "metadata": {
        "colab": {
          "base_uri": "https://localhost:8080/"
        },
        "id": "_yryp05-4aBO",
        "outputId": "62d175b7-39dd-4464-81b5-fafc9aaf119c"
      },
      "source": [
        "string.endswith('!')"
      ],
      "execution_count": 120,
      "outputs": [
        {
          "output_type": "execute_result",
          "data": {
            "text/plain": [
              "True"
            ]
          },
          "metadata": {
            "tags": []
          },
          "execution_count": 120
        }
      ]
    },
    {
      "cell_type": "code",
      "metadata": {
        "colab": {
          "base_uri": "https://localhost:8080/"
        },
        "id": "cBkSyAYy4ihA",
        "outputId": "45db0f77-f6b0-46ed-dac1-fc4fcd95b1c2"
      },
      "source": [
        "string.endswith('a')"
      ],
      "execution_count": 121,
      "outputs": [
        {
          "output_type": "execute_result",
          "data": {
            "text/plain": [
              "False"
            ]
          },
          "metadata": {
            "tags": []
          },
          "execution_count": 121
        }
      ]
    },
    {
      "cell_type": "code",
      "metadata": {
        "colab": {
          "base_uri": "https://localhost:8080/"
        },
        "id": "FwH-eD6O4knS",
        "outputId": "5e9ad221-8acb-4f55-e55f-f1e3061c76fc"
      },
      "source": [
        "string.startswith('T')"
      ],
      "execution_count": 122,
      "outputs": [
        {
          "output_type": "execute_result",
          "data": {
            "text/plain": [
              "True"
            ]
          },
          "metadata": {
            "tags": []
          },
          "execution_count": 122
        }
      ]
    },
    {
      "cell_type": "code",
      "metadata": {
        "colab": {
          "base_uri": "https://localhost:8080/"
        },
        "id": "L_GO53RK4m5S",
        "outputId": "806b3744-6901-4007-9e80-d05ea9011b8c"
      },
      "source": [
        "string.startswith('!')"
      ],
      "execution_count": 123,
      "outputs": [
        {
          "output_type": "execute_result",
          "data": {
            "text/plain": [
              "False"
            ]
          },
          "metadata": {
            "tags": []
          },
          "execution_count": 123
        }
      ]
    },
    {
      "cell_type": "code",
      "metadata": {
        "colab": {
          "base_uri": "https://localhost:8080/"
        },
        "id": "fR9XsHcL4okx",
        "outputId": "d85b9b62-7b9b-411a-e341-0a108af713bf"
      },
      "source": [
        "s = '123abc'\n",
        "s.isalnum()"
      ],
      "execution_count": 124,
      "outputs": [
        {
          "output_type": "execute_result",
          "data": {
            "text/plain": [
              "True"
            ]
          },
          "metadata": {
            "tags": []
          },
          "execution_count": 124
        }
      ]
    },
    {
      "cell_type": "code",
      "metadata": {
        "colab": {
          "base_uri": "https://localhost:8080/"
        },
        "id": "jhk5WRuR4tZq",
        "outputId": "44e6e3b7-6e97-4de4-9691-25590db34e8a"
      },
      "source": [
        "s.isalpha()"
      ],
      "execution_count": 125,
      "outputs": [
        {
          "output_type": "execute_result",
          "data": {
            "text/plain": [
              "False"
            ]
          },
          "metadata": {
            "tags": []
          },
          "execution_count": 125
        }
      ]
    },
    {
      "cell_type": "code",
      "metadata": {
        "colab": {
          "base_uri": "https://localhost:8080/"
        },
        "id": "HZ5q1ujU4wpe",
        "outputId": "a2928a18-cc30-4f81-8959-b2bd2b26bbe6"
      },
      "source": [
        "s.isdigit()"
      ],
      "execution_count": 126,
      "outputs": [
        {
          "output_type": "execute_result",
          "data": {
            "text/plain": [
              "False"
            ]
          },
          "metadata": {
            "tags": []
          },
          "execution_count": 126
        }
      ]
    },
    {
      "cell_type": "code",
      "metadata": {
        "colab": {
          "base_uri": "https://localhost:8080/"
        },
        "id": "dYMr6-ow51r7",
        "outputId": "60df2e43-4072-45c6-9e07-bdb7da3b70c7"
      },
      "source": [
        "c = '124'\n",
        "c.isdigit()"
      ],
      "execution_count": 127,
      "outputs": [
        {
          "output_type": "execute_result",
          "data": {
            "text/plain": [
              "True"
            ]
          },
          "metadata": {
            "tags": []
          },
          "execution_count": 127
        }
      ]
    },
    {
      "cell_type": "code",
      "metadata": {
        "colab": {
          "base_uri": "https://localhost:8080/"
        },
        "id": "ZC1AS4CZ532l",
        "outputId": "69b502a4-2f88-452e-fd78-1ba25f6e989f"
      },
      "source": [
        "c.isalnum()"
      ],
      "execution_count": 128,
      "outputs": [
        {
          "output_type": "execute_result",
          "data": {
            "text/plain": [
              "True"
            ]
          },
          "metadata": {
            "tags": []
          },
          "execution_count": 128
        }
      ]
    },
    {
      "cell_type": "code",
      "metadata": {
        "colab": {
          "base_uri": "https://localhost:8080/",
          "height": 35
        },
        "id": "g3IwegeP58aW",
        "outputId": "004f14e9-a56b-4680-a959-42df5cb174f1"
      },
      "source": [
        "k = \"I am Sairam\"\n",
        "k.join('abc')"
      ],
      "execution_count": 129,
      "outputs": [
        {
          "output_type": "execute_result",
          "data": {
            "application/vnd.google.colaboratory.intrinsic+json": {
              "type": "string"
            },
            "text/plain": [
              "'aI am SairambI am Sairamc'"
            ]
          },
          "metadata": {
            "tags": []
          },
          "execution_count": 129
        }
      ]
    },
    {
      "cell_type": "code",
      "metadata": {
        "colab": {
          "base_uri": "https://localhost:8080/",
          "height": 35
        },
        "id": "FfE1y8QO6FJy",
        "outputId": "ef577bd5-8e5b-42d4-9e47-9ca108b44799"
      },
      "source": [
        "a = '         kkkkk'\n",
        "a.lstrip()"
      ],
      "execution_count": 130,
      "outputs": [
        {
          "output_type": "execute_result",
          "data": {
            "application/vnd.google.colaboratory.intrinsic+json": {
              "type": "string"
            },
            "text/plain": [
              "'kkkkk'"
            ]
          },
          "metadata": {
            "tags": []
          },
          "execution_count": 130
        }
      ]
    },
    {
      "cell_type": "code",
      "metadata": {
        "colab": {
          "base_uri": "https://localhost:8080/",
          "height": 35
        },
        "id": "ZCsXIn_D6Nha",
        "outputId": "532ba180-bd7a-4ccf-add8-646b769012aa"
      },
      "source": [
        "a = 'kkk            '\n",
        "a.rstrip()"
      ],
      "execution_count": 131,
      "outputs": [
        {
          "output_type": "execute_result",
          "data": {
            "application/vnd.google.colaboratory.intrinsic+json": {
              "type": "string"
            },
            "text/plain": [
              "'kkk'"
            ]
          },
          "metadata": {
            "tags": []
          },
          "execution_count": 131
        }
      ]
    },
    {
      "cell_type": "code",
      "metadata": {
        "colab": {
          "base_uri": "https://localhost:8080/"
        },
        "id": "FO-7JZok6QUd",
        "outputId": "954aec41-4b17-4e93-e6c7-f87ca2c762e6"
      },
      "source": [
        "s = \"abcde\"\n",
        "s.partition('c')"
      ],
      "execution_count": 132,
      "outputs": [
        {
          "output_type": "execute_result",
          "data": {
            "text/plain": [
              "('ab', 'c', 'de')"
            ]
          },
          "metadata": {
            "tags": []
          },
          "execution_count": 132
        }
      ]
    },
    {
      "cell_type": "code",
      "metadata": {
        "colab": {
          "base_uri": "https://localhost:8080/",
          "height": 35
        },
        "id": "Z_-DWqpc6VWz",
        "outputId": "7166bbd2-e515-413d-9280-d5705c24f151"
      },
      "source": [
        "s.swapcase()"
      ],
      "execution_count": 133,
      "outputs": [
        {
          "output_type": "execute_result",
          "data": {
            "application/vnd.google.colaboratory.intrinsic+json": {
              "type": "string"
            },
            "text/plain": [
              "'ABCDE'"
            ]
          },
          "metadata": {
            "tags": []
          },
          "execution_count": 133
        }
      ]
    },
    {
      "cell_type": "code",
      "metadata": {
        "colab": {
          "base_uri": "https://localhost:8080/",
          "height": 35
        },
        "id": "zGUfV5KI6aBK",
        "outputId": "b0a90230-c4eb-49f7-eab6-a82819d18fd7"
      },
      "source": [
        "s.zfill(10)"
      ],
      "execution_count": 134,
      "outputs": [
        {
          "output_type": "execute_result",
          "data": {
            "application/vnd.google.colaboratory.intrinsic+json": {
              "type": "string"
            },
            "text/plain": [
              "'00000abcde'"
            ]
          },
          "metadata": {
            "tags": []
          },
          "execution_count": 134
        }
      ]
    },
    {
      "cell_type": "code",
      "metadata": {
        "id": "sjSLukPL6lTU"
      },
      "source": [
        ""
      ],
      "execution_count": 134,
      "outputs": []
    },
    {
      "cell_type": "markdown",
      "metadata": {
        "id": "XiCJ5IfBkiQQ"
      },
      "source": [
        "# Lists"
      ]
    },
    {
      "cell_type": "markdown",
      "metadata": {
        "id": "ZuSGbtyKnFxE"
      },
      "source": [
        "List is a collection of data which is ordered and mutable."
      ]
    },
    {
      "cell_type": "code",
      "metadata": {
        "colab": {
          "base_uri": "https://localhost:8080/"
        },
        "id": "6L_f5Eshkklr",
        "outputId": "b0401d96-cded-46a0-aa2c-9097121737c3"
      },
      "source": [
        "alpha = list ()\n",
        "type(alpha)"
      ],
      "execution_count": 135,
      "outputs": [
        {
          "output_type": "execute_result",
          "data": {
            "text/plain": [
              "list"
            ]
          },
          "metadata": {
            "tags": []
          },
          "execution_count": 135
        }
      ]
    },
    {
      "cell_type": "code",
      "metadata": {
        "colab": {
          "base_uri": "https://localhost:8080/"
        },
        "id": "OXU4zokYll5X",
        "outputId": "7952694e-54d4-4958-e6cb-0406873899d4"
      },
      "source": [
        "alpha = ['a','b','c','d']\n",
        "print(alpha)\n",
        "print(alpha[0])\n",
        "print(alpha[1])\n",
        "print(alpha[3])"
      ],
      "execution_count": 136,
      "outputs": [
        {
          "output_type": "stream",
          "text": [
            "['a', 'b', 'c', 'd']\n",
            "a\n",
            "b\n",
            "d\n"
          ],
          "name": "stdout"
        }
      ]
    },
    {
      "cell_type": "code",
      "metadata": {
        "colab": {
          "base_uri": "https://localhost:8080/"
        },
        "id": "Cdtuk-W2lxCc",
        "outputId": "4de42007-7904-4502-de16-ec4dc7cc3a01"
      },
      "source": [
        "li = list((1,2,3,4,5))\n",
        "print(type (li))\n",
        "print(li)"
      ],
      "execution_count": 137,
      "outputs": [
        {
          "output_type": "stream",
          "text": [
            "<class 'list'>\n",
            "[1, 2, 3, 4, 5]\n"
          ],
          "name": "stdout"
        }
      ]
    },
    {
      "cell_type": "code",
      "metadata": {
        "colab": {
          "base_uri": "https://localhost:8080/"
        },
        "id": "Zwjh7xpnxxCS",
        "outputId": "11661489-1da0-4c2b-c226-a62603387ef4"
      },
      "source": [
        "list1 = ['S','A',1,2,3,[4,5,6,7],'Sairam']\n",
        "print(list1)"
      ],
      "execution_count": 138,
      "outputs": [
        {
          "output_type": "stream",
          "text": [
            "['S', 'A', 1, 2, 3, [4, 5, 6, 7], 'Sairam']\n"
          ],
          "name": "stdout"
        }
      ]
    },
    {
      "cell_type": "code",
      "metadata": {
        "colab": {
          "base_uri": "https://localhost:8080/"
        },
        "id": "V5VXJ0dPxw_U",
        "outputId": "35c78996-42a1-44e7-f982-9cdb66d72d83"
      },
      "source": [
        "print(len(list1))"
      ],
      "execution_count": 139,
      "outputs": [
        {
          "output_type": "stream",
          "text": [
            "7\n"
          ],
          "name": "stdout"
        }
      ]
    },
    {
      "cell_type": "code",
      "metadata": {
        "colab": {
          "base_uri": "https://localhost:8080/"
        },
        "id": "vwEH6fknxw7N",
        "outputId": "7312b720-511a-4867-d41e-b0265dd118d0"
      },
      "source": [
        "list1[5]"
      ],
      "execution_count": 140,
      "outputs": [
        {
          "output_type": "execute_result",
          "data": {
            "text/plain": [
              "[4, 5, 6, 7]"
            ]
          },
          "metadata": {
            "tags": []
          },
          "execution_count": 140
        }
      ]
    },
    {
      "cell_type": "code",
      "metadata": {
        "colab": {
          "base_uri": "https://localhost:8080/"
        },
        "id": "iSf0buK6xw4U",
        "outputId": "5c081c56-a0e4-4e21-f538-9416f998d644"
      },
      "source": [
        "list1[5][1]"
      ],
      "execution_count": 141,
      "outputs": [
        {
          "output_type": "execute_result",
          "data": {
            "text/plain": [
              "5"
            ]
          },
          "metadata": {
            "tags": []
          },
          "execution_count": 141
        }
      ]
    },
    {
      "cell_type": "code",
      "metadata": {
        "colab": {
          "base_uri": "https://localhost:8080/",
          "height": 35
        },
        "id": "64OUCG4Kxw09",
        "outputId": "999f45ac-bb75-484c-bc8c-2b2d1f906336"
      },
      "source": [
        "list1[-1][2]"
      ],
      "execution_count": 142,
      "outputs": [
        {
          "output_type": "execute_result",
          "data": {
            "application/vnd.google.colaboratory.intrinsic+json": {
              "type": "string"
            },
            "text/plain": [
              "'i'"
            ]
          },
          "metadata": {
            "tags": []
          },
          "execution_count": 142
        }
      ]
    },
    {
      "cell_type": "code",
      "metadata": {
        "colab": {
          "base_uri": "https://localhost:8080/"
        },
        "id": "qrFAJ5zangT9",
        "outputId": "58e3a55b-57e0-4ad1-cd4c-6b9f6fcb6a6a"
      },
      "source": [
        "fruits = ['apple','banana','cherry','orange']\n",
        "print(len(fruits))\n",
        "print(fruits[3][1])\n",
        "print(fruits[-1])"
      ],
      "execution_count": 143,
      "outputs": [
        {
          "output_type": "stream",
          "text": [
            "4\n",
            "r\n",
            "orange\n"
          ],
          "name": "stdout"
        }
      ]
    },
    {
      "cell_type": "markdown",
      "metadata": {
        "id": "Uy8uaonGv864"
      },
      "source": [
        "List Indexing"
      ]
    },
    {
      "cell_type": "code",
      "metadata": {
        "colab": {
          "base_uri": "https://localhost:8080/"
        },
        "id": "pQsRz0DXv8Lh",
        "outputId": "05dc00e9-d307-4302-ba30-9bfca815eed4"
      },
      "source": [
        "fruits = ['apple','banana','cherry','orange']\n",
        "\n",
        "fruits"
      ],
      "execution_count": 144,
      "outputs": [
        {
          "output_type": "execute_result",
          "data": {
            "text/plain": [
              "['apple', 'banana', 'cherry', 'orange']"
            ]
          },
          "metadata": {
            "tags": []
          },
          "execution_count": 144
        }
      ]
    },
    {
      "cell_type": "code",
      "metadata": {
        "colab": {
          "base_uri": "https://localhost:8080/"
        },
        "id": "kQcc7KIPn7q8",
        "outputId": "fe318dd1-8202-4e1b-820d-210271000c36"
      },
      "source": [
        "fruits[:]"
      ],
      "execution_count": 145,
      "outputs": [
        {
          "output_type": "execute_result",
          "data": {
            "text/plain": [
              "['apple', 'banana', 'cherry', 'orange']"
            ]
          },
          "metadata": {
            "tags": []
          },
          "execution_count": 145
        }
      ]
    },
    {
      "cell_type": "code",
      "metadata": {
        "colab": {
          "base_uri": "https://localhost:8080/"
        },
        "id": "fD0BLAdrwCBw",
        "outputId": "b898c44c-b72b-4c6e-ed95-ba33deaab734"
      },
      "source": [
        "fruits[:2]"
      ],
      "execution_count": 146,
      "outputs": [
        {
          "output_type": "execute_result",
          "data": {
            "text/plain": [
              "['apple', 'banana']"
            ]
          },
          "metadata": {
            "tags": []
          },
          "execution_count": 146
        }
      ]
    },
    {
      "cell_type": "code",
      "metadata": {
        "colab": {
          "base_uri": "https://localhost:8080/"
        },
        "id": "R8eUb3URwDLW",
        "outputId": "1aacc775-6f4f-4180-e107-2b6817a44a8e"
      },
      "source": [
        "fruits[1:3]"
      ],
      "execution_count": 147,
      "outputs": [
        {
          "output_type": "execute_result",
          "data": {
            "text/plain": [
              "['banana', 'cherry']"
            ]
          },
          "metadata": {
            "tags": []
          },
          "execution_count": 147
        }
      ]
    },
    {
      "cell_type": "code",
      "metadata": {
        "colab": {
          "base_uri": "https://localhost:8080/"
        },
        "id": "kugSeY44wFI7",
        "outputId": "6a9719a6-2c60-405b-cd21-641d5f16d217"
      },
      "source": [
        "fruits[:-1]"
      ],
      "execution_count": 148,
      "outputs": [
        {
          "output_type": "execute_result",
          "data": {
            "text/plain": [
              "['apple', 'banana', 'cherry']"
            ]
          },
          "metadata": {
            "tags": []
          },
          "execution_count": 148
        }
      ]
    },
    {
      "cell_type": "code",
      "metadata": {
        "colab": {
          "base_uri": "https://localhost:8080/"
        },
        "id": "v1gZzzKHwGyp",
        "outputId": "c34404dd-097e-4cdb-fa6c-dc32b6455732"
      },
      "source": [
        "fruits[::-1]"
      ],
      "execution_count": 149,
      "outputs": [
        {
          "output_type": "execute_result",
          "data": {
            "text/plain": [
              "['orange', 'cherry', 'banana', 'apple']"
            ]
          },
          "metadata": {
            "tags": []
          },
          "execution_count": 149
        }
      ]
    },
    {
      "cell_type": "code",
      "metadata": {
        "colab": {
          "base_uri": "https://localhost:8080/"
        },
        "id": "tNQYNts_wIqh",
        "outputId": "11bb097c-5cdd-43db-8f6c-9a22d49530f6"
      },
      "source": [
        "fruits[-3:-1]"
      ],
      "execution_count": 150,
      "outputs": [
        {
          "output_type": "execute_result",
          "data": {
            "text/plain": [
              "['banana', 'cherry']"
            ]
          },
          "metadata": {
            "tags": []
          },
          "execution_count": 150
        }
      ]
    },
    {
      "cell_type": "code",
      "metadata": {
        "colab": {
          "base_uri": "https://localhost:8080/"
        },
        "id": "1YfS6ry6wM9d",
        "outputId": "3eab1eab-88b7-44fc-8d5a-3004c452f37e"
      },
      "source": [
        "fruits[::2]"
      ],
      "execution_count": 151,
      "outputs": [
        {
          "output_type": "execute_result",
          "data": {
            "text/plain": [
              "['apple', 'cherry']"
            ]
          },
          "metadata": {
            "tags": []
          },
          "execution_count": 151
        }
      ]
    },
    {
      "cell_type": "code",
      "metadata": {
        "colab": {
          "base_uri": "https://localhost:8080/"
        },
        "id": "syBDZc3VwvZZ",
        "outputId": "3d79bcf3-576e-4766-9593-a4bbd2848e22"
      },
      "source": [
        "fruits[::3]"
      ],
      "execution_count": 152,
      "outputs": [
        {
          "output_type": "execute_result",
          "data": {
            "text/plain": [
              "['apple', 'orange']"
            ]
          },
          "metadata": {
            "tags": []
          },
          "execution_count": 152
        }
      ]
    },
    {
      "cell_type": "code",
      "metadata": {
        "colab": {
          "base_uri": "https://localhost:8080/"
        },
        "id": "5iW4Ugfzw9CL",
        "outputId": "e496bceb-cbf3-4fe8-9d1d-40868a37d716"
      },
      "source": [
        "fruits"
      ],
      "execution_count": 153,
      "outputs": [
        {
          "output_type": "execute_result",
          "data": {
            "text/plain": [
              "['apple', 'banana', 'cherry', 'orange']"
            ]
          },
          "metadata": {
            "tags": []
          },
          "execution_count": 153
        }
      ]
    },
    {
      "cell_type": "code",
      "metadata": {
        "id": "avgRF23Pw96I"
      },
      "source": [
        "fruits[1] = 'Kiwi'"
      ],
      "execution_count": 154,
      "outputs": []
    },
    {
      "cell_type": "code",
      "metadata": {
        "colab": {
          "base_uri": "https://localhost:8080/"
        },
        "id": "M_cs9nfNxK-6",
        "outputId": "3576a6a9-2c5e-4764-c584-dae79ac9d547"
      },
      "source": [
        "fruits"
      ],
      "execution_count": 155,
      "outputs": [
        {
          "output_type": "execute_result",
          "data": {
            "text/plain": [
              "['apple', 'Kiwi', 'cherry', 'orange']"
            ]
          },
          "metadata": {
            "tags": []
          },
          "execution_count": 155
        }
      ]
    },
    {
      "cell_type": "markdown",
      "metadata": {
        "id": "TzbDCmFyxSUe"
      },
      "source": [
        "Adding items in List"
      ]
    },
    {
      "cell_type": "code",
      "metadata": {
        "colab": {
          "base_uri": "https://localhost:8080/"
        },
        "id": "OpepuYALxLcu",
        "outputId": "4c8dc6d7-fc18-4e74-e58c-8696db6bd390"
      },
      "source": [
        "#Append\n",
        "print(fruits)"
      ],
      "execution_count": 156,
      "outputs": [
        {
          "output_type": "stream",
          "text": [
            "['apple', 'Kiwi', 'cherry', 'orange']\n"
          ],
          "name": "stdout"
        }
      ]
    },
    {
      "cell_type": "code",
      "metadata": {
        "id": "nTZdhX6JxY5w"
      },
      "source": [
        "fruits.append('mango')"
      ],
      "execution_count": 157,
      "outputs": []
    },
    {
      "cell_type": "code",
      "metadata": {
        "colab": {
          "base_uri": "https://localhost:8080/"
        },
        "id": "IpYlR_Vixcmu",
        "outputId": "8a7adc80-ce01-4fb2-f831-41ccb1d52057"
      },
      "source": [
        "fruits.append('Banana')\n",
        "print(fruits)"
      ],
      "execution_count": 158,
      "outputs": [
        {
          "output_type": "stream",
          "text": [
            "['apple', 'Kiwi', 'cherry', 'orange', 'mango', 'Banana']\n"
          ],
          "name": "stdout"
        }
      ]
    },
    {
      "cell_type": "code",
      "metadata": {
        "colab": {
          "base_uri": "https://localhost:8080/"
        },
        "id": "RHfkm50GxfTm",
        "outputId": "140b9f32-6a84-4ced-97d9-70846c8974ce"
      },
      "source": [
        "#Insert method  insert(index, value)\n",
        "fruits.insert(3,'custard apple')\n",
        "print(fruits)"
      ],
      "execution_count": 159,
      "outputs": [
        {
          "output_type": "stream",
          "text": [
            "['apple', 'Kiwi', 'cherry', 'custard apple', 'orange', 'mango', 'Banana']\n"
          ],
          "name": "stdout"
        }
      ]
    },
    {
      "cell_type": "code",
      "metadata": {
        "id": "2NhKaGT1yUU7"
      },
      "source": [
        "fruits.insert(6,\"watermelon\")"
      ],
      "execution_count": 160,
      "outputs": []
    },
    {
      "cell_type": "code",
      "metadata": {
        "colab": {
          "base_uri": "https://localhost:8080/"
        },
        "id": "kdF5je5Mz7F4",
        "outputId": "a83900b5-e976-4e47-d999-d73142219ef7"
      },
      "source": [
        "print(fruits)"
      ],
      "execution_count": 161,
      "outputs": [
        {
          "output_type": "stream",
          "text": [
            "['apple', 'Kiwi', 'cherry', 'custard apple', 'orange', 'mango', 'watermelon', 'Banana']\n"
          ],
          "name": "stdout"
        }
      ]
    },
    {
      "cell_type": "code",
      "metadata": {
        "colab": {
          "base_uri": "https://localhost:8080/"
        },
        "id": "RuZ6UKzTz8JA",
        "outputId": "ed41b1d7-809a-4230-d548-f8ef8a033417"
      },
      "source": [
        "#Extend List\n",
        "a = [1,2,3]\n",
        "b = [4,5,6]\n",
        "a.extend(b)\n",
        "print(a)\n",
        "print(b)"
      ],
      "execution_count": 162,
      "outputs": [
        {
          "output_type": "stream",
          "text": [
            "[1, 2, 3, 4, 5, 6]\n",
            "[4, 5, 6]\n"
          ],
          "name": "stdout"
        }
      ]
    },
    {
      "cell_type": "markdown",
      "metadata": {
        "id": "lI3ArsxN0T4m"
      },
      "source": [
        "Removing List Items"
      ]
    },
    {
      "cell_type": "code",
      "metadata": {
        "colab": {
          "base_uri": "https://localhost:8080/"
        },
        "id": "QQ9iAu750KCd",
        "outputId": "8f940e0b-456b-40fb-fadb-0431259f11e7"
      },
      "source": [
        "print(fruits)"
      ],
      "execution_count": 163,
      "outputs": [
        {
          "output_type": "stream",
          "text": [
            "['apple', 'Kiwi', 'cherry', 'custard apple', 'orange', 'mango', 'watermelon', 'Banana']\n"
          ],
          "name": "stdout"
        }
      ]
    },
    {
      "cell_type": "code",
      "metadata": {
        "colab": {
          "base_uri": "https://localhost:8080/"
        },
        "id": "p8wz5nAC0bh5",
        "outputId": "9ec2165e-0fd4-409e-d691-a334aaa487ac"
      },
      "source": [
        "#remove\n",
        "fruits.remove(\"custard apple\")\n",
        "print(fruits)"
      ],
      "execution_count": 164,
      "outputs": [
        {
          "output_type": "stream",
          "text": [
            "['apple', 'Kiwi', 'cherry', 'orange', 'mango', 'watermelon', 'Banana']\n"
          ],
          "name": "stdout"
        }
      ]
    },
    {
      "cell_type": "code",
      "metadata": {
        "colab": {
          "base_uri": "https://localhost:8080/"
        },
        "id": "pWgjXnk20i3v",
        "outputId": "fd41b4ad-4d49-4e33-ec04-1a8a9e7c0869"
      },
      "source": [
        "fruits.remove('Kiwi')\n",
        "print(fruits)"
      ],
      "execution_count": 165,
      "outputs": [
        {
          "output_type": "stream",
          "text": [
            "['apple', 'cherry', 'orange', 'mango', 'watermelon', 'Banana']\n"
          ],
          "name": "stdout"
        }
      ]
    },
    {
      "cell_type": "code",
      "metadata": {
        "colab": {
          "base_uri": "https://localhost:8080/"
        },
        "id": "PacBjXq-0p1C",
        "outputId": "357254a1-3fb3-4f23-e4c2-e3b736530abe"
      },
      "source": [
        "#POP\n",
        "fruits.pop()\n",
        "print(fruits)"
      ],
      "execution_count": 166,
      "outputs": [
        {
          "output_type": "stream",
          "text": [
            "['apple', 'cherry', 'orange', 'mango', 'watermelon']\n"
          ],
          "name": "stdout"
        }
      ]
    },
    {
      "cell_type": "code",
      "metadata": {
        "colab": {
          "base_uri": "https://localhost:8080/"
        },
        "id": "9lZCr8dE00Qy",
        "outputId": "99456d91-6e80-4874-a99a-6b2c3f8f63c2"
      },
      "source": [
        "fruits.pop(3)\n",
        "print(fruits)"
      ],
      "execution_count": 167,
      "outputs": [
        {
          "output_type": "stream",
          "text": [
            "['apple', 'cherry', 'orange', 'watermelon']\n"
          ],
          "name": "stdout"
        }
      ]
    },
    {
      "cell_type": "code",
      "metadata": {
        "colab": {
          "base_uri": "https://localhost:8080/"
        },
        "id": "4bIxNb9y04c8",
        "outputId": "2b6a3e62-d92e-4236-fe67-239a3e33e2d2"
      },
      "source": [
        "#del \n",
        "a = [1,2,3,4,5]\n",
        "del a[1]\n",
        "print(a)"
      ],
      "execution_count": 168,
      "outputs": [
        {
          "output_type": "stream",
          "text": [
            "[1, 3, 4, 5]\n"
          ],
          "name": "stdout"
        }
      ]
    },
    {
      "cell_type": "code",
      "metadata": {
        "colab": {
          "base_uri": "https://localhost:8080/"
        },
        "id": "BM6CbchE1BpO",
        "outputId": "3d595b66-e554-4be1-cc0c-c29c163e2a09"
      },
      "source": [
        "print(a)\n",
        "del a\n",
        "#print(a)"
      ],
      "execution_count": 169,
      "outputs": [
        {
          "output_type": "stream",
          "text": [
            "[1, 3, 4, 5]\n"
          ],
          "name": "stdout"
        }
      ]
    },
    {
      "cell_type": "code",
      "metadata": {
        "colab": {
          "base_uri": "https://localhost:8080/"
        },
        "id": "NzHZx_nk1HHD",
        "outputId": "15e0c8b7-4100-49ec-fb8c-967eadecedcc"
      },
      "source": [
        "#clear\n",
        "b = [2,3,4,5,6]\n",
        "print(b)\n",
        "b.clear()\n",
        "print(b)"
      ],
      "execution_count": 170,
      "outputs": [
        {
          "output_type": "stream",
          "text": [
            "[2, 3, 4, 5, 6]\n",
            "[]\n"
          ],
          "name": "stdout"
        }
      ]
    },
    {
      "cell_type": "markdown",
      "metadata": {
        "id": "B8kndvXz1shy"
      },
      "source": [
        "Looping through Lists"
      ]
    },
    {
      "cell_type": "code",
      "metadata": {
        "colab": {
          "base_uri": "https://localhost:8080/"
        },
        "id": "sUJflzH91mgb",
        "outputId": "8f640b37-24d6-4940-8be5-0cf42d2b7d9a"
      },
      "source": [
        "print(fruits)"
      ],
      "execution_count": 171,
      "outputs": [
        {
          "output_type": "stream",
          "text": [
            "['apple', 'cherry', 'orange', 'watermelon']\n"
          ],
          "name": "stdout"
        }
      ]
    },
    {
      "cell_type": "code",
      "metadata": {
        "colab": {
          "base_uri": "https://localhost:8080/"
        },
        "id": "VFuJi2nt17Yl",
        "outputId": "15f754e4-3db4-445a-d52e-d865df649936"
      },
      "source": [
        "for i in fruits:\n",
        "  print(i)"
      ],
      "execution_count": 172,
      "outputs": [
        {
          "output_type": "stream",
          "text": [
            "apple\n",
            "cherry\n",
            "orange\n",
            "watermelon\n"
          ],
          "name": "stdout"
        }
      ]
    },
    {
      "cell_type": "code",
      "metadata": {
        "colab": {
          "base_uri": "https://localhost:8080/"
        },
        "id": "iA8tfOd81_Qj",
        "outputId": "c4c0040e-f3c4-4e1f-af5c-398cdc402f0c"
      },
      "source": [
        "#Looping through index numbers\n",
        "for i in range(len(fruits)):\n",
        "  print(fruits[i])"
      ],
      "execution_count": 173,
      "outputs": [
        {
          "output_type": "stream",
          "text": [
            "apple\n",
            "cherry\n",
            "orange\n",
            "watermelon\n"
          ],
          "name": "stdout"
        }
      ]
    },
    {
      "cell_type": "code",
      "metadata": {
        "colab": {
          "base_uri": "https://localhost:8080/"
        },
        "id": "U5DHwjQE2HDQ",
        "outputId": "8125002a-ddc6-4fd1-ab30-3fc12b791ad1"
      },
      "source": [
        "#Using While loop\n",
        "fruits = ['apple','Mango', 'cherry', 'orange', 'watermelon']\n",
        "i=0\n",
        "while i<len(fruits):\n",
        "  print(fruits[i])\n",
        "  i+=1"
      ],
      "execution_count": 174,
      "outputs": [
        {
          "output_type": "stream",
          "text": [
            "apple\n",
            "Mango\n",
            "cherry\n",
            "orange\n",
            "watermelon\n"
          ],
          "name": "stdout"
        }
      ]
    },
    {
      "cell_type": "markdown",
      "metadata": {
        "id": "gkHBaJvDbeTp"
      },
      "source": [
        "List comprehension"
      ]
    },
    {
      "cell_type": "code",
      "metadata": {
        "id": "LAUEZ9Ze2Z1E",
        "colab": {
          "base_uri": "https://localhost:8080/"
        },
        "outputId": "108f58f6-95a7-4ff4-96e4-fdd5ca1af918"
      },
      "source": [
        "numbers = [11,12,13,14,15,16,17,18]\n",
        "[print(x) for x in numbers]"
      ],
      "execution_count": 175,
      "outputs": [
        {
          "output_type": "stream",
          "text": [
            "11\n",
            "12\n",
            "13\n",
            "14\n",
            "15\n",
            "16\n",
            "17\n",
            "18\n"
          ],
          "name": "stdout"
        },
        {
          "output_type": "execute_result",
          "data": {
            "text/plain": [
              "[None, None, None, None, None, None, None, None]"
            ]
          },
          "metadata": {
            "tags": []
          },
          "execution_count": 175
        }
      ]
    },
    {
      "cell_type": "code",
      "metadata": {
        "id": "3Jo2i63keKuL"
      },
      "source": [
        ""
      ],
      "execution_count": null,
      "outputs": []
    },
    {
      "cell_type": "code",
      "metadata": {
        "colab": {
          "base_uri": "https://localhost:8080/"
        },
        "id": "JBMkWv6qbu5x",
        "outputId": "3c7bab60-4cd5-4914-c7f8-2cc4ab1cdc94"
      },
      "source": [
        "num = [101,102,103,104,105,106]\n",
        "newlist = []\n",
        "for i in range(3):\n",
        "  newlist.append(num[i])\n",
        "\n",
        "print(newlist)\n"
      ],
      "execution_count": 180,
      "outputs": [
        {
          "output_type": "stream",
          "text": [
            "[101, 102, 103]\n"
          ],
          "name": "stdout"
        }
      ]
    },
    {
      "cell_type": "code",
      "metadata": {
        "colab": {
          "base_uri": "https://localhost:8080/"
        },
        "id": "cSaIdRFOdyQt",
        "outputId": "20022306-d2c3-4f58-9473-eccd0348efd3"
      },
      "source": [
        "num = [101,102,103,104,105,106]\n",
        "newlist = [num[i] for i in range(3)]\n",
        "\n",
        "print(newlist)\n"
      ],
      "execution_count": 179,
      "outputs": [
        {
          "output_type": "stream",
          "text": [
            "[101, 102, 103]\n"
          ],
          "name": "stdout"
        }
      ]
    },
    {
      "cell_type": "code",
      "metadata": {
        "colab": {
          "base_uri": "https://localhost:8080/"
        },
        "id": "saknLynbd-dc",
        "outputId": "cfb3ff62-7ebf-425f-ccb9-924e80417d56"
      },
      "source": [
        "#condition\n",
        "x = ['red','black','orange','brown','green','blue']\n",
        "newx = [item for item in x if item!= 'red']\n",
        "print(newx)"
      ],
      "execution_count": 183,
      "outputs": [
        {
          "output_type": "stream",
          "text": [
            "['black', 'orange', 'brown', 'green', 'blue']\n"
          ],
          "name": "stdout"
        }
      ]
    },
    {
      "cell_type": "code",
      "metadata": {
        "colab": {
          "base_uri": "https://localhost:8080/"
        },
        "id": "YSIyQVYIecP1",
        "outputId": "766af22e-0a15-453f-ad24-95d40db756b7"
      },
      "source": [
        "#Iterable\n",
        "k = [i for i in range(10)]\n",
        "print(k)"
      ],
      "execution_count": 184,
      "outputs": [
        {
          "output_type": "stream",
          "text": [
            "[0, 1, 2, 3, 4, 5, 6, 7, 8, 9]\n"
          ],
          "name": "stdout"
        }
      ]
    },
    {
      "cell_type": "code",
      "metadata": {
        "colab": {
          "base_uri": "https://localhost:8080/"
        },
        "id": "SN1a5NA-eyZZ",
        "outputId": "2463b685-0fac-4806-9b34-82dc56b27e57"
      },
      "source": [
        "k1 = [i for i in range(100) if i<10]\n",
        "print(k1)"
      ],
      "execution_count": 185,
      "outputs": [
        {
          "output_type": "stream",
          "text": [
            "[0, 1, 2, 3, 4, 5, 6, 7, 8, 9]\n"
          ],
          "name": "stdout"
        }
      ]
    },
    {
      "cell_type": "code",
      "metadata": {
        "colab": {
          "base_uri": "https://localhost:8080/"
        },
        "id": "GKTiOQoae76M",
        "outputId": "05a2bf0c-2009-4c28-9eae-299a696f980c"
      },
      "source": [
        "#Expression\n",
        "y = ['red','black','orange','brown','green','blue']\n",
        "newy = [item.upper() for item in x ]\n",
        "print(newy)"
      ],
      "execution_count": 187,
      "outputs": [
        {
          "output_type": "stream",
          "text": [
            "['RED', 'BLACK', 'ORANGE', 'BROWN', 'GREEN', 'BLUE']\n"
          ],
          "name": "stdout"
        }
      ]
    },
    {
      "cell_type": "markdown",
      "metadata": {
        "id": "0ytq2L4ffOtG"
      },
      "source": [
        "Sort Lists"
      ]
    },
    {
      "cell_type": "code",
      "metadata": {
        "colab": {
          "base_uri": "https://localhost:8080/"
        },
        "id": "h04BL0YDfFtH",
        "outputId": "18d0a091-4bb9-41ff-8832-fb402363c080"
      },
      "source": [
        "#sort()\n",
        "colors = ['red','black','orange','blue','green']\n",
        "colors.sort()\n",
        "print(colors)"
      ],
      "execution_count": 188,
      "outputs": [
        {
          "output_type": "stream",
          "text": [
            "['black', 'blue', 'green', 'orange', 'red']\n"
          ],
          "name": "stdout"
        }
      ]
    },
    {
      "cell_type": "code",
      "metadata": {
        "colab": {
          "base_uri": "https://localhost:8080/"
        },
        "id": "27iOSXh9fdUM",
        "outputId": "4e274efb-8b6d-489b-be75-65f08684850b"
      },
      "source": [
        "nv = [6,3,4,1,5,2]\n",
        "nv.sort()\n",
        "print(nv)"
      ],
      "execution_count": 193,
      "outputs": [
        {
          "output_type": "stream",
          "text": [
            "[1, 2, 3, 4, 5, 6]\n"
          ],
          "name": "stdout"
        }
      ]
    },
    {
      "cell_type": "code",
      "metadata": {
        "colab": {
          "base_uri": "https://localhost:8080/"
        },
        "id": "YRAZOQgwfknQ",
        "outputId": "702e669f-38db-4913-a6eb-b7d6cbcfb9c8"
      },
      "source": [
        "# Reverse Order sorting\n",
        "print(nv)\n",
        "nv.sort(reverse=True)\n",
        "print(\"after sorting:\",nv)"
      ],
      "execution_count": 194,
      "outputs": [
        {
          "output_type": "stream",
          "text": [
            "[1, 2, 3, 4, 5, 6]\n",
            "after sorting: [6, 5, 4, 3, 2, 1]\n"
          ],
          "name": "stdout"
        }
      ]
    },
    {
      "cell_type": "code",
      "metadata": {
        "colab": {
          "base_uri": "https://localhost:8080/"
        },
        "id": "hcPAzZFmfwux",
        "outputId": "6a89061b-6e63-429f-f0f6-9f22d8bc9694"
      },
      "source": [
        "#customize sort functions\n",
        "def fun(n):\n",
        "  return abs(n-3)\n",
        "\n",
        "list3 = [100,20,3,10,50,83,44]\n",
        "list3.sort(key=fun)\n",
        "print(list3)"
      ],
      "execution_count": 196,
      "outputs": [
        {
          "output_type": "stream",
          "text": [
            "[3, 10, 20, 44, 50, 83, 100]\n"
          ],
          "name": "stdout"
        }
      ]
    },
    {
      "cell_type": "markdown",
      "metadata": {
        "id": "CWuAIlYlgewt"
      },
      "source": [
        "Copying List"
      ]
    },
    {
      "cell_type": "code",
      "metadata": {
        "colab": {
          "base_uri": "https://localhost:8080/"
        },
        "id": "5_gARAPSgUuL",
        "outputId": "8662415f-5187-4fb9-be5b-05be496b4183"
      },
      "source": [
        "list4 = [x for x in range(2,12,2)]\n",
        "print(list4)"
      ],
      "execution_count": 197,
      "outputs": [
        {
          "output_type": "stream",
          "text": [
            "[2, 4, 6, 8, 10]\n"
          ],
          "name": "stdout"
        }
      ]
    },
    {
      "cell_type": "code",
      "metadata": {
        "colab": {
          "base_uri": "https://localhost:8080/"
        },
        "id": "R-tVZwprgp3Y",
        "outputId": "80ed413f-5721-4fa2-b64a-7dd7651632d9"
      },
      "source": [
        "newlist4 = list4.copy()\n",
        "print(newlist4)"
      ],
      "execution_count": 198,
      "outputs": [
        {
          "output_type": "stream",
          "text": [
            "[2, 4, 6, 8, 10]\n"
          ],
          "name": "stdout"
        }
      ]
    },
    {
      "cell_type": "code",
      "metadata": {
        "colab": {
          "base_uri": "https://localhost:8080/"
        },
        "id": "kYepJKVQgwKE",
        "outputId": "ba388d22-0ba2-4872-b7f5-083c9734198c"
      },
      "source": [
        "newlist4[3] = 400\n",
        "print(newlist4)\n",
        "print(list4)"
      ],
      "execution_count": 199,
      "outputs": [
        {
          "output_type": "stream",
          "text": [
            "[2, 4, 6, 400, 10]\n",
            "[2, 4, 6, 8, 10]\n"
          ],
          "name": "stdout"
        }
      ]
    },
    {
      "cell_type": "code",
      "metadata": {
        "colab": {
          "base_uri": "https://localhost:8080/"
        },
        "id": "PEdN6_1Hg-3n",
        "outputId": "3fdfd2c3-10e9-4d2e-8b8d-6f33b7d8f034"
      },
      "source": [
        "p = [c for c in range(2,20,2)]\n",
        "print(p)"
      ],
      "execution_count": 200,
      "outputs": [
        {
          "output_type": "stream",
          "text": [
            "[2, 4, 6, 8, 10, 12, 14, 16, 18]\n"
          ],
          "name": "stdout"
        }
      ]
    },
    {
      "cell_type": "code",
      "metadata": {
        "colab": {
          "base_uri": "https://localhost:8080/"
        },
        "id": "-Mll6CMihImY",
        "outputId": "efefe974-77ef-4058-d46d-4d0b188b2fcc"
      },
      "source": [
        "p_copy = list (p)\n",
        "print(p_copy)\n"
      ],
      "execution_count": 201,
      "outputs": [
        {
          "output_type": "stream",
          "text": [
            "[2, 4, 6, 8, 10, 12, 14, 16, 18]\n"
          ],
          "name": "stdout"
        }
      ]
    },
    {
      "cell_type": "code",
      "metadata": {
        "colab": {
          "base_uri": "https://localhost:8080/"
        },
        "id": "0MAhVKqMhP7c",
        "outputId": "ac69d7cc-56b0-421d-bb34-e46b1e344cc8"
      },
      "source": [
        "p_copy[0] = 100\n",
        "print(p_copy)\n",
        "print(p)"
      ],
      "execution_count": 203,
      "outputs": [
        {
          "output_type": "stream",
          "text": [
            "[100, 4, 6, 8, 10, 12, 14, 16, 18]\n",
            "[2, 4, 6, 8, 10, 12, 14, 16, 18]\n"
          ],
          "name": "stdout"
        }
      ]
    },
    {
      "cell_type": "markdown",
      "metadata": {
        "id": "5GArZ7Tihtza"
      },
      "source": [
        "Joining two lists"
      ]
    },
    {
      "cell_type": "code",
      "metadata": {
        "colab": {
          "base_uri": "https://localhost:8080/"
        },
        "id": "ACv6jZ3mhVGU",
        "outputId": "0338f158-9188-4646-8765-e56793fcd9e4"
      },
      "source": [
        "a = [1,2,3]\n",
        "b = [4,5,6]\n",
        "print(a+b)"
      ],
      "execution_count": 205,
      "outputs": [
        {
          "output_type": "stream",
          "text": [
            "[1, 2, 3, 4, 5, 6]\n"
          ],
          "name": "stdout"
        }
      ]
    },
    {
      "cell_type": "code",
      "metadata": {
        "colab": {
          "base_uri": "https://localhost:8080/"
        },
        "id": "FXJ3RQKth0lJ",
        "outputId": "ef03f403-3cfa-4c86-dbb0-c6ac5aee8c4f"
      },
      "source": [
        "a = [1,2,3]\n",
        "b = [4,5,6]\n",
        "a.append(b)\n",
        "print(a)"
      ],
      "execution_count": 207,
      "outputs": [
        {
          "output_type": "stream",
          "text": [
            "[1, 2, 3, [4, 5, 6]]\n"
          ],
          "name": "stdout"
        }
      ]
    },
    {
      "cell_type": "code",
      "metadata": {
        "colab": {
          "base_uri": "https://localhost:8080/"
        },
        "id": "G4pffCM-iBYW",
        "outputId": "8e199ae8-34dc-4a96-bc97-aa99fccad9ca"
      },
      "source": [
        "a = [1,2,3]\n",
        "b = [4,5,6]\n",
        "for i in b:\n",
        "  a.append(i)\n",
        "\n",
        "print(a)"
      ],
      "execution_count": 208,
      "outputs": [
        {
          "output_type": "stream",
          "text": [
            "[1, 2, 3, 4, 5, 6]\n"
          ],
          "name": "stdout"
        }
      ]
    },
    {
      "cell_type": "code",
      "metadata": {
        "colab": {
          "base_uri": "https://localhost:8080/"
        },
        "id": "SCUmh5uIiOI3",
        "outputId": "b59d0ef3-1d7c-4bc7-b47e-328f6a286eec"
      },
      "source": [
        "a = [1,2,3]\n",
        "b = [4,5,6]\n",
        "a.extend(b)\n",
        "print(a)"
      ],
      "execution_count": 209,
      "outputs": [
        {
          "output_type": "stream",
          "text": [
            "[1, 2, 3, 4, 5, 6]\n"
          ],
          "name": "stdout"
        }
      ]
    },
    {
      "cell_type": "markdown",
      "metadata": {
        "id": "8hY0Awkxikl_"
      },
      "source": [
        "List methods"
      ]
    },
    {
      "cell_type": "code",
      "metadata": {
        "colab": {
          "base_uri": "https://localhost:8080/"
        },
        "id": "W6Dl9A-6iTBn",
        "outputId": "65c9cd58-bb25-4a57-c509-3af90b522057"
      },
      "source": [
        "#append()\n",
        "p = [1,2,3]\n",
        "p.append(4)\n",
        "p.append(4)\n",
        "print(p)"
      ],
      "execution_count": 210,
      "outputs": [
        {
          "output_type": "stream",
          "text": [
            "[1, 2, 3, 4, 4]\n"
          ],
          "name": "stdout"
        }
      ]
    },
    {
      "cell_type": "code",
      "metadata": {
        "colab": {
          "base_uri": "https://localhost:8080/"
        },
        "id": "AeQ8dYfVisxO",
        "outputId": "65495208-0bbd-4980-f9a9-e89d45039c4e"
      },
      "source": [
        "#clear\n",
        "p = [1,4,5,6]\n",
        "print(p)\n",
        "p.clear()\n",
        "print(p)"
      ],
      "execution_count": 212,
      "outputs": [
        {
          "output_type": "stream",
          "text": [
            "[1, 4, 5, 6]\n",
            "[]\n"
          ],
          "name": "stdout"
        }
      ]
    },
    {
      "cell_type": "code",
      "metadata": {
        "colab": {
          "base_uri": "https://localhost:8080/"
        },
        "id": "av3V_0wXizBr",
        "outputId": "001e8818-e843-4d7d-ae09-279cf523ce26"
      },
      "source": [
        "c = [5,5,5,5]\n",
        "d = c.copy()\n",
        "print(c)\n",
        "print(d)"
      ],
      "execution_count": 213,
      "outputs": [
        {
          "output_type": "stream",
          "text": [
            "[5, 5, 5, 5]\n",
            "[5, 5, 5, 5]\n"
          ],
          "name": "stdout"
        }
      ]
    },
    {
      "cell_type": "code",
      "metadata": {
        "colab": {
          "base_uri": "https://localhost:8080/"
        },
        "id": "NuHvkzPEi-GD",
        "outputId": "8dd7bbec-fd9b-4caf-ad6a-dfe9d3a4defa"
      },
      "source": [
        "#count()\n",
        "c = [1,3,3,4,5,6,6,6,7,2]\n",
        "c.count(6)"
      ],
      "execution_count": 215,
      "outputs": [
        {
          "output_type": "execute_result",
          "data": {
            "text/plain": [
              "3"
            ]
          },
          "metadata": {
            "tags": []
          },
          "execution_count": 215
        }
      ]
    },
    {
      "cell_type": "code",
      "metadata": {
        "colab": {
          "base_uri": "https://localhost:8080/"
        },
        "id": "qMWQzR0EjHkb",
        "outputId": "e31e7318-b977-4e98-f488-9160c0be6fb4"
      },
      "source": [
        "#extend\n",
        "f = [1,2,3]\n",
        "g = [4,5,6]\n",
        "f.extend(g)\n",
        "print(f)"
      ],
      "execution_count": 216,
      "outputs": [
        {
          "output_type": "stream",
          "text": [
            "[1, 2, 3, 4, 5, 6]\n"
          ],
          "name": "stdout"
        }
      ]
    },
    {
      "cell_type": "code",
      "metadata": {
        "colab": {
          "base_uri": "https://localhost:8080/"
        },
        "id": "FTf2IuhOjSbP",
        "outputId": "ce41faaf-5080-49c6-d6d7-ff8136094d03"
      },
      "source": [
        "h = [2,4,3,1]\n",
        "h.index(4)"
      ],
      "execution_count": 217,
      "outputs": [
        {
          "output_type": "execute_result",
          "data": {
            "text/plain": [
              "1"
            ]
          },
          "metadata": {
            "tags": []
          },
          "execution_count": 217
        }
      ]
    },
    {
      "cell_type": "code",
      "metadata": {
        "colab": {
          "base_uri": "https://localhost:8080/"
        },
        "id": "z8gJQpZ6jXQj",
        "outputId": "ae103945-1b95-4ed4-8b4d-2a13c3e736d0"
      },
      "source": [
        "#insert\n",
        "h = [1,2,3,4,5]\n",
        "h.insert(4,1000)\n",
        "print(h)"
      ],
      "execution_count": 222,
      "outputs": [
        {
          "output_type": "stream",
          "text": [
            "[1, 2, 3, 4, 1000, 5]\n"
          ],
          "name": "stdout"
        }
      ]
    },
    {
      "cell_type": "code",
      "metadata": {
        "colab": {
          "base_uri": "https://localhost:8080/"
        },
        "id": "uhOUmsGHjfXr",
        "outputId": "29cd680e-f7bc-44b2-b290-13877bcce792"
      },
      "source": [
        "#pop()\n",
        "h.pop()"
      ],
      "execution_count": 223,
      "outputs": [
        {
          "output_type": "execute_result",
          "data": {
            "text/plain": [
              "5"
            ]
          },
          "metadata": {
            "tags": []
          },
          "execution_count": 223
        }
      ]
    },
    {
      "cell_type": "code",
      "metadata": {
        "colab": {
          "base_uri": "https://localhost:8080/"
        },
        "id": "v9_TYZMHjiAu",
        "outputId": "9f334dfe-5be5-457d-964d-6461730c7b86"
      },
      "source": [
        "h.remove(2)\n",
        "print(h)"
      ],
      "execution_count": 224,
      "outputs": [
        {
          "output_type": "stream",
          "text": [
            "[1, 3, 4, 1000]\n"
          ],
          "name": "stdout"
        }
      ]
    },
    {
      "cell_type": "code",
      "metadata": {
        "colab": {
          "base_uri": "https://localhost:8080/"
        },
        "id": "xRGWExSwjlKW",
        "outputId": "3c7bed72-2363-4919-e7ff-4b77d16f8fe2"
      },
      "source": [
        "#reverse\n",
        "v = [3,2,1,4,5]\n",
        "v.reverse()\n",
        "print(v)"
      ],
      "execution_count": 225,
      "outputs": [
        {
          "output_type": "stream",
          "text": [
            "[5, 4, 1, 2, 3]\n"
          ],
          "name": "stdout"
        }
      ]
    },
    {
      "cell_type": "code",
      "metadata": {
        "id": "EAAxvHMDjvgW"
      },
      "source": [
        "#sort\n",
        "v.sort()"
      ],
      "execution_count": 226,
      "outputs": []
    },
    {
      "cell_type": "code",
      "metadata": {
        "id": "jTW2kyOfjzSb"
      },
      "source": [
        ""
      ],
      "execution_count": null,
      "outputs": []
    },
    {
      "cell_type": "markdown",
      "metadata": {
        "id": "En6yXcXXkIsr"
      },
      "source": [
        "# **Tuple**"
      ]
    },
    {
      "cell_type": "markdown",
      "metadata": {
        "id": "xD-U0Sp8kUT0"
      },
      "source": [
        "A tuple is a collection which is ordered and unchangeable.\n",
        "\n"
      ]
    },
    {
      "cell_type": "code",
      "metadata": {
        "colab": {
          "base_uri": "https://localhost:8080/"
        },
        "id": "RhLlqHIikQON",
        "outputId": "eb0a5d10-e47d-4178-c3e1-3c332b5b13cd"
      },
      "source": [
        "tuple1 = (1,2,3,4,5)\n",
        "print(tuple1)\n",
        "print(type(tuple1))"
      ],
      "execution_count": 227,
      "outputs": [
        {
          "output_type": "stream",
          "text": [
            "(1, 2, 3, 4, 5)\n",
            "<class 'tuple'>\n"
          ],
          "name": "stdout"
        }
      ]
    },
    {
      "cell_type": "code",
      "metadata": {
        "colab": {
          "base_uri": "https://localhost:8080/"
        },
        "id": "bWNgiev3lru9",
        "outputId": "39278385-78f6-4cd6-e6b6-b80767e57188"
      },
      "source": [
        "print(len(tuple1))"
      ],
      "execution_count": 228,
      "outputs": [
        {
          "output_type": "stream",
          "text": [
            "5\n"
          ],
          "name": "stdout"
        }
      ]
    },
    {
      "cell_type": "code",
      "metadata": {
        "colab": {
          "base_uri": "https://localhost:8080/"
        },
        "id": "Wp9i-hONl39o",
        "outputId": "69ac68ef-50c3-432f-b679-7f1c7abb87b2"
      },
      "source": [
        "x = (\"red\",)\n",
        "print(type(x))\n",
        "\n",
        "y = ('red')\n",
        "print(type(y))"
      ],
      "execution_count": 229,
      "outputs": [
        {
          "output_type": "stream",
          "text": [
            "<class 'tuple'>\n",
            "<class 'str'>\n"
          ],
          "name": "stdout"
        }
      ]
    },
    {
      "cell_type": "code",
      "metadata": {
        "colab": {
          "base_uri": "https://localhost:8080/"
        },
        "id": "Wa7A7ohPmFXC",
        "outputId": "44c65d8d-a589-420c-b949-4bc82dde5223"
      },
      "source": [
        "tuple3 = (1,2,3,4,5)\n",
        "tuple4 = ('a','b','c','d')\n",
        "tuple5 = (True,False,True,True,False)\n",
        "print(tuple3,tuple4,tuple5)"
      ],
      "execution_count": 231,
      "outputs": [
        {
          "output_type": "stream",
          "text": [
            "(1, 2, 3, 4, 5) ('a', 'b', 'c', 'd') (True, False, True, True, False)\n"
          ],
          "name": "stdout"
        }
      ]
    },
    {
      "cell_type": "code",
      "metadata": {
        "colab": {
          "base_uri": "https://localhost:8080/"
        },
        "id": "GAA5AXoamgjl",
        "outputId": "75022311-0ab8-4579-d0bc-c68f8a8a56e9"
      },
      "source": [
        "m = ('red','a',1,2.0,True)\n",
        "print(m)"
      ],
      "execution_count": 232,
      "outputs": [
        {
          "output_type": "stream",
          "text": [
            "('red', 'a', 1, 2.0, True)\n"
          ],
          "name": "stdout"
        }
      ]
    },
    {
      "cell_type": "code",
      "metadata": {
        "colab": {
          "base_uri": "https://localhost:8080/"
        },
        "id": "7FanPxP7nBOR",
        "outputId": "f28830c4-0d86-49aa-dad8-5649e7cd82b7"
      },
      "source": [
        "color = ('red','black','green','blue','orange')\n",
        "print(type(color))"
      ],
      "execution_count": 233,
      "outputs": [
        {
          "output_type": "stream",
          "text": [
            "<class 'tuple'>\n"
          ],
          "name": "stdout"
        }
      ]
    },
    {
      "cell_type": "code",
      "metadata": {
        "colab": {
          "base_uri": "https://localhost:8080/"
        },
        "id": "UF3mpsBGnSto",
        "outputId": "c886c892-7dab-4ed4-cd0d-8437f6d73eb0"
      },
      "source": [
        "x = tuple((1,2,3,4,5))\n",
        "print(type(x))"
      ],
      "execution_count": 234,
      "outputs": [
        {
          "output_type": "stream",
          "text": [
            "<class 'tuple'>\n"
          ],
          "name": "stdout"
        }
      ]
    },
    {
      "cell_type": "code",
      "metadata": {
        "colab": {
          "base_uri": "https://localhost:8080/"
        },
        "id": "d5C08GBXnZC3",
        "outputId": "72d65cd4-1678-4c84-b47c-6975a25b7b4e"
      },
      "source": [
        "x[1]"
      ],
      "execution_count": 235,
      "outputs": [
        {
          "output_type": "execute_result",
          "data": {
            "text/plain": [
              "2"
            ]
          },
          "metadata": {
            "tags": []
          },
          "execution_count": 235
        }
      ]
    },
    {
      "cell_type": "code",
      "metadata": {
        "colab": {
          "base_uri": "https://localhost:8080/"
        },
        "id": "-F8-2zggne_f",
        "outputId": "b46aa729-6a9c-4cab-9c5f-83b0d1494b12"
      },
      "source": [
        "x[4]"
      ],
      "execution_count": 236,
      "outputs": [
        {
          "output_type": "execute_result",
          "data": {
            "text/plain": [
              "5"
            ]
          },
          "metadata": {
            "tags": []
          },
          "execution_count": 236
        }
      ]
    },
    {
      "cell_type": "code",
      "metadata": {
        "colab": {
          "base_uri": "https://localhost:8080/"
        },
        "id": "SVcR9Gconfys",
        "outputId": "7e36d727-922b-4fa5-f719-e781e0d62439"
      },
      "source": [
        "print(color)\n",
        "print(color[-1])"
      ],
      "execution_count": 237,
      "outputs": [
        {
          "output_type": "stream",
          "text": [
            "('red', 'black', 'green', 'blue', 'orange')\n",
            "orange\n"
          ],
          "name": "stdout"
        }
      ]
    },
    {
      "cell_type": "markdown",
      "metadata": {
        "id": "DRDpn4qonnFS"
      },
      "source": [
        "Indexing"
      ]
    },
    {
      "cell_type": "code",
      "metadata": {
        "colab": {
          "base_uri": "https://localhost:8080/"
        },
        "id": "kUvtI6kOnlAm",
        "outputId": "5b79b294-9f06-4cca-f277-fabb8c2a69f8"
      },
      "source": [
        "print(color)"
      ],
      "execution_count": 238,
      "outputs": [
        {
          "output_type": "stream",
          "text": [
            "('red', 'black', 'green', 'blue', 'orange')\n"
          ],
          "name": "stdout"
        }
      ]
    },
    {
      "cell_type": "code",
      "metadata": {
        "colab": {
          "base_uri": "https://localhost:8080/"
        },
        "id": "rsQix9DCnp-l",
        "outputId": "48d1e3f1-1e07-41d7-d8b5-7c87dde32b60"
      },
      "source": [
        "color[2:4]"
      ],
      "execution_count": 239,
      "outputs": [
        {
          "output_type": "execute_result",
          "data": {
            "text/plain": [
              "('green', 'blue')"
            ]
          },
          "metadata": {
            "tags": []
          },
          "execution_count": 239
        }
      ]
    },
    {
      "cell_type": "code",
      "metadata": {
        "colab": {
          "base_uri": "https://localhost:8080/"
        },
        "id": "JrtSi-s_nrXm",
        "outputId": "39994e14-ccc2-4ff9-db67-f509f09b6398"
      },
      "source": [
        "color[:-1]"
      ],
      "execution_count": 241,
      "outputs": [
        {
          "output_type": "execute_result",
          "data": {
            "text/plain": [
              "('red', 'black', 'green', 'blue')"
            ]
          },
          "metadata": {
            "tags": []
          },
          "execution_count": 241
        }
      ]
    },
    {
      "cell_type": "code",
      "metadata": {
        "colab": {
          "base_uri": "https://localhost:8080/"
        },
        "id": "7qS3umuXnswC",
        "outputId": "1fa7d413-74e4-412f-aa97-557429f691f5"
      },
      "source": [
        "#Updating tuple\n",
        "x = (1,2,3,4,5)\n",
        "y = list(x)\n",
        "y[2] = 'abc'\n",
        "x = tuple(y)\n",
        "print(x)"
      ],
      "execution_count": 242,
      "outputs": [
        {
          "output_type": "stream",
          "text": [
            "(1, 2, 'abc', 4, 5)\n"
          ],
          "name": "stdout"
        }
      ]
    },
    {
      "cell_type": "code",
      "metadata": {
        "colab": {
          "base_uri": "https://localhost:8080/"
        },
        "id": "hJfuyAajoHHK",
        "outputId": "92110657-30ae-47ef-bd6f-6287697d4350"
      },
      "source": [
        "#removing items\n",
        "t = (1,2,3,4,5)\n",
        "t2 = list(t)\n",
        "t2.remove(2)\n",
        "t = tuple(t2)\n",
        "print(t)"
      ],
      "execution_count": 244,
      "outputs": [
        {
          "output_type": "stream",
          "text": [
            "(1, 3, 4, 5)\n"
          ],
          "name": "stdout"
        }
      ]
    },
    {
      "cell_type": "markdown",
      "metadata": {
        "id": "dPNFfGGUohP5"
      },
      "source": [
        "Packing and Unpacking of a tuple"
      ]
    },
    {
      "cell_type": "code",
      "metadata": {
        "colab": {
          "base_uri": "https://localhost:8080/"
        },
        "id": "gHYbQWaLoY05",
        "outputId": "8d0295e6-cfa0-4125-ce3a-5c859ac3f0a0"
      },
      "source": [
        "#packing\n",
        "fruits = ('apple','kiwi','banana')\n",
        "print(fruits)"
      ],
      "execution_count": 245,
      "outputs": [
        {
          "output_type": "stream",
          "text": [
            "('apple', 'kiwi', 'banana')\n"
          ],
          "name": "stdout"
        }
      ]
    },
    {
      "cell_type": "code",
      "metadata": {
        "colab": {
          "base_uri": "https://localhost:8080/"
        },
        "id": "d3nFL-1EosZI",
        "outputId": "5e45ae6f-b935-488c-9d91-fb2278dd0fc5"
      },
      "source": [
        "#Unpacking\n",
        "fruits = ('apple','kiwi','banana')\n",
        "(a,b,c) = fruits\n",
        "\n",
        "print(a)\n",
        "print(b)\n",
        "print(c)"
      ],
      "execution_count": 246,
      "outputs": [
        {
          "output_type": "stream",
          "text": [
            "apple\n",
            "kiwi\n",
            "banana\n"
          ],
          "name": "stdout"
        }
      ]
    },
    {
      "cell_type": "code",
      "metadata": {
        "colab": {
          "base_uri": "https://localhost:8080/"
        },
        "id": "Sh5y0ZSio4DK",
        "outputId": "3f289712-d7c4-434e-ae46-a6a99b19aead"
      },
      "source": [
        "#Unpacking using astreik\n",
        "fruits = ('apple','kiwi','banana')\n",
        "(a,b,*c) = fruits\n",
        "\n",
        "print(a)\n",
        "print(b)\n",
        "print(c)"
      ],
      "execution_count": 247,
      "outputs": [
        {
          "output_type": "stream",
          "text": [
            "apple\n",
            "kiwi\n",
            "['banana']\n"
          ],
          "name": "stdout"
        }
      ]
    },
    {
      "cell_type": "markdown",
      "metadata": {
        "id": "p7TKZG5DpORL"
      },
      "source": [
        "Looping through tuple"
      ]
    },
    {
      "cell_type": "code",
      "metadata": {
        "colab": {
          "base_uri": "https://localhost:8080/"
        },
        "id": "p1BqMBvNpNiT",
        "outputId": "e2a7329b-d3f7-4368-a87f-b7535208937a"
      },
      "source": [
        "fruits = ('apple','kiwi','banana')\n",
        "\n",
        "for x in fruits:\n",
        "  print(x)"
      ],
      "execution_count": 249,
      "outputs": [
        {
          "output_type": "stream",
          "text": [
            "apple\n",
            "kiwi\n",
            "banana\n"
          ],
          "name": "stdout"
        }
      ]
    },
    {
      "cell_type": "code",
      "metadata": {
        "colab": {
          "base_uri": "https://localhost:8080/"
        },
        "id": "Wb1u0MrspDXj",
        "outputId": "9a0a8c35-0eb8-4ed6-8972-c951fc065575"
      },
      "source": [
        "fruits = ('apple','kiwi','banana')\n",
        "\n",
        "for x in range(len(fruits)):\n",
        "  print(fruits[x])"
      ],
      "execution_count": 250,
      "outputs": [
        {
          "output_type": "stream",
          "text": [
            "apple\n",
            "kiwi\n",
            "banana\n"
          ],
          "name": "stdout"
        }
      ]
    },
    {
      "cell_type": "code",
      "metadata": {
        "colab": {
          "base_uri": "https://localhost:8080/"
        },
        "id": "uzi_73dDpg0w",
        "outputId": "5fd8f513-368a-4e7f-b19d-11c6bdd463e3"
      },
      "source": [
        "thistuple = (\"apple\", \"banana\", \"cherry\")\n",
        "i = 0\n",
        "while i < len(thistuple):\n",
        "  print(thistuple[i])\n",
        "  i = i + 1"
      ],
      "execution_count": 251,
      "outputs": [
        {
          "output_type": "stream",
          "text": [
            "apple\n",
            "banana\n",
            "cherry\n"
          ],
          "name": "stdout"
        }
      ]
    },
    {
      "cell_type": "markdown",
      "metadata": {
        "id": "62Hg2zW0ppH0"
      },
      "source": [
        "Joining tuples"
      ]
    },
    {
      "cell_type": "code",
      "metadata": {
        "colab": {
          "base_uri": "https://localhost:8080/"
        },
        "id": "KWjJB1MYpkDZ",
        "outputId": "eeae8cb3-2fef-49bc-8933-41a9da704a7a"
      },
      "source": [
        "#Adding tuple\n",
        "q = (1,2,3)\n",
        "r = ('a','b','c')\n",
        "print(q+r)"
      ],
      "execution_count": 252,
      "outputs": [
        {
          "output_type": "stream",
          "text": [
            "(1, 2, 3, 'a', 'b', 'c')\n"
          ],
          "name": "stdout"
        }
      ]
    },
    {
      "cell_type": "code",
      "metadata": {
        "colab": {
          "base_uri": "https://localhost:8080/"
        },
        "id": "ZEuH85zQpxM-",
        "outputId": "07058576-2feb-4c6c-dd17-2be268a2ab95"
      },
      "source": [
        "#multiplying tuples\n",
        "x = (1,2,3)\n",
        "print(x*2)"
      ],
      "execution_count": 253,
      "outputs": [
        {
          "output_type": "stream",
          "text": [
            "(1, 2, 3, 1, 2, 3)\n"
          ],
          "name": "stdout"
        }
      ]
    },
    {
      "cell_type": "markdown",
      "metadata": {
        "id": "81K1YNc7p78s"
      },
      "source": [
        "Tuple Methods"
      ]
    },
    {
      "cell_type": "code",
      "metadata": {
        "colab": {
          "base_uri": "https://localhost:8080/"
        },
        "id": "-wiFm9jOp4ma",
        "outputId": "1598e209-6e3e-4fff-c396-04db56e664be"
      },
      "source": [
        "sample = (1,2,4,5,7,8,9,4,4)\n",
        "print(sample)"
      ],
      "execution_count": 258,
      "outputs": [
        {
          "output_type": "stream",
          "text": [
            "(1, 2, 4, 5, 7, 8, 9, 4, 4)\n"
          ],
          "name": "stdout"
        }
      ]
    },
    {
      "cell_type": "code",
      "metadata": {
        "colab": {
          "base_uri": "https://localhost:8080/"
        },
        "id": "gyAEQ_5dqC2C",
        "outputId": "082a0873-a928-4d48-c812-28280b01b01e"
      },
      "source": [
        "sample.count(4)"
      ],
      "execution_count": 259,
      "outputs": [
        {
          "output_type": "execute_result",
          "data": {
            "text/plain": [
              "3"
            ]
          },
          "metadata": {
            "tags": []
          },
          "execution_count": 259
        }
      ]
    },
    {
      "cell_type": "code",
      "metadata": {
        "colab": {
          "base_uri": "https://localhost:8080/"
        },
        "id": "ZennPkwdqM7t",
        "outputId": "b6efd370-7182-4a0f-83d5-71c3804054e7"
      },
      "source": [
        "sample.index(4)"
      ],
      "execution_count": 261,
      "outputs": [
        {
          "output_type": "execute_result",
          "data": {
            "text/plain": [
              "2"
            ]
          },
          "metadata": {
            "tags": []
          },
          "execution_count": 261
        }
      ]
    },
    {
      "cell_type": "markdown",
      "metadata": {
        "id": "ekhZ7ZYXLIKO"
      },
      "source": [
        "# **Sets**"
      ]
    },
    {
      "cell_type": "markdown",
      "metadata": {
        "id": "nP5vouVwLMyB"
      },
      "source": [
        "A set is a collection which is both unordered and unindexed.\n",
        "\n"
      ]
    },
    {
      "cell_type": "code",
      "metadata": {
        "colab": {
          "base_uri": "https://localhost:8080/"
        },
        "id": "VwoFZJcjLMae",
        "outputId": "c3b478a9-4f64-4f12-c19f-905e57c030d9"
      },
      "source": [
        "a_set = {1,2,3,4}\n",
        "print(a_set)\n",
        "print(type(a_set))"
      ],
      "execution_count": 276,
      "outputs": [
        {
          "output_type": "stream",
          "text": [
            "{1, 2, 3, 4}\n",
            "<class 'set'>\n"
          ],
          "name": "stdout"
        }
      ]
    },
    {
      "cell_type": "code",
      "metadata": {
        "colab": {
          "base_uri": "https://localhost:8080/"
        },
        "id": "wGZ2lXjoLMU2",
        "outputId": "75d154a9-03dd-4a90-9df9-fe2971e5c3a7"
      },
      "source": [
        "print(len(a_set))"
      ],
      "execution_count": 278,
      "outputs": [
        {
          "output_type": "stream",
          "text": [
            "4\n"
          ],
          "name": "stdout"
        }
      ]
    },
    {
      "cell_type": "code",
      "metadata": {
        "id": "kAg6dwnjLMQ2"
      },
      "source": [
        "set1 = {'red','blue','green'}\n",
        "set2 = {1,2,3,4,5}\n",
        "set3 = {True,False,True,True}"
      ],
      "execution_count": 279,
      "outputs": []
    },
    {
      "cell_type": "code",
      "metadata": {
        "colab": {
          "base_uri": "https://localhost:8080/"
        },
        "id": "97wihiX7LMND",
        "outputId": "4a5fe36c-096f-4fa1-c90c-224f080f6839"
      },
      "source": [
        "set_a = {1,2,3,'r','red',7,8,(7,8,9)}\n",
        "print(set_a)\n",
        "print(type(set_a))\n",
        "print(len(set_a))"
      ],
      "execution_count": 285,
      "outputs": [
        {
          "output_type": "stream",
          "text": [
            "{1, 2, 3, 7, 8, (7, 8, 9), 'r', 'red'}\n",
            "<class 'set'>\n",
            "8\n"
          ],
          "name": "stdout"
        }
      ]
    },
    {
      "cell_type": "code",
      "metadata": {
        "colab": {
          "base_uri": "https://localhost:8080/"
        },
        "id": "l28rZRz_LMI5",
        "outputId": "a853daf5-f505-4e36-973b-f2b496bbefd5"
      },
      "source": [
        "set_b = {1,2,3,3,3,3,5,3,4,2,1}\n",
        "print(set_b)"
      ],
      "execution_count": 286,
      "outputs": [
        {
          "output_type": "stream",
          "text": [
            "{1, 2, 3, 4, 5}\n"
          ],
          "name": "stdout"
        }
      ]
    },
    {
      "cell_type": "code",
      "metadata": {
        "colab": {
          "base_uri": "https://localhost:8080/"
        },
        "id": "_eDOA4NALMFL",
        "outputId": "9c3ca636-dbaf-402d-ceeb-d299d8c2fd56"
      },
      "source": [
        "#accesing sets\n",
        "for x in set_b:\n",
        "  print(x)"
      ],
      "execution_count": 287,
      "outputs": [
        {
          "output_type": "stream",
          "text": [
            "1\n",
            "2\n",
            "3\n",
            "4\n",
            "5\n"
          ],
          "name": "stdout"
        }
      ]
    },
    {
      "cell_type": "markdown",
      "metadata": {
        "id": "GqQXyPQ5MljK"
      },
      "source": [
        "Adding items to the set"
      ]
    },
    {
      "cell_type": "code",
      "metadata": {
        "colab": {
          "base_uri": "https://localhost:8080/"
        },
        "id": "soT8TzVTLMBZ",
        "outputId": "fd77fb9b-416b-467f-d19f-5bced1f54d60"
      },
      "source": [
        "set_A = set((1,2,3,4,5,6,7))\n",
        "print(set_A)\n",
        "print(len(set_A))"
      ],
      "execution_count": 290,
      "outputs": [
        {
          "output_type": "stream",
          "text": [
            "{1, 2, 3, 4, 5, 6, 7}\n",
            "7\n"
          ],
          "name": "stdout"
        }
      ]
    },
    {
      "cell_type": "code",
      "metadata": {
        "colab": {
          "base_uri": "https://localhost:8080/"
        },
        "id": "RefW7v_LLL9m",
        "outputId": "9851e5ef-b1d6-4637-bd29-972581aa8833"
      },
      "source": [
        "#add()\n",
        "set_A.add((8,9))\n",
        "print(set_A)"
      ],
      "execution_count": 291,
      "outputs": [
        {
          "output_type": "stream",
          "text": [
            "{1, 2, 3, 4, 5, 6, 7, (8, 9)}\n"
          ],
          "name": "stdout"
        }
      ]
    },
    {
      "cell_type": "markdown",
      "metadata": {
        "id": "q93n86D6M861"
      },
      "source": [
        "Adding two sets"
      ]
    },
    {
      "cell_type": "code",
      "metadata": {
        "id": "RhSUd5eiLL53"
      },
      "source": [
        "set_B = {11,12,13,14,15,16,20}\n",
        "set_A.update(set_B)"
      ],
      "execution_count": 292,
      "outputs": []
    },
    {
      "cell_type": "code",
      "metadata": {
        "colab": {
          "base_uri": "https://localhost:8080/"
        },
        "id": "dNAuNH64LL0i",
        "outputId": "37bc95b9-4712-460e-9fa4-a5b5d2f3edef"
      },
      "source": [
        "print(set_A)"
      ],
      "execution_count": 293,
      "outputs": [
        {
          "output_type": "stream",
          "text": [
            "{1, 2, 3, 4, 5, 6, 7, 11, 12, 13, 14, 15, (8, 9), 16, 20}\n"
          ],
          "name": "stdout"
        }
      ]
    },
    {
      "cell_type": "markdown",
      "metadata": {
        "id": "Ndmp9q_fNMuN"
      },
      "source": [
        "Removing items from the sets\n"
      ]
    },
    {
      "cell_type": "code",
      "metadata": {
        "colab": {
          "base_uri": "https://localhost:8080/"
        },
        "id": "VdQR448FLLwq",
        "outputId": "ca0eef03-3adf-42b6-ab49-cb7443ad391c"
      },
      "source": [
        "print(set_A)"
      ],
      "execution_count": 294,
      "outputs": [
        {
          "output_type": "stream",
          "text": [
            "{1, 2, 3, 4, 5, 6, 7, 11, 12, 13, 14, 15, (8, 9), 16, 20}\n"
          ],
          "name": "stdout"
        }
      ]
    },
    {
      "cell_type": "code",
      "metadata": {
        "id": "VImMAO4fLLs2"
      },
      "source": [
        "set_A.remove(1)"
      ],
      "execution_count": 295,
      "outputs": []
    },
    {
      "cell_type": "code",
      "metadata": {
        "colab": {
          "base_uri": "https://localhost:8080/"
        },
        "id": "9Km2rX3WLLpE",
        "outputId": "9a9214e0-2dc6-4767-d2b2-e6a6bcf61b69"
      },
      "source": [
        "print(set_A)"
      ],
      "execution_count": 296,
      "outputs": [
        {
          "output_type": "stream",
          "text": [
            "{2, 3, 4, 5, 6, 7, 11, 12, 13, 14, 15, (8, 9), 16, 20}\n"
          ],
          "name": "stdout"
        }
      ]
    },
    {
      "cell_type": "code",
      "metadata": {
        "colab": {
          "base_uri": "https://localhost:8080/"
        },
        "id": "4fNALis2LLkM",
        "outputId": "e923a20a-c510-4e88-ea22-4c091542394b"
      },
      "source": [
        "#discard function\n",
        "set_A.discard(2)\n",
        "print(set_A)"
      ],
      "execution_count": 297,
      "outputs": [
        {
          "output_type": "stream",
          "text": [
            "{3, 4, 5, 6, 7, 11, 12, 13, 14, 15, (8, 9), 16, 20}\n"
          ],
          "name": "stdout"
        }
      ]
    },
    {
      "cell_type": "code",
      "metadata": {
        "colab": {
          "base_uri": "https://localhost:8080/"
        },
        "id": "hIS9wK9ILLfK",
        "outputId": "73d6ac77-87b7-4904-e7fc-621383603d46"
      },
      "source": [
        "#pop()\n",
        "set_A.pop()"
      ],
      "execution_count": 299,
      "outputs": [
        {
          "output_type": "execute_result",
          "data": {
            "text/plain": [
              "3"
            ]
          },
          "metadata": {
            "tags": []
          },
          "execution_count": 299
        }
      ]
    },
    {
      "cell_type": "code",
      "metadata": {
        "colab": {
          "base_uri": "https://localhost:8080/"
        },
        "id": "3tRbpSlNLLbO",
        "outputId": "6a7f7ed9-54ae-4b1c-fb04-cfc5bcb57afe"
      },
      "source": [
        "#clear()\n",
        "print(set_B)\n",
        "set_B.clear()\n",
        "print(set_B)"
      ],
      "execution_count": 302,
      "outputs": [
        {
          "output_type": "stream",
          "text": [
            "set()\n",
            "set()\n"
          ],
          "name": "stdout"
        }
      ]
    },
    {
      "cell_type": "code",
      "metadata": {
        "id": "phnxcsZONlH5"
      },
      "source": [
        "#del\n",
        "del set_A"
      ],
      "execution_count": 303,
      "outputs": []
    },
    {
      "cell_type": "markdown",
      "metadata": {
        "id": "Q8knvUBbODFq"
      },
      "source": [
        "Joining sets"
      ]
    },
    {
      "cell_type": "code",
      "metadata": {
        "colab": {
          "base_uri": "https://localhost:8080/"
        },
        "id": "jxQgqxcnOFOQ",
        "outputId": "04090a25-094b-498a-d87d-d6454bbf92f3"
      },
      "source": [
        "a = {1,2,3}\n",
        "b = {2,3,4,5,6}\n",
        "c = a.union(b)\n",
        "print(c)"
      ],
      "execution_count": 304,
      "outputs": [
        {
          "output_type": "stream",
          "text": [
            "{1, 2, 3, 4, 5, 6}\n"
          ],
          "name": "stdout"
        }
      ]
    },
    {
      "cell_type": "code",
      "metadata": {
        "colab": {
          "base_uri": "https://localhost:8080/"
        },
        "id": "j8fQQ5ldOFKR",
        "outputId": "edf36248-ae29-45e2-d4e8-58432a0e4ce7"
      },
      "source": [
        "#update\n",
        "a = {1,2}\n",
        "b={3,4,1,2}\n",
        "a.update(b)\n",
        "print(a)"
      ],
      "execution_count": 305,
      "outputs": [
        {
          "output_type": "stream",
          "text": [
            "{1, 2, 3, 4}\n"
          ],
          "name": "stdout"
        }
      ]
    },
    {
      "cell_type": "code",
      "metadata": {
        "colab": {
          "base_uri": "https://localhost:8080/"
        },
        "id": "d-pwq-opOFGg",
        "outputId": "c0e80b1a-d3cc-4b98-c6da-393dda4cfdd3"
      },
      "source": [
        "#instersection_update()\n",
        "x = {\"apple\", \"banana\", \"cherry\"}\n",
        "y = {\"google\", \"microsoft\", \"apple\"}\n",
        "\n",
        "x.intersection_update(y)\n",
        "\n",
        "print(x)"
      ],
      "execution_count": 306,
      "outputs": [
        {
          "output_type": "stream",
          "text": [
            "{'apple'}\n"
          ],
          "name": "stdout"
        }
      ]
    },
    {
      "cell_type": "code",
      "metadata": {
        "colab": {
          "base_uri": "https://localhost:8080/"
        },
        "id": "mi-J0p1gNk8Y",
        "outputId": "ae4f0851-e34a-4799-d9df-c8c973ac4837"
      },
      "source": [
        "#intersection\n",
        "x = {\"apple\", \"banana\", \"cherry\"}\n",
        "y = {\"google\", \"microsoft\", \"apple\"}\n",
        "\n",
        "z = x.intersection(y)\n",
        "print(x)\n",
        "print(y)\n",
        "\n",
        "print(z)"
      ],
      "execution_count": 308,
      "outputs": [
        {
          "output_type": "stream",
          "text": [
            "{'apple', 'banana', 'cherry'}\n",
            "{'google', 'microsoft', 'apple'}\n",
            "{'apple'}\n"
          ],
          "name": "stdout"
        }
      ]
    },
    {
      "cell_type": "code",
      "metadata": {
        "colab": {
          "base_uri": "https://localhost:8080/"
        },
        "id": "YMrB36qqNk3W",
        "outputId": "50f7b3d7-71b2-426f-c904-2459d5d58902"
      },
      "source": [
        "a = {1,2,3}\n",
        "b = {3,4,5}\n",
        "a.symmetric_difference_update(b) #rempoves the item which is common\n",
        "print(a)"
      ],
      "execution_count": 311,
      "outputs": [
        {
          "output_type": "stream",
          "text": [
            "{1, 2, 4, 5}\n"
          ],
          "name": "stdout"
        }
      ]
    },
    {
      "cell_type": "code",
      "metadata": {
        "colab": {
          "base_uri": "https://localhost:8080/"
        },
        "id": "RPnar6_jOxO2",
        "outputId": "feec8dba-9858-4722-a6c5-302943412c6c"
      },
      "source": [
        "a = {1,2,3}\n",
        "b = {3,4,5}\n",
        "c = a.symmetric_difference(b) #rempoves the item which is common\n",
        "print(c)"
      ],
      "execution_count": 315,
      "outputs": [
        {
          "output_type": "stream",
          "text": [
            "{1, 2, 4, 5}\n"
          ],
          "name": "stdout"
        }
      ]
    },
    {
      "cell_type": "code",
      "metadata": {
        "colab": {
          "base_uri": "https://localhost:8080/"
        },
        "id": "yS6d80geOxKk",
        "outputId": "4e641a84-567e-44d0-feb8-b064348376ff"
      },
      "source": [
        "a = {1,2,3}\n",
        "b = a.copy() #rempoves the item which is common\n",
        "print(a)\n",
        "print(b)"
      ],
      "execution_count": 317,
      "outputs": [
        {
          "output_type": "stream",
          "text": [
            "{1, 2, 3}\n",
            "{1, 2, 3}\n"
          ],
          "name": "stdout"
        }
      ]
    },
    {
      "cell_type": "code",
      "metadata": {
        "id": "-B9Q75ZROxGN"
      },
      "source": [
        ""
      ],
      "execution_count": null,
      "outputs": []
    },
    {
      "cell_type": "markdown",
      "metadata": {
        "id": "HivURRazPd2z"
      },
      "source": [
        "# **Basic Programs**"
      ]
    },
    {
      "cell_type": "markdown",
      "metadata": {
        "id": "2NiTLTFgPw7C"
      },
      "source": [
        "**Printing Prime Numbers in a given range**"
      ]
    },
    {
      "cell_type": "code",
      "metadata": {
        "colab": {
          "base_uri": "https://localhost:8080/"
        },
        "id": "BvxB6r6kqUe6",
        "outputId": "ca2f8c26-334c-4992-9977-98dbb7779a36"
      },
      "source": [
        "a = int(input())\n",
        "b=int(input())\n",
        "for num in range(a,b):\n",
        "  for i in range(2,num):\n",
        "    if (num%i==0):\n",
        "      break\n",
        "  else:\n",
        "    print(num)"
      ],
      "execution_count": 318,
      "outputs": [
        {
          "output_type": "stream",
          "text": [
            "3\n",
            "10\n",
            "3\n",
            "5\n",
            "7\n"
          ],
          "name": "stdout"
        }
      ]
    },
    {
      "cell_type": "markdown",
      "metadata": {
        "id": "aOKik2OxQDlg"
      },
      "source": [
        "**Reverse of the given number**"
      ]
    },
    {
      "cell_type": "code",
      "metadata": {
        "colab": {
          "base_uri": "https://localhost:8080/"
        },
        "id": "UCHORhxEv0il",
        "outputId": "e09efe9a-11de-4ecc-d2d3-46d4c5f82072"
      },
      "source": [
        "n= int(input())\n",
        "sum=0\n",
        "while(n>0):\n",
        "  r = n%10\n",
        "  sum = (sum*10)+r\n",
        "  n//=10\n",
        "\n",
        "print(sum)"
      ],
      "execution_count": 319,
      "outputs": [
        {
          "output_type": "stream",
          "text": [
            "54231\n",
            "13245\n"
          ],
          "name": "stdout"
        }
      ]
    }
  ]
}