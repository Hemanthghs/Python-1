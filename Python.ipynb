{
  "nbformat": 4,
  "nbformat_minor": 0,
  "metadata": {
    "colab": {
      "name": "Python.ipynb",
      "provenance": []
    },
    "kernelspec": {
      "name": "python3",
      "display_name": "Python 3"
    },
    "language_info": {
      "name": "python"
    }
  },
  "cells": [
    {
      "cell_type": "markdown",
      "metadata": {
        "id": "qElVL2Trj0Om"
      },
      "source": [
        "## Datatypes"
      ]
    },
    {
      "cell_type": "code",
      "metadata": {
        "colab": {
          "base_uri": "https://localhost:8080/"
        },
        "id": "ukfOVglIjj7n",
        "outputId": "f0404350-124b-4109-8954-7e39e6b5a756"
      },
      "source": [
        "12+13"
      ],
      "execution_count": null,
      "outputs": [
        {
          "output_type": "execute_result",
          "data": {
            "text/plain": [
              "25"
            ]
          },
          "metadata": {
            "tags": []
          },
          "execution_count": 1
        }
      ]
    },
    {
      "cell_type": "code",
      "metadata": {
        "colab": {
          "base_uri": "https://localhost:8080/"
        },
        "id": "RqX8nZwwj74U",
        "outputId": "ab4cc836-e049-45f2-8b43-0220cd595416"
      },
      "source": [
        "print(15*20)"
      ],
      "execution_count": null,
      "outputs": [
        {
          "output_type": "stream",
          "text": [
            "300\n"
          ],
          "name": "stdout"
        }
      ]
    },
    {
      "cell_type": "code",
      "metadata": {
        "colab": {
          "base_uri": "https://localhost:8080/"
        },
        "id": "-ivqDvurl6mr",
        "outputId": "851fa5ef-7f22-41dd-c747-d8c99234d7b7"
      },
      "source": [
        "print(\"This is the print statement\")"
      ],
      "execution_count": null,
      "outputs": [
        {
          "output_type": "stream",
          "text": [
            "This is the print statement\n"
          ],
          "name": "stdout"
        }
      ]
    },
    {
      "cell_type": "code",
      "metadata": {
        "colab": {
          "base_uri": "https://localhost:8080/"
        },
        "id": "-pmEWC-ol6jX",
        "outputId": "db7325de-054f-4186-b305-c835f78f493b"
      },
      "source": [
        "print(\"My name is 'Sairam' \")"
      ],
      "execution_count": null,
      "outputs": [
        {
          "output_type": "stream",
          "text": [
            "My name is 'Sairam' \n"
          ],
          "name": "stdout"
        }
      ]
    },
    {
      "cell_type": "code",
      "metadata": {
        "colab": {
          "base_uri": "https://localhost:8080/"
        },
        "id": "sYl23wKgl6gJ",
        "outputId": "893b3d81-b002-4799-9740-6f29e3d7d9fe"
      },
      "source": [
        "print('''\n",
        "This is the \n",
        "python notebook\n",
        "''')"
      ],
      "execution_count": null,
      "outputs": [
        {
          "output_type": "stream",
          "text": [
            "\n",
            "This is the \n",
            "python notebook\n",
            "\n"
          ],
          "name": "stdout"
        }
      ]
    },
    {
      "cell_type": "code",
      "metadata": {
        "colab": {
          "base_uri": "https://localhost:8080/"
        },
        "id": "AFWE3uV5l6dA",
        "outputId": "0b64f9f2-673f-40cd-ec7e-77752d82aefb"
      },
      "source": [
        "print('''\n",
        "This is the\\\n",
        " python notebook\\\n",
        "''')"
      ],
      "execution_count": null,
      "outputs": [
        {
          "output_type": "stream",
          "text": [
            "\n",
            "This is the python notebook\n"
          ],
          "name": "stdout"
        }
      ]
    },
    {
      "cell_type": "code",
      "metadata": {
        "colab": {
          "base_uri": "https://localhost:8080/"
        },
        "id": "5ky1eOotj90Z",
        "outputId": "8c2fc4c5-0211-49f7-d4cf-c4cfee281f33"
      },
      "source": [
        "a = 10\n",
        "b = 20\n",
        "print(a+b)"
      ],
      "execution_count": null,
      "outputs": [
        {
          "output_type": "stream",
          "text": [
            "30\n"
          ],
          "name": "stdout"
        }
      ]
    },
    {
      "cell_type": "code",
      "metadata": {
        "colab": {
          "base_uri": "https://localhost:8080/"
        },
        "id": "c-0xPnh7lLQp",
        "outputId": "4c605ae5-f00e-41c6-a6f8-4d9a259e244c"
      },
      "source": [
        "a3 = float (input())\n",
        "b3 = float (input())\n",
        "print(a3+b3)\n"
      ],
      "execution_count": null,
      "outputs": [
        {
          "output_type": "stream",
          "text": [
            "19\n",
            "2\n",
            "21.0\n"
          ],
          "name": "stdout"
        }
      ]
    },
    {
      "cell_type": "code",
      "metadata": {
        "colab": {
          "base_uri": "https://localhost:8080/"
        },
        "id": "y4BW-l1MlLMk",
        "outputId": "43a98157-bc57-4d90-b21a-47fc06fe1a71"
      },
      "source": [
        "s = 'a'\n",
        "print(s)\n",
        "print(type (s))"
      ],
      "execution_count": null,
      "outputs": [
        {
          "output_type": "stream",
          "text": [
            "a\n",
            "<class 'str'>\n"
          ],
          "name": "stdout"
        }
      ]
    },
    {
      "cell_type": "code",
      "metadata": {
        "colab": {
          "base_uri": "https://localhost:8080/"
        },
        "id": "Oy_uUERclLJj",
        "outputId": "594dbe8b-02a9-4921-aff5-e02fd1f176c3"
      },
      "source": [
        "string = \"Hello world\"\n",
        "print(string)\n",
        "print(type (string))"
      ],
      "execution_count": null,
      "outputs": [
        {
          "output_type": "stream",
          "text": [
            "Hello world\n",
            "<class 'str'>\n"
          ],
          "name": "stdout"
        }
      ]
    },
    {
      "cell_type": "code",
      "metadata": {
        "colab": {
          "base_uri": "https://localhost:8080/"
        },
        "id": "8Xk7trLIm3Lg",
        "outputId": "d018745c-1315-4875-fb61-4bc517ec350b"
      },
      "source": [
        "a = 1+2j\n",
        "print(a)\n",
        "print(type (a))"
      ],
      "execution_count": null,
      "outputs": [
        {
          "output_type": "stream",
          "text": [
            "(1+2j)\n",
            "<class 'complex'>\n"
          ],
          "name": "stdout"
        }
      ]
    },
    {
      "cell_type": "code",
      "metadata": {
        "colab": {
          "base_uri": "https://localhost:8080/"
        },
        "id": "7YdqLfzBm3HZ",
        "outputId": "cac76d5f-3dc6-4fc1-9e85-ae350a63c71f"
      },
      "source": [
        "a = 1+2j\n",
        "b = 3+5j\n",
        "print(a+b)"
      ],
      "execution_count": null,
      "outputs": [
        {
          "output_type": "stream",
          "text": [
            "(4+7j)\n"
          ],
          "name": "stdout"
        }
      ]
    },
    {
      "cell_type": "code",
      "metadata": {
        "colab": {
          "base_uri": "https://localhost:8080/"
        },
        "id": "gK6AIso0nXgm",
        "outputId": "563f0a0d-d952-4d31-ba1e-d8a43b434770"
      },
      "source": [
        "a = complex (input())\n",
        "print(a)"
      ],
      "execution_count": null,
      "outputs": [
        {
          "output_type": "stream",
          "text": [
            "2+1j\n",
            "(2+1j)\n"
          ],
          "name": "stdout"
        }
      ]
    },
    {
      "cell_type": "code",
      "metadata": {
        "colab": {
          "base_uri": "https://localhost:8080/"
        },
        "id": "WdF6I-Qsz7vs",
        "outputId": "7fda0be5-e761-4215-a3b2-68f628dd1d81"
      },
      "source": [
        "a = True\n",
        "print(type(a))"
      ],
      "execution_count": null,
      "outputs": [
        {
          "output_type": "stream",
          "text": [
            "<class 'bool'>\n"
          ],
          "name": "stdout"
        }
      ]
    },
    {
      "cell_type": "code",
      "metadata": {
        "colab": {
          "base_uri": "https://localhost:8080/"
        },
        "id": "-JEe68SWz7rZ",
        "outputId": "6cc57efa-878d-4828-e96a-0977f52e3412"
      },
      "source": [
        "a = 1\n",
        "bool(a)"
      ],
      "execution_count": null,
      "outputs": [
        {
          "output_type": "execute_result",
          "data": {
            "text/plain": [
              "True"
            ]
          },
          "metadata": {
            "tags": []
          },
          "execution_count": 15
        }
      ]
    },
    {
      "cell_type": "code",
      "metadata": {
        "colab": {
          "base_uri": "https://localhost:8080/"
        },
        "id": "PVaHUACHnfPS",
        "outputId": "33fbd2b4-30a1-491d-f060-ef60ba02ca83"
      },
      "source": [
        "ord('a')"
      ],
      "execution_count": null,
      "outputs": [
        {
          "output_type": "execute_result",
          "data": {
            "text/plain": [
              "97"
            ]
          },
          "metadata": {
            "tags": []
          },
          "execution_count": 16
        }
      ]
    },
    {
      "cell_type": "code",
      "metadata": {
        "colab": {
          "base_uri": "https://localhost:8080/"
        },
        "id": "zMcmGy9AnfMP",
        "outputId": "3e137f62-6de9-49d8-8f29-492e62fdf5d6"
      },
      "source": [
        "ord('c')"
      ],
      "execution_count": null,
      "outputs": [
        {
          "output_type": "execute_result",
          "data": {
            "text/plain": [
              "99"
            ]
          },
          "metadata": {
            "tags": []
          },
          "execution_count": 17
        }
      ]
    },
    {
      "cell_type": "code",
      "metadata": {
        "colab": {
          "base_uri": "https://localhost:8080/",
          "height": 35
        },
        "id": "McKBrXbpn0bo",
        "outputId": "996bf8be-64e2-4e58-8204-df198004124d"
      },
      "source": [
        "chr(99)"
      ],
      "execution_count": null,
      "outputs": [
        {
          "output_type": "execute_result",
          "data": {
            "application/vnd.google.colaboratory.intrinsic+json": {
              "type": "string"
            },
            "text/plain": [
              "'c'"
            ]
          },
          "metadata": {
            "tags": []
          },
          "execution_count": 18
        }
      ]
    },
    {
      "cell_type": "code",
      "metadata": {
        "colab": {
          "base_uri": "https://localhost:8080/"
        },
        "id": "_dhJFaTQn3Ce",
        "outputId": "ed9aa46b-f3aa-4a28-f912-0ba5b3862244"
      },
      "source": [
        "for i in range(97,123):\n",
        "  print(str (i),\" : \",chr(i))"
      ],
      "execution_count": null,
      "outputs": [
        {
          "output_type": "stream",
          "text": [
            "97  :  a\n",
            "98  :  b\n",
            "99  :  c\n",
            "100  :  d\n",
            "101  :  e\n",
            "102  :  f\n",
            "103  :  g\n",
            "104  :  h\n",
            "105  :  i\n",
            "106  :  j\n",
            "107  :  k\n",
            "108  :  l\n",
            "109  :  m\n",
            "110  :  n\n",
            "111  :  o\n",
            "112  :  p\n",
            "113  :  q\n",
            "114  :  r\n",
            "115  :  s\n",
            "116  :  t\n",
            "117  :  u\n",
            "118  :  v\n",
            "119  :  w\n",
            "120  :  x\n",
            "121  :  y\n",
            "122  :  z\n"
          ],
          "name": "stdout"
        }
      ]
    },
    {
      "cell_type": "code",
      "metadata": {
        "id": "nSeXBSVontn_"
      },
      "source": [
        "# for i in range(0,10000):\n",
        "#   print(str(i),\" : \",chr(i))"
      ],
      "execution_count": 204,
      "outputs": []
    },
    {
      "cell_type": "code",
      "metadata": {
        "colab": {
          "base_uri": "https://localhost:8080/"
        },
        "id": "WJmbZo2zoPWN",
        "outputId": "20f5b74a-38f0-4457-a08f-6ed23838e6d9"
      },
      "source": [
        "print(str (ord('B')) +\" :\",str (chr(66)))"
      ],
      "execution_count": null,
      "outputs": [
        {
          "output_type": "stream",
          "text": [
            "66 : B\n"
          ],
          "name": "stdout"
        }
      ]
    },
    {
      "cell_type": "code",
      "metadata": {
        "colab": {
          "base_uri": "https://localhost:8080/"
        },
        "id": "t9LTYNAIoPSv",
        "outputId": "98ec0a2f-2b04-489b-aafa-69d80179645b"
      },
      "source": [
        "d = 103\n",
        "complex(d)"
      ],
      "execution_count": null,
      "outputs": [
        {
          "output_type": "execute_result",
          "data": {
            "text/plain": [
              "(103+0j)"
            ]
          },
          "metadata": {
            "tags": []
          },
          "execution_count": 22
        }
      ]
    },
    {
      "cell_type": "code",
      "metadata": {
        "colab": {
          "base_uri": "https://localhost:8080/"
        },
        "id": "9BY3wUoooPOx",
        "outputId": "d87e5e51-4340-4745-b822-199026c2c7dc"
      },
      "source": [
        "e = 100.1234522\n",
        "int (e)"
      ],
      "execution_count": null,
      "outputs": [
        {
          "output_type": "execute_result",
          "data": {
            "text/plain": [
              "100"
            ]
          },
          "metadata": {
            "tags": []
          },
          "execution_count": 23
        }
      ]
    },
    {
      "cell_type": "code",
      "metadata": {
        "colab": {
          "base_uri": "https://localhost:8080/"
        },
        "id": "R920TsvNoPLi",
        "outputId": "b435063f-ce73-41d3-d661-7eb378b7976b"
      },
      "source": [
        "complex (e)"
      ],
      "execution_count": null,
      "outputs": [
        {
          "output_type": "execute_result",
          "data": {
            "text/plain": [
              "(100.1234522+0j)"
            ]
          },
          "metadata": {
            "tags": []
          },
          "execution_count": 24
        }
      ]
    },
    {
      "cell_type": "code",
      "metadata": {
        "id": "KLQHltvcoPI3"
      },
      "source": [
        "v = 10"
      ],
      "execution_count": null,
      "outputs": []
    },
    {
      "cell_type": "code",
      "metadata": {
        "id": "TyRoD5WmoO5c"
      },
      "source": [
        "v_ = 10"
      ],
      "execution_count": null,
      "outputs": []
    },
    {
      "cell_type": "code",
      "metadata": {
        "colab": {
          "base_uri": "https://localhost:8080/"
        },
        "id": "5zL6_nBnoO21",
        "outputId": "e3e0a6f5-7145-46ee-a8f3-12bd08c7c691"
      },
      "source": [
        "_ = 10\n",
        "print(_)"
      ],
      "execution_count": null,
      "outputs": [
        {
          "output_type": "stream",
          "text": [
            "10\n"
          ],
          "name": "stdout"
        }
      ]
    },
    {
      "cell_type": "code",
      "metadata": {
        "colab": {
          "base_uri": "https://localhost:8080/"
        },
        "id": "uDkKr5HsoOzZ",
        "outputId": "c1a55501-432e-42ee-ce22-5a9a0bc8216b"
      },
      "source": [
        "_v = 100\n",
        "print(_v)"
      ],
      "execution_count": null,
      "outputs": [
        {
          "output_type": "stream",
          "text": [
            "100\n"
          ],
          "name": "stdout"
        }
      ]
    },
    {
      "cell_type": "code",
      "metadata": {
        "colab": {
          "base_uri": "https://localhost:8080/"
        },
        "id": "gvokJjsupDB2",
        "outputId": "c8c67675-5b8b-4e43-ee53-cdc8d8ade97d"
      },
      "source": [
        "v23 = 21\n",
        "print(v23)"
      ],
      "execution_count": null,
      "outputs": [
        {
          "output_type": "stream",
          "text": [
            "21\n"
          ],
          "name": "stdout"
        }
      ]
    },
    {
      "cell_type": "code",
      "metadata": {
        "colab": {
          "base_uri": "https://localhost:8080/"
        },
        "id": "yx9mX1q4pC84",
        "outputId": "4af07fbc-12a1-4952-9d26-0a608077a489"
      },
      "source": [
        "a,b = 1,2\n",
        "print(a,b)"
      ],
      "execution_count": null,
      "outputs": [
        {
          "output_type": "stream",
          "text": [
            "1 2\n"
          ],
          "name": "stdout"
        }
      ]
    },
    {
      "cell_type": "code",
      "metadata": {
        "colab": {
          "base_uri": "https://localhost:8080/"
        },
        "id": "F4LhjvVopC5v",
        "outputId": "4ee605fe-41e9-4c2c-eb3a-f9895d5fb5c5"
      },
      "source": [
        "a,b,c,d,e = 10,20,30,40,50\n",
        "\n",
        "print(a,b,c,d,e)"
      ],
      "execution_count": null,
      "outputs": [
        {
          "output_type": "stream",
          "text": [
            "10 20 30 40 50\n"
          ],
          "name": "stdout"
        }
      ]
    },
    {
      "cell_type": "code",
      "metadata": {
        "colab": {
          "base_uri": "https://localhost:8080/"
        },
        "id": "RB9hjlMhs9z2",
        "outputId": "010bd31d-7391-46a9-bc47-5945d7f83364"
      },
      "source": [
        "type('abs')"
      ],
      "execution_count": null,
      "outputs": [
        {
          "output_type": "execute_result",
          "data": {
            "text/plain": [
              "str"
            ]
          },
          "metadata": {
            "tags": []
          },
          "execution_count": 32
        }
      ]
    },
    {
      "cell_type": "markdown",
      "metadata": {
        "id": "jyHv_V6dpZhR"
      },
      "source": [
        "#Operators"
      ]
    },
    {
      "cell_type": "markdown",
      "metadata": {
        "id": "pmsW7WBvqZ7H"
      },
      "source": [
        "**Arithmetic Operators**"
      ]
    },
    {
      "cell_type": "code",
      "metadata": {
        "colab": {
          "base_uri": "https://localhost:8080/"
        },
        "id": "yXDrdyOCkARN",
        "outputId": "3e427a15-f3a9-45ea-91c0-efb5a00fdb72"
      },
      "source": [
        "a = int(input(\"Enter value of a:\"))\n",
        "b = int(input(\"Enter value of b:\"))\n",
        "print(a+b)"
      ],
      "execution_count": null,
      "outputs": [
        {
          "output_type": "stream",
          "text": [
            "Enter value of a:5\n",
            "Enter value of b:11\n",
            "16\n"
          ],
          "name": "stdout"
        }
      ]
    },
    {
      "cell_type": "code",
      "metadata": {
        "colab": {
          "base_uri": "https://localhost:8080/"
        },
        "id": "HKWFubLAkQEW",
        "outputId": "bebb7dc6-7e7c-4db8-8ccb-214a977e2406"
      },
      "source": [
        "print(a*b)"
      ],
      "execution_count": null,
      "outputs": [
        {
          "output_type": "stream",
          "text": [
            "55\n"
          ],
          "name": "stdout"
        }
      ]
    },
    {
      "cell_type": "code",
      "metadata": {
        "colab": {
          "base_uri": "https://localhost:8080/"
        },
        "id": "tiLAdUDgkZoV",
        "outputId": "ee6a22bd-7319-4657-c8b0-e24c340bb74f"
      },
      "source": [
        "print(a-b)"
      ],
      "execution_count": null,
      "outputs": [
        {
          "output_type": "stream",
          "text": [
            "-6\n"
          ],
          "name": "stdout"
        }
      ]
    },
    {
      "cell_type": "code",
      "metadata": {
        "colab": {
          "base_uri": "https://localhost:8080/"
        },
        "id": "6_LfUfMFkbE-",
        "outputId": "9d7ac535-f975-4bdb-eca1-974598937bc4"
      },
      "source": [
        "print(a/b)"
      ],
      "execution_count": null,
      "outputs": [
        {
          "output_type": "stream",
          "text": [
            "0.45454545454545453\n"
          ],
          "name": "stdout"
        }
      ]
    },
    {
      "cell_type": "code",
      "metadata": {
        "colab": {
          "base_uri": "https://localhost:8080/"
        },
        "id": "c-WX4vMSkcfs",
        "outputId": "b1ade579-2a7f-4eb9-ce36-5b7f925d347c"
      },
      "source": [
        "# a power b\n",
        "a_1 = int (input(\"Enter the value:\"))\n",
        "b_1 = int (input(\"Enter the value:\"))\n",
        "print(a_1**b_1)"
      ],
      "execution_count": null,
      "outputs": [
        {
          "output_type": "stream",
          "text": [
            "Enter the value:8\n",
            "Enter the value:3\n",
            "512\n"
          ],
          "name": "stdout"
        }
      ]
    },
    {
      "cell_type": "code",
      "metadata": {
        "colab": {
          "base_uri": "https://localhost:8080/"
        },
        "id": "vegFwdYQksXc",
        "outputId": "fb6e6ef9-2244-4bc4-8bbf-08186e9e5ee3"
      },
      "source": [
        "a2 = int (input())\n",
        "b2 = int (input())\n",
        "print(a2%b2)"
      ],
      "execution_count": null,
      "outputs": [
        {
          "output_type": "stream",
          "text": [
            "111\n",
            "10\n",
            "1\n"
          ],
          "name": "stdout"
        }
      ]
    },
    {
      "cell_type": "code",
      "metadata": {
        "colab": {
          "base_uri": "https://localhost:8080/"
        },
        "id": "FQm8mEq6lBgL",
        "outputId": "ce86d0bc-13f4-4eb5-bbac-cb7cb4f0a42a"
      },
      "source": [
        "a = 100\n",
        "b = 12.3\n",
        "print(a+b)\n",
        "print(type(a+b))"
      ],
      "execution_count": null,
      "outputs": [
        {
          "output_type": "stream",
          "text": [
            "112.3\n",
            "<class 'float'>\n"
          ],
          "name": "stdout"
        }
      ]
    },
    {
      "cell_type": "code",
      "metadata": {
        "colab": {
          "base_uri": "https://localhost:8080/"
        },
        "id": "iDDKV4LPpsRK",
        "outputId": "b5134624-87e5-4b95-dbf5-da9d4f34afa5"
      },
      "source": [
        "a = 1.1\n",
        "b= 2\n",
        "print(a/b)\n"
      ],
      "execution_count": null,
      "outputs": [
        {
          "output_type": "stream",
          "text": [
            "0.55\n"
          ],
          "name": "stdout"
        }
      ]
    },
    {
      "cell_type": "code",
      "metadata": {
        "colab": {
          "base_uri": "https://localhost:8080/"
        },
        "id": "lCL_rjBQpxdG",
        "outputId": "470e6271-c517-4b20-d8d3-22faab41b314"
      },
      "source": [
        "a = 20\n",
        "b = 3\n",
        "print(a//b)"
      ],
      "execution_count": null,
      "outputs": [
        {
          "output_type": "stream",
          "text": [
            "6\n"
          ],
          "name": "stdout"
        }
      ]
    },
    {
      "cell_type": "markdown",
      "metadata": {
        "id": "V6JxL6D3txmP"
      },
      "source": [
        "Assignment Operators"
      ]
    },
    {
      "cell_type": "code",
      "metadata": {
        "colab": {
          "base_uri": "https://localhost:8080/"
        },
        "id": "MT1jBxCip3ms",
        "outputId": "fe69eb49-1f6f-4914-cde0-b4b539cf1a5c"
      },
      "source": [
        "v = 10\n",
        "v+=1\n",
        "print(v)"
      ],
      "execution_count": null,
      "outputs": [
        {
          "output_type": "stream",
          "text": [
            "11\n"
          ],
          "name": "stdout"
        }
      ]
    },
    {
      "cell_type": "code",
      "metadata": {
        "colab": {
          "base_uri": "https://localhost:8080/"
        },
        "id": "UYvtiA3ap9xd",
        "outputId": "4a7f9273-cfca-407c-d36b-59fa55faf4a1"
      },
      "source": [
        "v-=1\n",
        "print(v)"
      ],
      "execution_count": null,
      "outputs": [
        {
          "output_type": "stream",
          "text": [
            "10\n"
          ],
          "name": "stdout"
        }
      ]
    },
    {
      "cell_type": "code",
      "metadata": {
        "colab": {
          "base_uri": "https://localhost:8080/"
        },
        "id": "nIMPa3R2p-4K",
        "outputId": "f7d2bf79-088f-4bd7-d7f9-4516f2650c65"
      },
      "source": [
        "v *=10\n",
        "print(v)"
      ],
      "execution_count": null,
      "outputs": [
        {
          "output_type": "stream",
          "text": [
            "100\n"
          ],
          "name": "stdout"
        }
      ]
    },
    {
      "cell_type": "code",
      "metadata": {
        "colab": {
          "base_uri": "https://localhost:8080/"
        },
        "id": "U7zm4ekrqDu5",
        "outputId": "69ae0b38-e57d-4f6d-f568-dbd832281b36"
      },
      "source": [
        "v //=5\n",
        "print(v)"
      ],
      "execution_count": null,
      "outputs": [
        {
          "output_type": "stream",
          "text": [
            "20\n"
          ],
          "name": "stdout"
        }
      ]
    },
    {
      "cell_type": "code",
      "metadata": {
        "colab": {
          "base_uri": "https://localhost:8080/"
        },
        "id": "prYga8poqKTF",
        "outputId": "ca369a60-934f-4f46-aeed-6760d700b439"
      },
      "source": [
        "v /=5\n",
        "print(v)"
      ],
      "execution_count": null,
      "outputs": [
        {
          "output_type": "stream",
          "text": [
            "4.0\n"
          ],
          "name": "stdout"
        }
      ]
    },
    {
      "cell_type": "code",
      "metadata": {
        "colab": {
          "base_uri": "https://localhost:8080/"
        },
        "id": "7SF7tbG3qMhw",
        "outputId": "b7779d61-e152-49a0-9299-0b97956d2fb2"
      },
      "source": [
        "v **=2\n",
        "print(v)"
      ],
      "execution_count": null,
      "outputs": [
        {
          "output_type": "stream",
          "text": [
            "16.0\n"
          ],
          "name": "stdout"
        }
      ]
    },
    {
      "cell_type": "code",
      "metadata": {
        "colab": {
          "base_uri": "https://localhost:8080/"
        },
        "id": "L2JjTMvgt5rs",
        "outputId": "18826b9d-7b7c-4e45-b04d-0e49e002c9db"
      },
      "source": [
        "v %= 3\n",
        "print(v)"
      ],
      "execution_count": null,
      "outputs": [
        {
          "output_type": "stream",
          "text": [
            "1.0\n"
          ],
          "name": "stdout"
        }
      ]
    },
    {
      "cell_type": "code",
      "metadata": {
        "colab": {
          "base_uri": "https://localhost:8080/"
        },
        "id": "wTqHEvt_t_iN",
        "outputId": "cce2bfd5-947c-4600-cafb-8f1abc96cecb"
      },
      "source": [
        "v = 100\n",
        "v &=3\n",
        "print(v)"
      ],
      "execution_count": null,
      "outputs": [
        {
          "output_type": "stream",
          "text": [
            "0\n"
          ],
          "name": "stdout"
        }
      ]
    },
    {
      "cell_type": "code",
      "metadata": {
        "colab": {
          "base_uri": "https://localhost:8080/"
        },
        "id": "00Z4z08JuGDh",
        "outputId": "bf919744-c4c1-42ce-9fb5-8b81aab46ae3"
      },
      "source": [
        "v = 7\n",
        "v |=3\n",
        "print(v)\n",
        "# 0111\n",
        "# 0011\n",
        "#--------\n",
        "# 0111"
      ],
      "execution_count": null,
      "outputs": [
        {
          "output_type": "stream",
          "text": [
            "7\n"
          ],
          "name": "stdout"
        }
      ]
    },
    {
      "cell_type": "code",
      "metadata": {
        "colab": {
          "base_uri": "https://localhost:8080/"
        },
        "id": "QqZ_kIwHukvr",
        "outputId": "60ddf255-c3e9-4e9b-f1b4-ce724bf0c4d1"
      },
      "source": [
        "v = 8\n",
        "v>>=5\n",
        "print(v)"
      ],
      "execution_count": null,
      "outputs": [
        {
          "output_type": "stream",
          "text": [
            "0\n"
          ],
          "name": "stdout"
        }
      ]
    },
    {
      "cell_type": "code",
      "metadata": {
        "colab": {
          "base_uri": "https://localhost:8080/"
        },
        "id": "d-6xCuReuL2d",
        "outputId": "dbb1eea3-0d90-4fc6-cbde-96c6f7ac0b48"
      },
      "source": [
        "v = 20\n",
        "v ^=5\n",
        "print(v)"
      ],
      "execution_count": null,
      "outputs": [
        {
          "output_type": "stream",
          "text": [
            "17\n"
          ],
          "name": "stdout"
        }
      ]
    },
    {
      "cell_type": "code",
      "metadata": {
        "colab": {
          "base_uri": "https://localhost:8080/"
        },
        "id": "DGMaaqoHrhc7",
        "outputId": "4dcc0afc-b729-4699-f7df-318921d6fa8a"
      },
      "source": [
        "x = 5\n",
        "x<<=1    # 5 = 0101  1 = 0001\n",
        "print(x)"
      ],
      "execution_count": null,
      "outputs": [
        {
          "output_type": "stream",
          "text": [
            "10\n"
          ],
          "name": "stdout"
        }
      ]
    },
    {
      "cell_type": "markdown",
      "metadata": {
        "id": "pV33nb8gvISi"
      },
      "source": [
        "Comparision Operators"
      ]
    },
    {
      "cell_type": "code",
      "metadata": {
        "colab": {
          "base_uri": "https://localhost:8080/"
        },
        "id": "TVjW3tObqO_j",
        "outputId": "2c858553-7d78-4511-8d75-449e5aac724f"
      },
      "source": [
        "x = 20\n",
        "x == 5"
      ],
      "execution_count": null,
      "outputs": [
        {
          "output_type": "execute_result",
          "data": {
            "text/plain": [
              "False"
            ]
          },
          "metadata": {
            "tags": []
          },
          "execution_count": 54
        }
      ]
    },
    {
      "cell_type": "code",
      "metadata": {
        "colab": {
          "base_uri": "https://localhost:8080/"
        },
        "id": "N3hb7V5AvaCN",
        "outputId": "f9a14700-0fef-4d5a-fc0b-34006bad1468"
      },
      "source": [
        "f = 'sop'\n",
        "f == 5"
      ],
      "execution_count": null,
      "outputs": [
        {
          "output_type": "execute_result",
          "data": {
            "text/plain": [
              "False"
            ]
          },
          "metadata": {
            "tags": []
          },
          "execution_count": 55
        }
      ]
    },
    {
      "cell_type": "code",
      "metadata": {
        "colab": {
          "base_uri": "https://localhost:8080/"
        },
        "id": "WP_oUoOlvdz5",
        "outputId": "6e98880b-1521-491f-e97d-6f30dbf656a5"
      },
      "source": [
        "x = 3\n",
        "y = 5\n",
        "x != y"
      ],
      "execution_count": null,
      "outputs": [
        {
          "output_type": "execute_result",
          "data": {
            "text/plain": [
              "True"
            ]
          },
          "metadata": {
            "tags": []
          },
          "execution_count": 56
        }
      ]
    },
    {
      "cell_type": "code",
      "metadata": {
        "colab": {
          "base_uri": "https://localhost:8080/"
        },
        "id": "0mxM35NqvhAT",
        "outputId": "c56d0115-8136-4063-a73c-737787995731"
      },
      "source": [
        "x = 10\n",
        "y = 20\n",
        "x<y"
      ],
      "execution_count": null,
      "outputs": [
        {
          "output_type": "execute_result",
          "data": {
            "text/plain": [
              "True"
            ]
          },
          "metadata": {
            "tags": []
          },
          "execution_count": 57
        }
      ]
    },
    {
      "cell_type": "code",
      "metadata": {
        "colab": {
          "base_uri": "https://localhost:8080/"
        },
        "id": "S0M4jTMGvlsz",
        "outputId": "1c00bda0-17a6-42a7-c4cb-cb836a99742e"
      },
      "source": [
        "x>y"
      ],
      "execution_count": null,
      "outputs": [
        {
          "output_type": "execute_result",
          "data": {
            "text/plain": [
              "False"
            ]
          },
          "metadata": {
            "tags": []
          },
          "execution_count": 58
        }
      ]
    },
    {
      "cell_type": "code",
      "metadata": {
        "colab": {
          "base_uri": "https://localhost:8080/"
        },
        "id": "L45A5EUIvmXI",
        "outputId": "01ea73f5-4f79-4fe4-e463-ecd3ee66b2d4"
      },
      "source": [
        "x+=20\n",
        "x>y"
      ],
      "execution_count": null,
      "outputs": [
        {
          "output_type": "execute_result",
          "data": {
            "text/plain": [
              "True"
            ]
          },
          "metadata": {
            "tags": []
          },
          "execution_count": 59
        }
      ]
    },
    {
      "cell_type": "code",
      "metadata": {
        "colab": {
          "base_uri": "https://localhost:8080/"
        },
        "id": "jdWqMn_Nvp_P",
        "outputId": "19993134-0373-4556-f692-91a5c6424001"
      },
      "source": [
        "x = 20\n",
        "y = 20\n",
        "x<=y"
      ],
      "execution_count": null,
      "outputs": [
        {
          "output_type": "execute_result",
          "data": {
            "text/plain": [
              "True"
            ]
          },
          "metadata": {
            "tags": []
          },
          "execution_count": 60
        }
      ]
    },
    {
      "cell_type": "code",
      "metadata": {
        "colab": {
          "base_uri": "https://localhost:8080/"
        },
        "id": "Au_IxeHevuYT",
        "outputId": "360fad51-76d6-45a8-cba4-832b9433fced"
      },
      "source": [
        "a = 1\n",
        "b = 12\n",
        "x>=y"
      ],
      "execution_count": null,
      "outputs": [
        {
          "output_type": "execute_result",
          "data": {
            "text/plain": [
              "True"
            ]
          },
          "metadata": {
            "tags": []
          },
          "execution_count": 61
        }
      ]
    },
    {
      "cell_type": "markdown",
      "metadata": {
        "id": "YsVbF5dPvx5o"
      },
      "source": [
        "**Logical Operators**"
      ]
    },
    {
      "cell_type": "code",
      "metadata": {
        "colab": {
          "base_uri": "https://localhost:8080/"
        },
        "id": "YcLXYrGivw9C",
        "outputId": "cf3bdf75-305d-45e0-82e7-0290654f2e2e"
      },
      "source": [
        "x = 14\n",
        "y = 20\n",
        "x==14 and y==3"
      ],
      "execution_count": null,
      "outputs": [
        {
          "output_type": "execute_result",
          "data": {
            "text/plain": [
              "False"
            ]
          },
          "metadata": {
            "tags": []
          },
          "execution_count": 62
        }
      ]
    },
    {
      "cell_type": "code",
      "metadata": {
        "colab": {
          "base_uri": "https://localhost:8080/"
        },
        "id": "P2SNNU5lwBMA",
        "outputId": "842a8bdf-7918-4ffb-8e93-9d86173f8867"
      },
      "source": [
        "i = 10\n",
        "j = 20\n",
        "i==20 or j==50000"
      ],
      "execution_count": null,
      "outputs": [
        {
          "output_type": "execute_result",
          "data": {
            "text/plain": [
              "False"
            ]
          },
          "metadata": {
            "tags": []
          },
          "execution_count": 63
        }
      ]
    },
    {
      "cell_type": "code",
      "metadata": {
        "colab": {
          "base_uri": "https://localhost:8080/"
        },
        "id": "a2lGGR0AwMcJ",
        "outputId": "14cb0c42-9874-44cf-e2ba-c8dd7fa87c6a"
      },
      "source": [
        "a= 2\n",
        "b=3\n",
        "not a+b==3"
      ],
      "execution_count": null,
      "outputs": [
        {
          "output_type": "execute_result",
          "data": {
            "text/plain": [
              "True"
            ]
          },
          "metadata": {
            "tags": []
          },
          "execution_count": 64
        }
      ]
    },
    {
      "cell_type": "markdown",
      "metadata": {
        "id": "FTLxr0Blwjd-"
      },
      "source": [
        "**Identity Operators**"
      ]
    },
    {
      "cell_type": "code",
      "metadata": {
        "colab": {
          "base_uri": "https://localhost:8080/"
        },
        "id": "VGBddx-1wUtb",
        "outputId": "cd7c541c-7965-4b0a-987a-3a90ef53f686"
      },
      "source": [
        "x = 10\n",
        "y = 30\n",
        "x is y"
      ],
      "execution_count": null,
      "outputs": [
        {
          "output_type": "execute_result",
          "data": {
            "text/plain": [
              "False"
            ]
          },
          "metadata": {
            "tags": []
          },
          "execution_count": 65
        }
      ]
    },
    {
      "cell_type": "code",
      "metadata": {
        "colab": {
          "base_uri": "https://localhost:8080/"
        },
        "id": "xZ-O3vytw6Cz",
        "outputId": "a4c4486c-17ae-4c95-b953-3dae44480515"
      },
      "source": [
        "x = 10\n",
        "y = 10\n",
        "x is y"
      ],
      "execution_count": null,
      "outputs": [
        {
          "output_type": "execute_result",
          "data": {
            "text/plain": [
              "True"
            ]
          },
          "metadata": {
            "tags": []
          },
          "execution_count": 66
        }
      ]
    },
    {
      "cell_type": "code",
      "metadata": {
        "colab": {
          "base_uri": "https://localhost:8080/"
        },
        "id": "dSYlQzGuw9cu",
        "outputId": "a9a83e21-786e-4f54-f64d-638a4de39940"
      },
      "source": [
        "x = 4\n",
        "y = 2\n",
        "x is not y"
      ],
      "execution_count": null,
      "outputs": [
        {
          "output_type": "execute_result",
          "data": {
            "text/plain": [
              "True"
            ]
          },
          "metadata": {
            "tags": []
          },
          "execution_count": 67
        }
      ]
    },
    {
      "cell_type": "markdown",
      "metadata": {
        "id": "latC4RVexDG3"
      },
      "source": [
        "**Membership Operator**"
      ]
    },
    {
      "cell_type": "code",
      "metadata": {
        "colab": {
          "base_uri": "https://localhost:8080/"
        },
        "id": "1odDfrHGyhPA",
        "outputId": "0a6e5c35-1c5b-4095-e86e-e8f4b05f367f"
      },
      "source": [
        "'s' in \"sairam\""
      ],
      "execution_count": null,
      "outputs": [
        {
          "output_type": "execute_result",
          "data": {
            "text/plain": [
              "True"
            ]
          },
          "metadata": {
            "tags": []
          },
          "execution_count": 68
        }
      ]
    },
    {
      "cell_type": "code",
      "metadata": {
        "colab": {
          "base_uri": "https://localhost:8080/"
        },
        "id": "L-dG60e4ygm9",
        "outputId": "e8328e57-ffad-4dfa-cba9-f3d0210db899"
      },
      "source": [
        "\"S\" in \"sairam\""
      ],
      "execution_count": null,
      "outputs": [
        {
          "output_type": "execute_result",
          "data": {
            "text/plain": [
              "False"
            ]
          },
          "metadata": {
            "tags": []
          },
          "execution_count": 69
        }
      ]
    },
    {
      "cell_type": "code",
      "metadata": {
        "colab": {
          "base_uri": "https://localhost:8080/"
        },
        "id": "7Ebul_eeygj5",
        "outputId": "673691a2-2e2b-4afe-bf4f-238441264cc1"
      },
      "source": [
        "\"please\" in \"please smile\""
      ],
      "execution_count": null,
      "outputs": [
        {
          "output_type": "execute_result",
          "data": {
            "text/plain": [
              "True"
            ]
          },
          "metadata": {
            "tags": []
          },
          "execution_count": 70
        }
      ]
    },
    {
      "cell_type": "code",
      "metadata": {
        "colab": {
          "base_uri": "https://localhost:8080/"
        },
        "id": "g_c3GB8jyrPr",
        "outputId": "849f76f5-92f3-4171-e110-9383a5f11b9c"
      },
      "source": [
        "\"x\" not in \"a\""
      ],
      "execution_count": null,
      "outputs": [
        {
          "output_type": "execute_result",
          "data": {
            "text/plain": [
              "True"
            ]
          },
          "metadata": {
            "tags": []
          },
          "execution_count": 71
        }
      ]
    },
    {
      "cell_type": "code",
      "metadata": {
        "colab": {
          "base_uri": "https://localhost:8080/"
        },
        "id": "PCEnrmedxBRh",
        "outputId": "375a76f6-3725-4359-9b7c-3e96d975db90"
      },
      "source": [
        "a = [1,3,4,5]\n",
        "print(5 in a)\n",
        "print('sairam' in a)\n",
        "print( 3 in a)\n",
        "print(2 in a)"
      ],
      "execution_count": null,
      "outputs": [
        {
          "output_type": "stream",
          "text": [
            "True\n",
            "False\n",
            "True\n",
            "False\n"
          ],
          "name": "stdout"
        }
      ]
    },
    {
      "cell_type": "code",
      "metadata": {
        "colab": {
          "base_uri": "https://localhost:8080/"
        },
        "id": "tcBx507UxIZB",
        "outputId": "e62b4688-6282-404e-b25d-ac8806343670"
      },
      "source": [
        "c = (3,4)\n",
        "print(3 not in c)\n",
        "print(400 not in c)"
      ],
      "execution_count": null,
      "outputs": [
        {
          "output_type": "stream",
          "text": [
            "False\n",
            "True\n"
          ],
          "name": "stdout"
        }
      ]
    },
    {
      "cell_type": "markdown",
      "metadata": {
        "id": "TNnqZX9Wxv8n"
      },
      "source": [
        "**Bitwise Operator**"
      ]
    },
    {
      "cell_type": "code",
      "metadata": {
        "colab": {
          "base_uri": "https://localhost:8080/"
        },
        "id": "dyqcx3iqxdTI",
        "outputId": "a2c26634-969c-4a51-bea4-61f55d1d0b0e"
      },
      "source": [
        "\n",
        "\"\"\"\n",
        "3 = 0011\n",
        "5 = 0101\n",
        "& = 0001 = 1\n",
        "\"\"\"\n",
        "print(3&5)"
      ],
      "execution_count": null,
      "outputs": [
        {
          "output_type": "stream",
          "text": [
            "1\n"
          ],
          "name": "stdout"
        }
      ]
    },
    {
      "cell_type": "code",
      "metadata": {
        "colab": {
          "base_uri": "https://localhost:8080/"
        },
        "id": "RPI098Wex06J",
        "outputId": "463c3094-d9dc-47a2-cfb3-d42db5157375"
      },
      "source": [
        "print(100 | 200)"
      ],
      "execution_count": null,
      "outputs": [
        {
          "output_type": "stream",
          "text": [
            "236\n"
          ],
          "name": "stdout"
        }
      ]
    },
    {
      "cell_type": "code",
      "metadata": {
        "colab": {
          "base_uri": "https://localhost:8080/"
        },
        "id": "iw6-SsAbyJhU",
        "outputId": "a705e939-9b77-478b-8a03-e2c1b8759964"
      },
      "source": [
        "print(3 ^ 2)"
      ],
      "execution_count": null,
      "outputs": [
        {
          "output_type": "stream",
          "text": [
            "1\n"
          ],
          "name": "stdout"
        }
      ]
    },
    {
      "cell_type": "code",
      "metadata": {
        "colab": {
          "base_uri": "https://localhost:8080/"
        },
        "id": "7iR_CIRxyPlx",
        "outputId": "82bd9b8c-38a3-4eb2-b46b-1c5ee126e19a"
      },
      "source": [
        "print(~3)"
      ],
      "execution_count": null,
      "outputs": [
        {
          "output_type": "stream",
          "text": [
            "-4\n"
          ],
          "name": "stdout"
        }
      ]
    },
    {
      "cell_type": "code",
      "metadata": {
        "colab": {
          "base_uri": "https://localhost:8080/"
        },
        "id": "tn9FPaj5yS_M",
        "outputId": "05561cfc-8cdd-468b-daec-925de2b17563"
      },
      "source": [
        "print(4<<1)"
      ],
      "execution_count": null,
      "outputs": [
        {
          "output_type": "stream",
          "text": [
            "8\n"
          ],
          "name": "stdout"
        }
      ]
    },
    {
      "cell_type": "code",
      "metadata": {
        "colab": {
          "base_uri": "https://localhost:8080/"
        },
        "id": "_lr2S3PSyXGO",
        "outputId": "bf14ce00-6803-4ad9-918e-7099510115c0"
      },
      "source": [
        "print(4>>1)"
      ],
      "execution_count": null,
      "outputs": [
        {
          "output_type": "stream",
          "text": [
            "2\n"
          ],
          "name": "stdout"
        }
      ]
    },
    {
      "cell_type": "code",
      "metadata": {
        "id": "Hdz6o5ouyazZ"
      },
      "source": [
        ""
      ],
      "execution_count": null,
      "outputs": []
    },
    {
      "cell_type": "markdown",
      "metadata": {
        "id": "ZxO5NOeFkgcv"
      },
      "source": [
        ""
      ]
    },
    {
      "cell_type": "markdown",
      "metadata": {
        "id": "2iooWjF3yym8"
      },
      "source": [
        "# Strings"
      ]
    },
    {
      "cell_type": "code",
      "metadata": {
        "colab": {
          "base_uri": "https://localhost:8080/"
        },
        "id": "wKgr04jpy68u",
        "outputId": "faa9d7ae-8520-4f4e-d573-58218da2e703"
      },
      "source": [
        "string1 = \"Sairam\"\n",
        "print(string1)"
      ],
      "execution_count": null,
      "outputs": [
        {
          "output_type": "stream",
          "text": [
            "Sairam\n"
          ],
          "name": "stdout"
        }
      ]
    },
    {
      "cell_type": "code",
      "metadata": {
        "colab": {
          "base_uri": "https://localhost:8080/"
        },
        "id": "r_9kt1Agy-2R",
        "outputId": "829d3a71-83d8-4888-a6b7-5ac735d621f0"
      },
      "source": [
        "s = 'sairam'\n",
        "print(s)"
      ],
      "execution_count": null,
      "outputs": [
        {
          "output_type": "stream",
          "text": [
            "sairam\n"
          ],
          "name": "stdout"
        }
      ]
    },
    {
      "cell_type": "code",
      "metadata": {
        "colab": {
          "base_uri": "https://localhost:8080/",
          "height": 35
        },
        "id": "qOLLrRxL2ehU",
        "outputId": "fc84d9c2-cd6a-44c0-bbc2-58507c251f84"
      },
      "source": [
        "s = \"I am Sairam I am studing at \\\"VJIT\\\" \"\n",
        "s"
      ],
      "execution_count": null,
      "outputs": [
        {
          "output_type": "execute_result",
          "data": {
            "application/vnd.google.colaboratory.intrinsic+json": {
              "type": "string"
            },
            "text/plain": [
              "'I am Sairam I am studing at \"VJIT\" '"
            ]
          },
          "metadata": {
            "tags": []
          },
          "execution_count": 82
        }
      ]
    },
    {
      "cell_type": "code",
      "metadata": {
        "colab": {
          "base_uri": "https://localhost:8080/"
        },
        "id": "NwX-dBeezC6r",
        "outputId": "5248e0cc-fbb7-4c65-a251-edd58f290743"
      },
      "source": [
        "s = \"\"\" Sairam \n",
        "sairam sairam\"\"\"\n",
        "print(s)"
      ],
      "execution_count": null,
      "outputs": [
        {
          "output_type": "stream",
          "text": [
            " Sairam \n",
            "sairam sairam\n"
          ],
          "name": "stdout"
        }
      ]
    },
    {
      "cell_type": "code",
      "metadata": {
        "colab": {
          "base_uri": "https://localhost:8080/"
        },
        "id": "NK9W7kuPzG9M",
        "outputId": "f855e5f8-5dd9-4207-94fa-dd2319855112"
      },
      "source": [
        "s = \"\"\" Sairam\\\n",
        " sairam sairam\\\n",
        "\"\"\"\n",
        "print(s)"
      ],
      "execution_count": null,
      "outputs": [
        {
          "output_type": "stream",
          "text": [
            " Sairam sairam sairam\n"
          ],
          "name": "stdout"
        }
      ]
    },
    {
      "cell_type": "code",
      "metadata": {
        "colab": {
          "base_uri": "https://localhost:8080/"
        },
        "id": "FpGNKfI7zLF8",
        "outputId": "413b06cb-5671-4cc4-8aee-9c832c93cca6"
      },
      "source": [
        "a = 'sai'\n",
        "b = 'ram'\n",
        "print(a+b)"
      ],
      "execution_count": null,
      "outputs": [
        {
          "output_type": "stream",
          "text": [
            "sairam\n"
          ],
          "name": "stdout"
        }
      ]
    },
    {
      "cell_type": "code",
      "metadata": {
        "colab": {
          "base_uri": "https://localhost:8080/"
        },
        "id": "gtqTT9rLzSal",
        "outputId": "57a4bd35-0084-4c54-97db-d4546ba4e3ac"
      },
      "source": [
        "type(a)"
      ],
      "execution_count": null,
      "outputs": [
        {
          "output_type": "execute_result",
          "data": {
            "text/plain": [
              "str"
            ]
          },
          "metadata": {
            "tags": []
          },
          "execution_count": 86
        }
      ]
    },
    {
      "cell_type": "markdown",
      "metadata": {
        "id": "ocd9vma30h5P"
      },
      "source": [
        "**Indexing**"
      ]
    },
    {
      "cell_type": "code",
      "metadata": {
        "colab": {
          "base_uri": "https://localhost:8080/",
          "height": 35
        },
        "id": "v1xnmmmszTwu",
        "outputId": "4dc85eb9-2a54-4805-fa1b-7f976e09747d"
      },
      "source": [
        "string = \"The best things in life are free!\"\n",
        "string[2]"
      ],
      "execution_count": null,
      "outputs": [
        {
          "output_type": "execute_result",
          "data": {
            "application/vnd.google.colaboratory.intrinsic+json": {
              "type": "string"
            },
            "text/plain": [
              "'e'"
            ]
          },
          "metadata": {
            "tags": []
          },
          "execution_count": 87
        }
      ]
    },
    {
      "cell_type": "code",
      "metadata": {
        "colab": {
          "base_uri": "https://localhost:8080/",
          "height": 35
        },
        "id": "CKZwHQ5Y0lP6",
        "outputId": "73752c67-a68d-4862-b3d8-33342a349a88"
      },
      "source": [
        "string[7]"
      ],
      "execution_count": null,
      "outputs": [
        {
          "output_type": "execute_result",
          "data": {
            "application/vnd.google.colaboratory.intrinsic+json": {
              "type": "string"
            },
            "text/plain": [
              "'t'"
            ]
          },
          "metadata": {
            "tags": []
          },
          "execution_count": 88
        }
      ]
    },
    {
      "cell_type": "code",
      "metadata": {
        "colab": {
          "base_uri": "https://localhost:8080/",
          "height": 35
        },
        "id": "7GT5o2QX0nFR",
        "outputId": "f3d98d01-6e4c-42bf-ec2f-830104b66711"
      },
      "source": [
        "string[-1]"
      ],
      "execution_count": null,
      "outputs": [
        {
          "output_type": "execute_result",
          "data": {
            "application/vnd.google.colaboratory.intrinsic+json": {
              "type": "string"
            },
            "text/plain": [
              "'!'"
            ]
          },
          "metadata": {
            "tags": []
          },
          "execution_count": 89
        }
      ]
    },
    {
      "cell_type": "code",
      "metadata": {
        "colab": {
          "base_uri": "https://localhost:8080/",
          "height": 35
        },
        "id": "KN5_8Kc30ruV",
        "outputId": "d0729f7f-dc64-4b15-bb34-fa11167bae69"
      },
      "source": [
        "string[-3]"
      ],
      "execution_count": null,
      "outputs": [
        {
          "output_type": "execute_result",
          "data": {
            "application/vnd.google.colaboratory.intrinsic+json": {
              "type": "string"
            },
            "text/plain": [
              "'e'"
            ]
          },
          "metadata": {
            "tags": []
          },
          "execution_count": 90
        }
      ]
    },
    {
      "cell_type": "code",
      "metadata": {
        "colab": {
          "base_uri": "https://localhost:8080/",
          "height": 35
        },
        "id": "4RQlWOAW0s-9",
        "outputId": "8235af3e-a9b3-4774-af58-675134124f1b"
      },
      "source": [
        "string[-12]"
      ],
      "execution_count": null,
      "outputs": [
        {
          "output_type": "execute_result",
          "data": {
            "application/vnd.google.colaboratory.intrinsic+json": {
              "type": "string"
            },
            "text/plain": [
              "'f'"
            ]
          },
          "metadata": {
            "tags": []
          },
          "execution_count": 91
        }
      ]
    },
    {
      "cell_type": "code",
      "metadata": {
        "colab": {
          "base_uri": "https://localhost:8080/",
          "height": 35
        },
        "id": "M4zWRp6U0uds",
        "outputId": "3d9675aa-322c-4659-f858-69481e75da52"
      },
      "source": [
        "string[9]"
      ],
      "execution_count": null,
      "outputs": [
        {
          "output_type": "execute_result",
          "data": {
            "application/vnd.google.colaboratory.intrinsic+json": {
              "type": "string"
            },
            "text/plain": [
              "'t'"
            ]
          },
          "metadata": {
            "tags": []
          },
          "execution_count": 92
        }
      ]
    },
    {
      "cell_type": "markdown",
      "metadata": {
        "id": "PQUFXrVe02vT"
      },
      "source": [
        "**Slicing**"
      ]
    },
    {
      "cell_type": "code",
      "metadata": {
        "colab": {
          "base_uri": "https://localhost:8080/",
          "height": 35
        },
        "id": "dEbeDOZq0yyU",
        "outputId": "08d8896f-99c0-4bba-e93c-d268ae052988"
      },
      "source": [
        "string[1:5]"
      ],
      "execution_count": null,
      "outputs": [
        {
          "output_type": "execute_result",
          "data": {
            "application/vnd.google.colaboratory.intrinsic+json": {
              "type": "string"
            },
            "text/plain": [
              "'he b'"
            ]
          },
          "metadata": {
            "tags": []
          },
          "execution_count": 93
        }
      ]
    },
    {
      "cell_type": "code",
      "metadata": {
        "colab": {
          "base_uri": "https://localhost:8080/",
          "height": 35
        },
        "id": "IUsIKBRx06Kb",
        "outputId": "02a39484-72e7-4f8c-a388-1b5a5d719c4f"
      },
      "source": [
        "string[2:7]"
      ],
      "execution_count": null,
      "outputs": [
        {
          "output_type": "execute_result",
          "data": {
            "application/vnd.google.colaboratory.intrinsic+json": {
              "type": "string"
            },
            "text/plain": [
              "'e bes'"
            ]
          },
          "metadata": {
            "tags": []
          },
          "execution_count": 94
        }
      ]
    },
    {
      "cell_type": "code",
      "metadata": {
        "colab": {
          "base_uri": "https://localhost:8080/",
          "height": 35
        },
        "id": "-P-xbRc807eF",
        "outputId": "8e21b94c-9c95-4ae7-fb5d-2a553f54f167"
      },
      "source": [
        "string[7:2]"
      ],
      "execution_count": null,
      "outputs": [
        {
          "output_type": "execute_result",
          "data": {
            "application/vnd.google.colaboratory.intrinsic+json": {
              "type": "string"
            },
            "text/plain": [
              "''"
            ]
          },
          "metadata": {
            "tags": []
          },
          "execution_count": 95
        }
      ]
    },
    {
      "cell_type": "code",
      "metadata": {
        "colab": {
          "base_uri": "https://localhost:8080/",
          "height": 35
        },
        "id": "NFbM5Kra08eF",
        "outputId": "a53ffbc2-8146-471b-ee66-5705f4885f6a"
      },
      "source": [
        "string[:-1]"
      ],
      "execution_count": null,
      "outputs": [
        {
          "output_type": "execute_result",
          "data": {
            "application/vnd.google.colaboratory.intrinsic+json": {
              "type": "string"
            },
            "text/plain": [
              "'The best things in life are free'"
            ]
          },
          "metadata": {
            "tags": []
          },
          "execution_count": 96
        }
      ]
    },
    {
      "cell_type": "code",
      "metadata": {
        "colab": {
          "base_uri": "https://localhost:8080/",
          "height": 35
        },
        "id": "ZpRJ46Cz0-V4",
        "outputId": "a40efff3-5c84-47e6-83a7-2463235a4fe5"
      },
      "source": [
        "string[:]"
      ],
      "execution_count": null,
      "outputs": [
        {
          "output_type": "execute_result",
          "data": {
            "application/vnd.google.colaboratory.intrinsic+json": {
              "type": "string"
            },
            "text/plain": [
              "'The best things in life are free!'"
            ]
          },
          "metadata": {
            "tags": []
          },
          "execution_count": 97
        }
      ]
    },
    {
      "cell_type": "code",
      "metadata": {
        "colab": {
          "base_uri": "https://localhost:8080/",
          "height": 35
        },
        "id": "KgoKGhEs0_nl",
        "outputId": "916afd17-6213-410a-d327-c853b33ba873"
      },
      "source": [
        "string[:22]"
      ],
      "execution_count": null,
      "outputs": [
        {
          "output_type": "execute_result",
          "data": {
            "application/vnd.google.colaboratory.intrinsic+json": {
              "type": "string"
            },
            "text/plain": [
              "'The best things in lif'"
            ]
          },
          "metadata": {
            "tags": []
          },
          "execution_count": 98
        }
      ]
    },
    {
      "cell_type": "code",
      "metadata": {
        "colab": {
          "base_uri": "https://localhost:8080/",
          "height": 35
        },
        "id": "aRhQrh3Q1BVG",
        "outputId": "84dd6962-1ce8-4ea7-c6b5-273a58568b27"
      },
      "source": [
        "string[5:]"
      ],
      "execution_count": null,
      "outputs": [
        {
          "output_type": "execute_result",
          "data": {
            "application/vnd.google.colaboratory.intrinsic+json": {
              "type": "string"
            },
            "text/plain": [
              "'est things in life are free!'"
            ]
          },
          "metadata": {
            "tags": []
          },
          "execution_count": 99
        }
      ]
    },
    {
      "cell_type": "code",
      "metadata": {
        "colab": {
          "base_uri": "https://localhost:8080/",
          "height": 35
        },
        "id": "Zrjf8AEn1DMd",
        "outputId": "28a87c15-2d93-4c15-d94c-302bb33bfe3c"
      },
      "source": [
        "string[-1:]"
      ],
      "execution_count": null,
      "outputs": [
        {
          "output_type": "execute_result",
          "data": {
            "application/vnd.google.colaboratory.intrinsic+json": {
              "type": "string"
            },
            "text/plain": [
              "'!'"
            ]
          },
          "metadata": {
            "tags": []
          },
          "execution_count": 100
        }
      ]
    },
    {
      "cell_type": "code",
      "metadata": {
        "colab": {
          "base_uri": "https://localhost:8080/",
          "height": 35
        },
        "id": "Qbnh__5U1E9a",
        "outputId": "dff28919-d375-4626-f239-f24137edcce3"
      },
      "source": [
        "string[0:30:2]"
      ],
      "execution_count": null,
      "outputs": [
        {
          "output_type": "execute_result",
          "data": {
            "application/vnd.google.colaboratory.intrinsic+json": {
              "type": "string"
            },
            "text/plain": [
              "'Tebs hnsi ieaef'"
            ]
          },
          "metadata": {
            "tags": []
          },
          "execution_count": 101
        }
      ]
    },
    {
      "cell_type": "code",
      "metadata": {
        "colab": {
          "base_uri": "https://localhost:8080/",
          "height": 35
        },
        "id": "AFR5v0001Iz-",
        "outputId": "f9c29631-db2e-44a7-b4f2-6a1296245386"
      },
      "source": [
        "string[::-1]"
      ],
      "execution_count": null,
      "outputs": [
        {
          "output_type": "execute_result",
          "data": {
            "application/vnd.google.colaboratory.intrinsic+json": {
              "type": "string"
            },
            "text/plain": [
              "'!eerf era efil ni sgniht tseb ehT'"
            ]
          },
          "metadata": {
            "tags": []
          },
          "execution_count": 102
        }
      ]
    },
    {
      "cell_type": "code",
      "metadata": {
        "colab": {
          "base_uri": "https://localhost:8080/",
          "height": 35
        },
        "id": "4CGe0bFQ1Kuj",
        "outputId": "b27e78d6-a784-47e7-9325-939237fc05ac"
      },
      "source": [
        "string[-1:-2]"
      ],
      "execution_count": null,
      "outputs": [
        {
          "output_type": "execute_result",
          "data": {
            "application/vnd.google.colaboratory.intrinsic+json": {
              "type": "string"
            },
            "text/plain": [
              "''"
            ]
          },
          "metadata": {
            "tags": []
          },
          "execution_count": 103
        }
      ]
    },
    {
      "cell_type": "code",
      "metadata": {
        "colab": {
          "base_uri": "https://localhost:8080/",
          "height": 35
        },
        "id": "sUVpBBJ01QpV",
        "outputId": "a1cf4666-71dd-475d-8191-b5aad8e67964"
      },
      "source": [
        "string[::]"
      ],
      "execution_count": null,
      "outputs": [
        {
          "output_type": "execute_result",
          "data": {
            "application/vnd.google.colaboratory.intrinsic+json": {
              "type": "string"
            },
            "text/plain": [
              "'The best things in life are free!'"
            ]
          },
          "metadata": {
            "tags": []
          },
          "execution_count": 104
        }
      ]
    },
    {
      "cell_type": "markdown",
      "metadata": {
        "id": "qY6zoxh61WnC"
      },
      "source": [
        "**Formatting**\n",
        "\n",
        "\n"
      ]
    },
    {
      "cell_type": "code",
      "metadata": {
        "colab": {
          "base_uri": "https://localhost:8080/"
        },
        "id": "vAKB8qao1VE2",
        "outputId": "6142f02b-d557-4d08-de94-a281634a6a13"
      },
      "source": [
        "age = 19\n",
        "s1 = \"My name is Sairam my age is \"+ str(age)\n",
        "print(s1)"
      ],
      "execution_count": null,
      "outputs": [
        {
          "output_type": "stream",
          "text": [
            "My name is Sairam my age is 19\n"
          ],
          "name": "stdout"
        }
      ]
    },
    {
      "cell_type": "code",
      "metadata": {
        "colab": {
          "base_uri": "https://localhost:8080/"
        },
        "id": "KJUvQoQJ15FE",
        "outputId": "b0a1690c-8e97-4070-8950-b96ac3a5a2e7"
      },
      "source": [
        "age = 19\n",
        "s1 = \"My name is Sairam my age is {}\"\n",
        "print(s1.format(age))"
      ],
      "execution_count": null,
      "outputs": [
        {
          "output_type": "stream",
          "text": [
            "My name is Sairam my age is 19\n"
          ],
          "name": "stdout"
        }
      ]
    },
    {
      "cell_type": "code",
      "metadata": {
        "colab": {
          "base_uri": "https://localhost:8080/"
        },
        "id": "PzEDhJ0e2KAL",
        "outputId": "1a61aff6-cb3f-477f-9c46-e86b46a26a0d"
      },
      "source": [
        "rollno = 3542\n",
        "age=19\n",
        "s1 = \"My name is Sairam rollno is {0} age is {1}\"\n",
        "print(s1.format(rollno,age))"
      ],
      "execution_count": null,
      "outputs": [
        {
          "output_type": "stream",
          "text": [
            "My name is Sairam rollno is 3542 age is 19\n"
          ],
          "name": "stdout"
        }
      ]
    },
    {
      "cell_type": "code",
      "metadata": {
        "colab": {
          "base_uri": "https://localhost:8080/",
          "height": 35
        },
        "id": "2bltGEnKo50p",
        "outputId": "638d2b75-ee7e-4a53-9101-f35820f178ed"
      },
      "source": [
        "s1 = \"My name is Sairam rollno is {x} age is {y}\"\n",
        "s1.format(x=rollno,y=age)\n"
      ],
      "execution_count": null,
      "outputs": [
        {
          "output_type": "execute_result",
          "data": {
            "application/vnd.google.colaboratory.intrinsic+json": {
              "type": "string"
            },
            "text/plain": [
              "'My name is Sairam rollno is 3542 age is 19'"
            ]
          },
          "metadata": {
            "tags": []
          },
          "execution_count": 139
        }
      ]
    },
    {
      "cell_type": "markdown",
      "metadata": {
        "id": "zBR1_pWj23f8"
      },
      "source": [
        "String Methods"
      ]
    },
    {
      "cell_type": "code",
      "metadata": {
        "colab": {
          "base_uri": "https://localhost:8080/",
          "height": 35
        },
        "id": "9CxaHKwM2YvB",
        "outputId": "f7133a0c-bf45-4f88-e9f2-cd9d73cbb3c8"
      },
      "source": [
        "string = \"The best things in life are free!\"\n",
        "string.upper()"
      ],
      "execution_count": null,
      "outputs": [
        {
          "output_type": "execute_result",
          "data": {
            "application/vnd.google.colaboratory.intrinsic+json": {
              "type": "string"
            },
            "text/plain": [
              "'THE BEST THINGS IN LIFE ARE FREE!'"
            ]
          },
          "metadata": {
            "tags": []
          },
          "execution_count": 108
        }
      ]
    },
    {
      "cell_type": "code",
      "metadata": {
        "colab": {
          "base_uri": "https://localhost:8080/",
          "height": 35
        },
        "id": "kMopA6Pi2_uF",
        "outputId": "0c76f5ec-19ec-4637-8d7e-b2ccdd805a86"
      },
      "source": [
        "string.lower()"
      ],
      "execution_count": null,
      "outputs": [
        {
          "output_type": "execute_result",
          "data": {
            "application/vnd.google.colaboratory.intrinsic+json": {
              "type": "string"
            },
            "text/plain": [
              "'the best things in life are free!'"
            ]
          },
          "metadata": {
            "tags": []
          },
          "execution_count": 109
        }
      ]
    },
    {
      "cell_type": "code",
      "metadata": {
        "colab": {
          "base_uri": "https://localhost:8080/",
          "height": 35
        },
        "id": "v9Ps-9X03BLD",
        "outputId": "3326510b-7de4-4b86-83a2-a3f76871d894"
      },
      "source": [
        "string.capitalize()"
      ],
      "execution_count": null,
      "outputs": [
        {
          "output_type": "execute_result",
          "data": {
            "application/vnd.google.colaboratory.intrinsic+json": {
              "type": "string"
            },
            "text/plain": [
              "'The best things in life are free!'"
            ]
          },
          "metadata": {
            "tags": []
          },
          "execution_count": 110
        }
      ]
    },
    {
      "cell_type": "code",
      "metadata": {
        "colab": {
          "base_uri": "https://localhost:8080/",
          "height": 35
        },
        "id": "fV-lojrK3D2Z",
        "outputId": "4f047675-8159-4dea-e2e1-38bd923def64"
      },
      "source": [
        "s = \"LLPP\"\n",
        "s.casefold()"
      ],
      "execution_count": null,
      "outputs": [
        {
          "output_type": "execute_result",
          "data": {
            "application/vnd.google.colaboratory.intrinsic+json": {
              "type": "string"
            },
            "text/plain": [
              "'llpp'"
            ]
          },
          "metadata": {
            "tags": []
          },
          "execution_count": 111
        }
      ]
    },
    {
      "cell_type": "code",
      "metadata": {
        "colab": {
          "base_uri": "https://localhost:8080/",
          "height": 35
        },
        "id": "p8Tj3VVG3HZw",
        "outputId": "39584f43-d160-4830-fea9-a783568d6a40"
      },
      "source": [
        "string = \"The best things in life are free!\"\n",
        "string.center(30)"
      ],
      "execution_count": null,
      "outputs": [
        {
          "output_type": "execute_result",
          "data": {
            "application/vnd.google.colaboratory.intrinsic+json": {
              "type": "string"
            },
            "text/plain": [
              "'The best things in life are free!'"
            ]
          },
          "metadata": {
            "tags": []
          },
          "execution_count": 112
        }
      ]
    },
    {
      "cell_type": "code",
      "metadata": {
        "colab": {
          "base_uri": "https://localhost:8080/"
        },
        "id": "8vCnH8ls3Mm4",
        "outputId": "8b7af0ca-3b18-4b93-a002-94c7a8ac0a7f"
      },
      "source": [
        "#count returns how many times the string is repeated \n",
        "string.count('s',0,20)"
      ],
      "execution_count": null,
      "outputs": [
        {
          "output_type": "execute_result",
          "data": {
            "text/plain": [
              "2"
            ]
          },
          "metadata": {
            "tags": []
          },
          "execution_count": 113
        }
      ]
    },
    {
      "cell_type": "code",
      "metadata": {
        "colab": {
          "base_uri": "https://localhost:8080/"
        },
        "id": "g7dKjZtX3yuF",
        "outputId": "34c9cbe5-795f-4bf7-e9fc-52fbd617d594"
      },
      "source": [
        "string.encode()"
      ],
      "execution_count": null,
      "outputs": [
        {
          "output_type": "execute_result",
          "data": {
            "text/plain": [
              "b'The best things in life are free!'"
            ]
          },
          "metadata": {
            "tags": []
          },
          "execution_count": 114
        }
      ]
    },
    {
      "cell_type": "code",
      "metadata": {
        "colab": {
          "base_uri": "https://localhost:8080/"
        },
        "id": "UVV9HDQl4PVg",
        "outputId": "d4cdaede-9379-40e9-f903-527dd81d69e6"
      },
      "source": [
        "string.index('in')"
      ],
      "execution_count": null,
      "outputs": [
        {
          "output_type": "execute_result",
          "data": {
            "text/plain": [
              "11"
            ]
          },
          "metadata": {
            "tags": []
          },
          "execution_count": 115
        }
      ]
    },
    {
      "cell_type": "code",
      "metadata": {
        "colab": {
          "base_uri": "https://localhost:8080/"
        },
        "id": "T8-Op_GB4T1l",
        "outputId": "073a0d89-5503-49aa-feb2-7461eb07d9bd"
      },
      "source": [
        "string.find('e',1,10)"
      ],
      "execution_count": null,
      "outputs": [
        {
          "output_type": "execute_result",
          "data": {
            "text/plain": [
              "2"
            ]
          },
          "metadata": {
            "tags": []
          },
          "execution_count": 116
        }
      ]
    },
    {
      "cell_type": "code",
      "metadata": {
        "colab": {
          "base_uri": "https://localhost:8080/"
        },
        "id": "_yryp05-4aBO",
        "outputId": "03c74664-50d3-4235-b01b-5b2d07af396d"
      },
      "source": [
        "string.endswith('!')"
      ],
      "execution_count": null,
      "outputs": [
        {
          "output_type": "execute_result",
          "data": {
            "text/plain": [
              "True"
            ]
          },
          "metadata": {
            "tags": []
          },
          "execution_count": 117
        }
      ]
    },
    {
      "cell_type": "code",
      "metadata": {
        "colab": {
          "base_uri": "https://localhost:8080/"
        },
        "id": "cBkSyAYy4ihA",
        "outputId": "e1c637bf-2d71-4fe0-acf7-192dec5fd893"
      },
      "source": [
        "string.endswith('a')"
      ],
      "execution_count": null,
      "outputs": [
        {
          "output_type": "execute_result",
          "data": {
            "text/plain": [
              "False"
            ]
          },
          "metadata": {
            "tags": []
          },
          "execution_count": 118
        }
      ]
    },
    {
      "cell_type": "code",
      "metadata": {
        "colab": {
          "base_uri": "https://localhost:8080/"
        },
        "id": "FwH-eD6O4knS",
        "outputId": "ae9331d1-a44d-4bf9-bf5c-abeec55296d3"
      },
      "source": [
        "string.startswith('T')"
      ],
      "execution_count": null,
      "outputs": [
        {
          "output_type": "execute_result",
          "data": {
            "text/plain": [
              "True"
            ]
          },
          "metadata": {
            "tags": []
          },
          "execution_count": 119
        }
      ]
    },
    {
      "cell_type": "code",
      "metadata": {
        "colab": {
          "base_uri": "https://localhost:8080/"
        },
        "id": "L_GO53RK4m5S",
        "outputId": "1167d3bf-fa5d-40ab-8dc5-f591b33d5a1b"
      },
      "source": [
        "string.startswith('!')"
      ],
      "execution_count": null,
      "outputs": [
        {
          "output_type": "execute_result",
          "data": {
            "text/plain": [
              "False"
            ]
          },
          "metadata": {
            "tags": []
          },
          "execution_count": 120
        }
      ]
    },
    {
      "cell_type": "code",
      "metadata": {
        "colab": {
          "base_uri": "https://localhost:8080/"
        },
        "id": "fR9XsHcL4okx",
        "outputId": "a17ca5cc-a1b2-4dd4-fa51-67781016fafa"
      },
      "source": [
        "s = '123abc'\n",
        "s.isalnum()"
      ],
      "execution_count": null,
      "outputs": [
        {
          "output_type": "execute_result",
          "data": {
            "text/plain": [
              "True"
            ]
          },
          "metadata": {
            "tags": []
          },
          "execution_count": 121
        }
      ]
    },
    {
      "cell_type": "code",
      "metadata": {
        "colab": {
          "base_uri": "https://localhost:8080/"
        },
        "id": "jhk5WRuR4tZq",
        "outputId": "9d5b50d6-fcac-433f-b0c5-77ee35c191f9"
      },
      "source": [
        "s.isalpha()"
      ],
      "execution_count": null,
      "outputs": [
        {
          "output_type": "execute_result",
          "data": {
            "text/plain": [
              "False"
            ]
          },
          "metadata": {
            "tags": []
          },
          "execution_count": 122
        }
      ]
    },
    {
      "cell_type": "code",
      "metadata": {
        "colab": {
          "base_uri": "https://localhost:8080/"
        },
        "id": "HZ5q1ujU4wpe",
        "outputId": "22873098-2a9d-482e-de9c-119ff76112b3"
      },
      "source": [
        "s.isdigit()"
      ],
      "execution_count": null,
      "outputs": [
        {
          "output_type": "execute_result",
          "data": {
            "text/plain": [
              "False"
            ]
          },
          "metadata": {
            "tags": []
          },
          "execution_count": 123
        }
      ]
    },
    {
      "cell_type": "code",
      "metadata": {
        "colab": {
          "base_uri": "https://localhost:8080/"
        },
        "id": "dYMr6-ow51r7",
        "outputId": "aa3e0997-4102-4f1d-ae1d-92193d6f1211"
      },
      "source": [
        "c = '124'\n",
        "c.isdigit()"
      ],
      "execution_count": null,
      "outputs": [
        {
          "output_type": "execute_result",
          "data": {
            "text/plain": [
              "True"
            ]
          },
          "metadata": {
            "tags": []
          },
          "execution_count": 124
        }
      ]
    },
    {
      "cell_type": "code",
      "metadata": {
        "colab": {
          "base_uri": "https://localhost:8080/"
        },
        "id": "ZC1AS4CZ532l",
        "outputId": "b4622258-3a73-420e-8e97-2ca3a38bbd39"
      },
      "source": [
        "c.isalnum()"
      ],
      "execution_count": null,
      "outputs": [
        {
          "output_type": "execute_result",
          "data": {
            "text/plain": [
              "True"
            ]
          },
          "metadata": {
            "tags": []
          },
          "execution_count": 125
        }
      ]
    },
    {
      "cell_type": "code",
      "metadata": {
        "colab": {
          "base_uri": "https://localhost:8080/",
          "height": 35
        },
        "id": "g3IwegeP58aW",
        "outputId": "e5cd29df-7148-47ab-f89b-de01c5c3c5bd"
      },
      "source": [
        "k = \"I am Sairam\"\n",
        "k.join('abc')"
      ],
      "execution_count": null,
      "outputs": [
        {
          "output_type": "execute_result",
          "data": {
            "application/vnd.google.colaboratory.intrinsic+json": {
              "type": "string"
            },
            "text/plain": [
              "'aI am SairambI am Sairamc'"
            ]
          },
          "metadata": {
            "tags": []
          },
          "execution_count": 126
        }
      ]
    },
    {
      "cell_type": "code",
      "metadata": {
        "colab": {
          "base_uri": "https://localhost:8080/",
          "height": 35
        },
        "id": "FfE1y8QO6FJy",
        "outputId": "2141a9a2-275e-456b-de2a-f1a6c69af1aa"
      },
      "source": [
        "a = '         kkkkk'\n",
        "a.lstrip()"
      ],
      "execution_count": null,
      "outputs": [
        {
          "output_type": "execute_result",
          "data": {
            "application/vnd.google.colaboratory.intrinsic+json": {
              "type": "string"
            },
            "text/plain": [
              "'kkkkk'"
            ]
          },
          "metadata": {
            "tags": []
          },
          "execution_count": 127
        }
      ]
    },
    {
      "cell_type": "code",
      "metadata": {
        "colab": {
          "base_uri": "https://localhost:8080/",
          "height": 35
        },
        "id": "ZCsXIn_D6Nha",
        "outputId": "77a179ff-ee22-4fdf-f58a-96ec64cb47e8"
      },
      "source": [
        "a = 'kkk            '\n",
        "a.rstrip()"
      ],
      "execution_count": null,
      "outputs": [
        {
          "output_type": "execute_result",
          "data": {
            "application/vnd.google.colaboratory.intrinsic+json": {
              "type": "string"
            },
            "text/plain": [
              "'kkk'"
            ]
          },
          "metadata": {
            "tags": []
          },
          "execution_count": 128
        }
      ]
    },
    {
      "cell_type": "code",
      "metadata": {
        "colab": {
          "base_uri": "https://localhost:8080/"
        },
        "id": "FO-7JZok6QUd",
        "outputId": "c064962c-479a-4e81-d8e9-dccf6946b8f5"
      },
      "source": [
        "s = \"abcde\"\n",
        "s.partition('c')"
      ],
      "execution_count": null,
      "outputs": [
        {
          "output_type": "execute_result",
          "data": {
            "text/plain": [
              "('ab', 'c', 'de')"
            ]
          },
          "metadata": {
            "tags": []
          },
          "execution_count": 129
        }
      ]
    },
    {
      "cell_type": "code",
      "metadata": {
        "colab": {
          "base_uri": "https://localhost:8080/",
          "height": 35
        },
        "id": "Z_-DWqpc6VWz",
        "outputId": "c5eea4de-07d7-48df-f7f9-f50d6ad8df42"
      },
      "source": [
        "s.swapcase()"
      ],
      "execution_count": null,
      "outputs": [
        {
          "output_type": "execute_result",
          "data": {
            "application/vnd.google.colaboratory.intrinsic+json": {
              "type": "string"
            },
            "text/plain": [
              "'ABCDE'"
            ]
          },
          "metadata": {
            "tags": []
          },
          "execution_count": 130
        }
      ]
    },
    {
      "cell_type": "code",
      "metadata": {
        "colab": {
          "base_uri": "https://localhost:8080/",
          "height": 35
        },
        "id": "zGUfV5KI6aBK",
        "outputId": "d146039c-5c1d-4e91-ad80-433313bca004"
      },
      "source": [
        "s.zfill(10)"
      ],
      "execution_count": null,
      "outputs": [
        {
          "output_type": "execute_result",
          "data": {
            "application/vnd.google.colaboratory.intrinsic+json": {
              "type": "string"
            },
            "text/plain": [
              "'00000abcde'"
            ]
          },
          "metadata": {
            "tags": []
          },
          "execution_count": 131
        }
      ]
    },
    {
      "cell_type": "code",
      "metadata": {
        "id": "sjSLukPL6lTU"
      },
      "source": [
        ""
      ],
      "execution_count": null,
      "outputs": []
    },
    {
      "cell_type": "markdown",
      "metadata": {
        "id": "XiCJ5IfBkiQQ"
      },
      "source": [
        "# Lists"
      ]
    },
    {
      "cell_type": "markdown",
      "metadata": {
        "id": "ZuSGbtyKnFxE"
      },
      "source": [
        "List is a collection of data which is ordered and mutable."
      ]
    },
    {
      "cell_type": "code",
      "metadata": {
        "colab": {
          "base_uri": "https://localhost:8080/"
        },
        "id": "6L_f5Eshkklr",
        "outputId": "0c5992c3-b3d1-4f39-d08b-d865987e1533"
      },
      "source": [
        "alpha = list ()\n",
        "type(alpha)"
      ],
      "execution_count": null,
      "outputs": [
        {
          "output_type": "execute_result",
          "data": {
            "text/plain": [
              "list"
            ]
          },
          "metadata": {
            "tags": []
          },
          "execution_count": 132
        }
      ]
    },
    {
      "cell_type": "code",
      "metadata": {
        "colab": {
          "base_uri": "https://localhost:8080/"
        },
        "id": "OXU4zokYll5X",
        "outputId": "b6eb6622-4534-4cb3-b03a-3549fee138a4"
      },
      "source": [
        "alpha = ['a','b','c','d']\n",
        "print(alpha)\n",
        "print(alpha[0])\n",
        "print(alpha[1])\n",
        "print(alpha[3])"
      ],
      "execution_count": null,
      "outputs": [
        {
          "output_type": "stream",
          "text": [
            "['a', 'b', 'c', 'd']\n",
            "a\n",
            "b\n",
            "d\n"
          ],
          "name": "stdout"
        }
      ]
    },
    {
      "cell_type": "code",
      "metadata": {
        "colab": {
          "base_uri": "https://localhost:8080/"
        },
        "id": "Cdtuk-W2lxCc",
        "outputId": "4cd29278-4232-422e-add5-2397b6629748"
      },
      "source": [
        "li = list((1,2,3,4,5))\n",
        "print(type (li))\n",
        "print(li)"
      ],
      "execution_count": null,
      "outputs": [
        {
          "output_type": "stream",
          "text": [
            "<class 'list'>\n",
            "[1, 2, 3, 4, 5]\n"
          ],
          "name": "stdout"
        }
      ]
    },
    {
      "cell_type": "code",
      "metadata": {
        "colab": {
          "base_uri": "https://localhost:8080/"
        },
        "id": "Zwjh7xpnxxCS",
        "outputId": "e2cdd324-0944-4272-ea57-cfb5c2a9e250"
      },
      "source": [
        "list1 = ['S','A',1,2,3,[4,5,6,7],'Sairam']\n",
        "print(list1)"
      ],
      "execution_count": null,
      "outputs": [
        {
          "output_type": "stream",
          "text": [
            "['S', 'A', 1, 2, 3, [4, 5, 6, 7], 'Sairam']\n"
          ],
          "name": "stdout"
        }
      ]
    },
    {
      "cell_type": "code",
      "metadata": {
        "colab": {
          "base_uri": "https://localhost:8080/"
        },
        "id": "V5VXJ0dPxw_U",
        "outputId": "b861ca7d-45fc-4786-e411-db05c9d1c75f"
      },
      "source": [
        "print(len(list1))"
      ],
      "execution_count": null,
      "outputs": [
        {
          "output_type": "stream",
          "text": [
            "7\n"
          ],
          "name": "stdout"
        }
      ]
    },
    {
      "cell_type": "code",
      "metadata": {
        "colab": {
          "base_uri": "https://localhost:8080/"
        },
        "id": "vwEH6fknxw7N",
        "outputId": "6bbf1331-4a46-472f-9381-f8225e210813"
      },
      "source": [
        "list1[5]"
      ],
      "execution_count": null,
      "outputs": [
        {
          "output_type": "execute_result",
          "data": {
            "text/plain": [
              "[4, 5, 6, 7]"
            ]
          },
          "metadata": {
            "tags": []
          },
          "execution_count": 164
        }
      ]
    },
    {
      "cell_type": "code",
      "metadata": {
        "colab": {
          "base_uri": "https://localhost:8080/"
        },
        "id": "iSf0buK6xw4U",
        "outputId": "c27d4f4b-5a90-49fa-c4a5-a9c54b571f4b"
      },
      "source": [
        "list1[5][1]"
      ],
      "execution_count": null,
      "outputs": [
        {
          "output_type": "execute_result",
          "data": {
            "text/plain": [
              "5"
            ]
          },
          "metadata": {
            "tags": []
          },
          "execution_count": 165
        }
      ]
    },
    {
      "cell_type": "code",
      "metadata": {
        "colab": {
          "base_uri": "https://localhost:8080/",
          "height": 35
        },
        "id": "64OUCG4Kxw09",
        "outputId": "eefd9538-7e39-4d8a-8be7-9c7d20b2d2ab"
      },
      "source": [
        "list1[-1][2]"
      ],
      "execution_count": null,
      "outputs": [
        {
          "output_type": "execute_result",
          "data": {
            "application/vnd.google.colaboratory.intrinsic+json": {
              "type": "string"
            },
            "text/plain": [
              "'i'"
            ]
          },
          "metadata": {
            "tags": []
          },
          "execution_count": 166
        }
      ]
    },
    {
      "cell_type": "code",
      "metadata": {
        "colab": {
          "base_uri": "https://localhost:8080/"
        },
        "id": "qrFAJ5zangT9",
        "outputId": "a3d24784-2bbb-47b4-83e6-9bb4353b65e8"
      },
      "source": [
        "fruits = ['apple','banana','cherry','orange']\n",
        "print(len(fruits))\n",
        "print(fruits[3][1])\n",
        "print(fruits[-1])"
      ],
      "execution_count": null,
      "outputs": [
        {
          "output_type": "stream",
          "text": [
            "4\n",
            "r\n",
            "orange\n"
          ],
          "name": "stdout"
        }
      ]
    },
    {
      "cell_type": "markdown",
      "metadata": {
        "id": "Uy8uaonGv864"
      },
      "source": [
        "List Indexing"
      ]
    },
    {
      "cell_type": "code",
      "metadata": {
        "colab": {
          "base_uri": "https://localhost:8080/"
        },
        "id": "pQsRz0DXv8Lh",
        "outputId": "58cd401c-324e-469e-8355-d67c8b61bf49"
      },
      "source": [
        "fruits = ['apple','banana','cherry','orange']\n",
        "\n",
        "fruits"
      ],
      "execution_count": null,
      "outputs": [
        {
          "output_type": "execute_result",
          "data": {
            "text/plain": [
              "['apple', 'banana', 'cherry', 'orange']"
            ]
          },
          "metadata": {
            "tags": []
          },
          "execution_count": 169
        }
      ]
    },
    {
      "cell_type": "code",
      "metadata": {
        "colab": {
          "base_uri": "https://localhost:8080/"
        },
        "id": "kQcc7KIPn7q8",
        "outputId": "2447235f-1386-4f60-dac4-59cab6ca8a02"
      },
      "source": [
        "fruits[:]"
      ],
      "execution_count": null,
      "outputs": [
        {
          "output_type": "execute_result",
          "data": {
            "text/plain": [
              "['apple', 'banana', 'cherry', 'orange']"
            ]
          },
          "metadata": {
            "tags": []
          },
          "execution_count": 141
        }
      ]
    },
    {
      "cell_type": "code",
      "metadata": {
        "colab": {
          "base_uri": "https://localhost:8080/"
        },
        "id": "fD0BLAdrwCBw",
        "outputId": "4b4a25d0-64fe-4b27-fd84-a1f8ccc6a0f4"
      },
      "source": [
        "fruits[:2]"
      ],
      "execution_count": null,
      "outputs": [
        {
          "output_type": "execute_result",
          "data": {
            "text/plain": [
              "['apple', 'banana']"
            ]
          },
          "metadata": {
            "tags": []
          },
          "execution_count": 142
        }
      ]
    },
    {
      "cell_type": "code",
      "metadata": {
        "colab": {
          "base_uri": "https://localhost:8080/"
        },
        "id": "R8eUb3URwDLW",
        "outputId": "ae4d9f13-fac1-4fce-899d-ee50d453a20d"
      },
      "source": [
        "fruits[1:3]"
      ],
      "execution_count": null,
      "outputs": [
        {
          "output_type": "execute_result",
          "data": {
            "text/plain": [
              "['banana', 'cherry']"
            ]
          },
          "metadata": {
            "tags": []
          },
          "execution_count": 143
        }
      ]
    },
    {
      "cell_type": "code",
      "metadata": {
        "colab": {
          "base_uri": "https://localhost:8080/"
        },
        "id": "kugSeY44wFI7",
        "outputId": "bc904d37-f23e-45c6-d312-ea0185d03356"
      },
      "source": [
        "fruits[:-1]"
      ],
      "execution_count": null,
      "outputs": [
        {
          "output_type": "execute_result",
          "data": {
            "text/plain": [
              "['apple', 'banana', 'cherry']"
            ]
          },
          "metadata": {
            "tags": []
          },
          "execution_count": 144
        }
      ]
    },
    {
      "cell_type": "code",
      "metadata": {
        "colab": {
          "base_uri": "https://localhost:8080/"
        },
        "id": "v1gZzzKHwGyp",
        "outputId": "543e49c7-8855-4201-90a7-6fa6efb41407"
      },
      "source": [
        "fruits[::-1]"
      ],
      "execution_count": null,
      "outputs": [
        {
          "output_type": "execute_result",
          "data": {
            "text/plain": [
              "['orange', 'cherry', 'banana', 'apple']"
            ]
          },
          "metadata": {
            "tags": []
          },
          "execution_count": 145
        }
      ]
    },
    {
      "cell_type": "code",
      "metadata": {
        "colab": {
          "base_uri": "https://localhost:8080/"
        },
        "id": "tNQYNts_wIqh",
        "outputId": "51c7d809-5aba-4b10-a19b-94086cbb904a"
      },
      "source": [
        "fruits[-3:-1]"
      ],
      "execution_count": null,
      "outputs": [
        {
          "output_type": "execute_result",
          "data": {
            "text/plain": [
              "['banana', 'cherry']"
            ]
          },
          "metadata": {
            "tags": []
          },
          "execution_count": 148
        }
      ]
    },
    {
      "cell_type": "code",
      "metadata": {
        "colab": {
          "base_uri": "https://localhost:8080/"
        },
        "id": "1YfS6ry6wM9d",
        "outputId": "30bd2077-0b09-42ea-c1f4-ac8c8e0437fa"
      },
      "source": [
        "fruits[::2]"
      ],
      "execution_count": null,
      "outputs": [
        {
          "output_type": "execute_result",
          "data": {
            "text/plain": [
              "['apple', 'cherry']"
            ]
          },
          "metadata": {
            "tags": []
          },
          "execution_count": 150
        }
      ]
    },
    {
      "cell_type": "code",
      "metadata": {
        "colab": {
          "base_uri": "https://localhost:8080/"
        },
        "id": "syBDZc3VwvZZ",
        "outputId": "4d8c6b29-4a04-4955-a037-f5be2691dbed"
      },
      "source": [
        "fruits[::3]"
      ],
      "execution_count": null,
      "outputs": [
        {
          "output_type": "execute_result",
          "data": {
            "text/plain": [
              "['apple', 'orange']"
            ]
          },
          "metadata": {
            "tags": []
          },
          "execution_count": 155
        }
      ]
    },
    {
      "cell_type": "code",
      "metadata": {
        "colab": {
          "base_uri": "https://localhost:8080/"
        },
        "id": "5iW4Ugfzw9CL",
        "outputId": "0cfc6de4-1c24-4cd8-c777-88685dd1cdce"
      },
      "source": [
        "fruits"
      ],
      "execution_count": null,
      "outputs": [
        {
          "output_type": "execute_result",
          "data": {
            "text/plain": [
              "['apple', 'banana', 'cherry', 'orange']"
            ]
          },
          "metadata": {
            "tags": []
          },
          "execution_count": 154
        }
      ]
    },
    {
      "cell_type": "code",
      "metadata": {
        "id": "avgRF23Pw96I"
      },
      "source": [
        "fruits[1] = 'Kiwi'"
      ],
      "execution_count": null,
      "outputs": []
    },
    {
      "cell_type": "code",
      "metadata": {
        "colab": {
          "base_uri": "https://localhost:8080/"
        },
        "id": "M_cs9nfNxK-6",
        "outputId": "07414387-5709-4c62-fe64-09b7908a0239"
      },
      "source": [
        "fruits"
      ],
      "execution_count": null,
      "outputs": [
        {
          "output_type": "execute_result",
          "data": {
            "text/plain": [
              "['apple', 'Kiwi', 'cherry', 'orange']"
            ]
          },
          "metadata": {
            "tags": []
          },
          "execution_count": 157
        }
      ]
    },
    {
      "cell_type": "markdown",
      "metadata": {
        "id": "TzbDCmFyxSUe"
      },
      "source": [
        "Adding items in List"
      ]
    },
    {
      "cell_type": "code",
      "metadata": {
        "colab": {
          "base_uri": "https://localhost:8080/"
        },
        "id": "OpepuYALxLcu",
        "outputId": "fca5c568-4319-4203-aa83-ee41a283946b"
      },
      "source": [
        "#Append\n",
        "print(fruits)"
      ],
      "execution_count": null,
      "outputs": [
        {
          "output_type": "stream",
          "text": [
            "['apple', 'Kiwi', 'cherry', 'orange']\n"
          ],
          "name": "stdout"
        }
      ]
    },
    {
      "cell_type": "code",
      "metadata": {
        "id": "nTZdhX6JxY5w"
      },
      "source": [
        "fruits.append('mango')"
      ],
      "execution_count": null,
      "outputs": []
    },
    {
      "cell_type": "code",
      "metadata": {
        "colab": {
          "base_uri": "https://localhost:8080/"
        },
        "id": "IpYlR_Vixcmu",
        "outputId": "ca44c0ce-66cb-46b5-ec3d-f1cf9d3d89ab"
      },
      "source": [
        "fruits.append('Banana')\n",
        "print(fruits)"
      ],
      "execution_count": null,
      "outputs": [
        {
          "output_type": "stream",
          "text": [
            "['apple', 'Kiwi', 'cherry', 'orange', 'mango', 'Banana']\n"
          ],
          "name": "stdout"
        }
      ]
    },
    {
      "cell_type": "code",
      "metadata": {
        "colab": {
          "base_uri": "https://localhost:8080/"
        },
        "id": "RHfkm50GxfTm",
        "outputId": "aa9b6bee-cb10-4557-b81b-cb90d537ed78"
      },
      "source": [
        "#Insert method  insert(index, value)\n",
        "fruits.insert(3,'custard apple')\n",
        "print(fruits)"
      ],
      "execution_count": null,
      "outputs": [
        {
          "output_type": "stream",
          "text": [
            "['apple', 'Kiwi', 'cherry', 'custard apple', 'orange', 'mango', 'Banana']\n"
          ],
          "name": "stdout"
        }
      ]
    },
    {
      "cell_type": "code",
      "metadata": {
        "id": "2NhKaGT1yUU7"
      },
      "source": [
        "fruits.insert(6,\"watermelon\")"
      ],
      "execution_count": null,
      "outputs": []
    },
    {
      "cell_type": "code",
      "metadata": {
        "colab": {
          "base_uri": "https://localhost:8080/"
        },
        "id": "kdF5je5Mz7F4",
        "outputId": "adb8bee4-ea94-4f6d-a187-e2949b6547e2"
      },
      "source": [
        "print(fruits)"
      ],
      "execution_count": null,
      "outputs": [
        {
          "output_type": "stream",
          "text": [
            "['apple', 'Kiwi', 'cherry', 'custard apple', 'orange', 'mango', 'watermelon', 'Banana']\n"
          ],
          "name": "stdout"
        }
      ]
    },
    {
      "cell_type": "code",
      "metadata": {
        "colab": {
          "base_uri": "https://localhost:8080/"
        },
        "id": "RuZ6UKzTz8JA",
        "outputId": "a7f6b01d-bb4b-49f6-c015-b972ff4cb191"
      },
      "source": [
        "#Extend List\n",
        "a = [1,2,3]\n",
        "b = [4,5,6]\n",
        "a.extend(b)\n",
        "print(a)\n",
        "print(b)"
      ],
      "execution_count": null,
      "outputs": [
        {
          "output_type": "stream",
          "text": [
            "[1, 2, 3, 4, 5, 6]\n",
            "[4, 5, 6]\n"
          ],
          "name": "stdout"
        }
      ]
    },
    {
      "cell_type": "markdown",
      "metadata": {
        "id": "lI3ArsxN0T4m"
      },
      "source": [
        "Removing List Items"
      ]
    },
    {
      "cell_type": "code",
      "metadata": {
        "colab": {
          "base_uri": "https://localhost:8080/"
        },
        "id": "QQ9iAu750KCd",
        "outputId": "f57f766b-ca4d-4f79-8a8b-0d516fe68a05"
      },
      "source": [
        "print(fruits)"
      ],
      "execution_count": null,
      "outputs": [
        {
          "output_type": "stream",
          "text": [
            "['apple', 'Kiwi', 'cherry', 'custard apple', 'orange', 'mango', 'watermelon', 'Banana']\n"
          ],
          "name": "stdout"
        }
      ]
    },
    {
      "cell_type": "code",
      "metadata": {
        "colab": {
          "base_uri": "https://localhost:8080/"
        },
        "id": "p8wz5nAC0bh5",
        "outputId": "e0fdffd7-1211-4b13-e3fa-46aa9fef79fd"
      },
      "source": [
        "#remove\n",
        "fruits.remove(\"custard apple\")\n",
        "print(fruits)"
      ],
      "execution_count": null,
      "outputs": [
        {
          "output_type": "stream",
          "text": [
            "['apple', 'Kiwi', 'cherry', 'orange', 'mango', 'watermelon', 'Banana']\n"
          ],
          "name": "stdout"
        }
      ]
    },
    {
      "cell_type": "code",
      "metadata": {
        "colab": {
          "base_uri": "https://localhost:8080/"
        },
        "id": "pWgjXnk20i3v",
        "outputId": "be3b5ff0-06ae-4e73-8657-0fb00b160d9c"
      },
      "source": [
        "fruits.remove('Kiwi')\n",
        "print(fruits)"
      ],
      "execution_count": null,
      "outputs": [
        {
          "output_type": "stream",
          "text": [
            "['apple', 'cherry', 'orange', 'mango', 'watermelon', 'Banana']\n"
          ],
          "name": "stdout"
        }
      ]
    },
    {
      "cell_type": "code",
      "metadata": {
        "colab": {
          "base_uri": "https://localhost:8080/"
        },
        "id": "PacBjXq-0p1C",
        "outputId": "48cd593f-9ec2-4144-ea57-3eba7c6fbba3"
      },
      "source": [
        "#POP\n",
        "fruits.pop()\n",
        "print(fruits)"
      ],
      "execution_count": null,
      "outputs": [
        {
          "output_type": "stream",
          "text": [
            "['apple', 'cherry', 'orange', 'mango', 'watermelon']\n"
          ],
          "name": "stdout"
        }
      ]
    },
    {
      "cell_type": "code",
      "metadata": {
        "colab": {
          "base_uri": "https://localhost:8080/"
        },
        "id": "9lZCr8dE00Qy",
        "outputId": "1a7c90a9-6d11-490f-bb27-4fb4ad854a83"
      },
      "source": [
        "fruits.pop(3)\n",
        "print(fruits)"
      ],
      "execution_count": null,
      "outputs": [
        {
          "output_type": "stream",
          "text": [
            "['apple', 'cherry', 'orange', 'watermelon']\n"
          ],
          "name": "stdout"
        }
      ]
    },
    {
      "cell_type": "code",
      "metadata": {
        "colab": {
          "base_uri": "https://localhost:8080/"
        },
        "id": "4bIxNb9y04c8",
        "outputId": "becfd6c5-ea83-42c1-bc0e-211e698d0a22"
      },
      "source": [
        "#del \n",
        "a = [1,2,3,4,5]\n",
        "del a[1]\n",
        "print(a)"
      ],
      "execution_count": null,
      "outputs": [
        {
          "output_type": "stream",
          "text": [
            "[1, 3, 4, 5]\n"
          ],
          "name": "stdout"
        }
      ]
    },
    {
      "cell_type": "code",
      "metadata": {
        "colab": {
          "base_uri": "https://localhost:8080/"
        },
        "id": "BM6CbchE1BpO",
        "outputId": "50a82a33-6f89-4703-e5bf-519aac49bdbd"
      },
      "source": [
        "print(a)\n",
        "del a\n",
        "#print(a)"
      ],
      "execution_count": null,
      "outputs": [
        {
          "output_type": "stream",
          "text": [
            "[1, 3, 4, 5]\n"
          ],
          "name": "stdout"
        }
      ]
    },
    {
      "cell_type": "code",
      "metadata": {
        "colab": {
          "base_uri": "https://localhost:8080/"
        },
        "id": "NzHZx_nk1HHD",
        "outputId": "e0128022-0b90-4ee3-a2aa-36fed375d751"
      },
      "source": [
        "#clear\n",
        "b = [2,3,4,5,6]\n",
        "print(b)\n",
        "b.clear()\n",
        "print(b)"
      ],
      "execution_count": null,
      "outputs": [
        {
          "output_type": "stream",
          "text": [
            "[2, 3, 4, 5, 6]\n",
            "[]\n"
          ],
          "name": "stdout"
        }
      ]
    },
    {
      "cell_type": "markdown",
      "metadata": {
        "id": "B8kndvXz1shy"
      },
      "source": [
        "Looping through Lists"
      ]
    },
    {
      "cell_type": "code",
      "metadata": {
        "colab": {
          "base_uri": "https://localhost:8080/"
        },
        "id": "sUJflzH91mgb",
        "outputId": "219b73e0-b1af-485a-97b6-49cdd4c49276"
      },
      "source": [
        "print(fruits)"
      ],
      "execution_count": null,
      "outputs": [
        {
          "output_type": "stream",
          "text": [
            "['apple', 'cherry', 'orange', 'watermelon']\n"
          ],
          "name": "stdout"
        }
      ]
    },
    {
      "cell_type": "code",
      "metadata": {
        "colab": {
          "base_uri": "https://localhost:8080/"
        },
        "id": "VFuJi2nt17Yl",
        "outputId": "d8a566d5-529c-49d9-bb35-4441f5dbdded"
      },
      "source": [
        "for i in fruits:\n",
        "  print(i)"
      ],
      "execution_count": null,
      "outputs": [
        {
          "output_type": "stream",
          "text": [
            "apple\n",
            "cherry\n",
            "orange\n",
            "watermelon\n"
          ],
          "name": "stdout"
        }
      ]
    },
    {
      "cell_type": "code",
      "metadata": {
        "colab": {
          "base_uri": "https://localhost:8080/"
        },
        "id": "iA8tfOd81_Qj",
        "outputId": "7998cee9-7b9b-4b03-a010-e3332e16db48"
      },
      "source": [
        "#Looping through index numbers\n",
        "for i in range(len(fruits)):\n",
        "  print(fruits[i])"
      ],
      "execution_count": null,
      "outputs": [
        {
          "output_type": "stream",
          "text": [
            "apple\n",
            "cherry\n",
            "orange\n",
            "watermelon\n"
          ],
          "name": "stdout"
        }
      ]
    },
    {
      "cell_type": "code",
      "metadata": {
        "colab": {
          "base_uri": "https://localhost:8080/"
        },
        "id": "U5DHwjQE2HDQ",
        "outputId": "1c259498-083a-4e4a-ca2b-8d5e043381a4"
      },
      "source": [
        "#Using While loop\n",
        "fruits = ['apple','Mango', 'cherry', 'orange', 'watermelon']\n",
        "i=0\n",
        "while i<len(fruits):\n",
        "  print(fruits[i])\n",
        "  i+=1"
      ],
      "execution_count": null,
      "outputs": [
        {
          "output_type": "stream",
          "text": [
            "apple\n",
            "Mango\n",
            "cherry\n",
            "orange\n",
            "watermelon\n"
          ],
          "name": "stdout"
        }
      ]
    },
    {
      "cell_type": "code",
      "metadata": {
        "id": "LAUEZ9Ze2Z1E"
      },
      "source": [
        ""
      ],
      "execution_count": null,
      "outputs": []
    }
  ]
}